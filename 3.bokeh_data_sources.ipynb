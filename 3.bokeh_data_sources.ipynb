{
 "cells": [
  {
   "cell_type": "markdown",
   "metadata": {},
   "source": [
    "# Bokeh: Data Sources & Transformation\n",
    "\n",
    "Most parts of this tutorial are taken from the bokeh [website](https://docs.bokeh.org/en/latest/index.html)."
   ]
  },
  {
   "cell_type": "markdown",
   "metadata": {},
   "source": [
    "## Imports and Setup\n",
    "\n",
    "First, let's make the standard imports:"
   ]
  },
  {
   "cell_type": "code",
   "execution_count": 1,
   "metadata": {},
   "outputs": [],
   "source": [
    "from bokeh.io import output_notebook, show\n",
    "from bokeh.plotting import figure"
   ]
  },
  {
   "cell_type": "code",
   "execution_count": 2,
   "metadata": {},
   "outputs": [
    {
     "data": {
      "text/html": [
       "\n",
       "    <div class=\"bk-root\">\n",
       "        <a href=\"https://bokeh.org\" target=\"_blank\" class=\"bk-logo bk-logo-small bk-logo-notebook\"></a>\n",
       "        <span id=\"1002\">Loading BokehJS ...</span>\n",
       "    </div>"
      ]
     },
     "metadata": {},
     "output_type": "display_data"
    },
    {
     "data": {
      "application/javascript": [
       "\n",
       "(function(root) {\n",
       "  function now() {\n",
       "    return new Date();\n",
       "  }\n",
       "\n",
       "  var force = true;\n",
       "\n",
       "  if (typeof root._bokeh_onload_callbacks === \"undefined\" || force === true) {\n",
       "    root._bokeh_onload_callbacks = [];\n",
       "    root._bokeh_is_loading = undefined;\n",
       "  }\n",
       "\n",
       "  var JS_MIME_TYPE = 'application/javascript';\n",
       "  var HTML_MIME_TYPE = 'text/html';\n",
       "  var EXEC_MIME_TYPE = 'application/vnd.bokehjs_exec.v0+json';\n",
       "  var CLASS_NAME = 'output_bokeh rendered_html';\n",
       "\n",
       "  /**\n",
       "   * Render data to the DOM node\n",
       "   */\n",
       "  function render(props, node) {\n",
       "    var script = document.createElement(\"script\");\n",
       "    node.appendChild(script);\n",
       "  }\n",
       "\n",
       "  /**\n",
       "   * Handle when an output is cleared or removed\n",
       "   */\n",
       "  function handleClearOutput(event, handle) {\n",
       "    var cell = handle.cell;\n",
       "\n",
       "    var id = cell.output_area._bokeh_element_id;\n",
       "    var server_id = cell.output_area._bokeh_server_id;\n",
       "    // Clean up Bokeh references\n",
       "    if (id != null && id in Bokeh.index) {\n",
       "      Bokeh.index[id].model.document.clear();\n",
       "      delete Bokeh.index[id];\n",
       "    }\n",
       "\n",
       "    if (server_id !== undefined) {\n",
       "      // Clean up Bokeh references\n",
       "      var cmd = \"from bokeh.io.state import curstate; print(curstate().uuid_to_server['\" + server_id + \"'].get_sessions()[0].document.roots[0]._id)\";\n",
       "      cell.notebook.kernel.execute(cmd, {\n",
       "        iopub: {\n",
       "          output: function(msg) {\n",
       "            var id = msg.content.text.trim();\n",
       "            if (id in Bokeh.index) {\n",
       "              Bokeh.index[id].model.document.clear();\n",
       "              delete Bokeh.index[id];\n",
       "            }\n",
       "          }\n",
       "        }\n",
       "      });\n",
       "      // Destroy server and session\n",
       "      var cmd = \"import bokeh.io.notebook as ion; ion.destroy_server('\" + server_id + \"')\";\n",
       "      cell.notebook.kernel.execute(cmd);\n",
       "    }\n",
       "  }\n",
       "\n",
       "  /**\n",
       "   * Handle when a new output is added\n",
       "   */\n",
       "  function handleAddOutput(event, handle) {\n",
       "    var output_area = handle.output_area;\n",
       "    var output = handle.output;\n",
       "\n",
       "    // limit handleAddOutput to display_data with EXEC_MIME_TYPE content only\n",
       "    if ((output.output_type != \"display_data\") || (!Object.prototype.hasOwnProperty.call(output.data, EXEC_MIME_TYPE))) {\n",
       "      return\n",
       "    }\n",
       "\n",
       "    var toinsert = output_area.element.find(\".\" + CLASS_NAME.split(' ')[0]);\n",
       "\n",
       "    if (output.metadata[EXEC_MIME_TYPE][\"id\"] !== undefined) {\n",
       "      toinsert[toinsert.length - 1].firstChild.textContent = output.data[JS_MIME_TYPE];\n",
       "      // store reference to embed id on output_area\n",
       "      output_area._bokeh_element_id = output.metadata[EXEC_MIME_TYPE][\"id\"];\n",
       "    }\n",
       "    if (output.metadata[EXEC_MIME_TYPE][\"server_id\"] !== undefined) {\n",
       "      var bk_div = document.createElement(\"div\");\n",
       "      bk_div.innerHTML = output.data[HTML_MIME_TYPE];\n",
       "      var script_attrs = bk_div.children[0].attributes;\n",
       "      for (var i = 0; i < script_attrs.length; i++) {\n",
       "        toinsert[toinsert.length - 1].firstChild.setAttribute(script_attrs[i].name, script_attrs[i].value);\n",
       "        toinsert[toinsert.length - 1].firstChild.textContent = bk_div.children[0].textContent\n",
       "      }\n",
       "      // store reference to server id on output_area\n",
       "      output_area._bokeh_server_id = output.metadata[EXEC_MIME_TYPE][\"server_id\"];\n",
       "    }\n",
       "  }\n",
       "\n",
       "  function register_renderer(events, OutputArea) {\n",
       "\n",
       "    function append_mime(data, metadata, element) {\n",
       "      // create a DOM node to render to\n",
       "      var toinsert = this.create_output_subarea(\n",
       "        metadata,\n",
       "        CLASS_NAME,\n",
       "        EXEC_MIME_TYPE\n",
       "      );\n",
       "      this.keyboard_manager.register_events(toinsert);\n",
       "      // Render to node\n",
       "      var props = {data: data, metadata: metadata[EXEC_MIME_TYPE]};\n",
       "      render(props, toinsert[toinsert.length - 1]);\n",
       "      element.append(toinsert);\n",
       "      return toinsert\n",
       "    }\n",
       "\n",
       "    /* Handle when an output is cleared or removed */\n",
       "    events.on('clear_output.CodeCell', handleClearOutput);\n",
       "    events.on('delete.Cell', handleClearOutput);\n",
       "\n",
       "    /* Handle when a new output is added */\n",
       "    events.on('output_added.OutputArea', handleAddOutput);\n",
       "\n",
       "    /**\n",
       "     * Register the mime type and append_mime function with output_area\n",
       "     */\n",
       "    OutputArea.prototype.register_mime_type(EXEC_MIME_TYPE, append_mime, {\n",
       "      /* Is output safe? */\n",
       "      safe: true,\n",
       "      /* Index of renderer in `output_area.display_order` */\n",
       "      index: 0\n",
       "    });\n",
       "  }\n",
       "\n",
       "  // register the mime type if in Jupyter Notebook environment and previously unregistered\n",
       "  if (root.Jupyter !== undefined) {\n",
       "    var events = require('base/js/events');\n",
       "    var OutputArea = require('notebook/js/outputarea').OutputArea;\n",
       "\n",
       "    if (OutputArea.prototype.mime_types().indexOf(EXEC_MIME_TYPE) == -1) {\n",
       "      register_renderer(events, OutputArea);\n",
       "    }\n",
       "  }\n",
       "\n",
       "  \n",
       "  if (typeof (root._bokeh_timeout) === \"undefined\" || force === true) {\n",
       "    root._bokeh_timeout = Date.now() + 5000;\n",
       "    root._bokeh_failed_load = false;\n",
       "  }\n",
       "\n",
       "  var NB_LOAD_WARNING = {'data': {'text/html':\n",
       "     \"<div style='background-color: #fdd'>\\n\"+\n",
       "     \"<p>\\n\"+\n",
       "     \"BokehJS does not appear to have successfully loaded. If loading BokehJS from CDN, this \\n\"+\n",
       "     \"may be due to a slow or bad network connection. Possible fixes:\\n\"+\n",
       "     \"</p>\\n\"+\n",
       "     \"<ul>\\n\"+\n",
       "     \"<li>re-rerun `output_notebook()` to attempt to load from CDN again, or</li>\\n\"+\n",
       "     \"<li>use INLINE resources instead, as so:</li>\\n\"+\n",
       "     \"</ul>\\n\"+\n",
       "     \"<code>\\n\"+\n",
       "     \"from bokeh.resources import INLINE\\n\"+\n",
       "     \"output_notebook(resources=INLINE)\\n\"+\n",
       "     \"</code>\\n\"+\n",
       "     \"</div>\"}};\n",
       "\n",
       "  function display_loaded() {\n",
       "    var el = document.getElementById(\"1002\");\n",
       "    if (el != null) {\n",
       "      el.textContent = \"BokehJS is loading...\";\n",
       "    }\n",
       "    if (root.Bokeh !== undefined) {\n",
       "      if (el != null) {\n",
       "        el.textContent = \"BokehJS \" + root.Bokeh.version + \" successfully loaded.\";\n",
       "      }\n",
       "    } else if (Date.now() < root._bokeh_timeout) {\n",
       "      setTimeout(display_loaded, 100)\n",
       "    }\n",
       "  }\n",
       "\n",
       "\n",
       "  function run_callbacks() {\n",
       "    try {\n",
       "      root._bokeh_onload_callbacks.forEach(function(callback) {\n",
       "        if (callback != null)\n",
       "          callback();\n",
       "      });\n",
       "    } finally {\n",
       "      delete root._bokeh_onload_callbacks\n",
       "    }\n",
       "    console.debug(\"Bokeh: all callbacks have finished\");\n",
       "  }\n",
       "\n",
       "  function load_libs(css_urls, js_urls, callback) {\n",
       "    if (css_urls == null) css_urls = [];\n",
       "    if (js_urls == null) js_urls = [];\n",
       "\n",
       "    root._bokeh_onload_callbacks.push(callback);\n",
       "    if (root._bokeh_is_loading > 0) {\n",
       "      console.debug(\"Bokeh: BokehJS is being loaded, scheduling callback at\", now());\n",
       "      return null;\n",
       "    }\n",
       "    if (js_urls == null || js_urls.length === 0) {\n",
       "      run_callbacks();\n",
       "      return null;\n",
       "    }\n",
       "    console.debug(\"Bokeh: BokehJS not loaded, scheduling load and callback at\", now());\n",
       "    root._bokeh_is_loading = css_urls.length + js_urls.length;\n",
       "\n",
       "    function on_load() {\n",
       "      root._bokeh_is_loading--;\n",
       "      if (root._bokeh_is_loading === 0) {\n",
       "        console.debug(\"Bokeh: all BokehJS libraries/stylesheets loaded\");\n",
       "        run_callbacks()\n",
       "      }\n",
       "    }\n",
       "\n",
       "    function on_error(url) {\n",
       "      console.error(\"failed to load \" + url);\n",
       "    }\n",
       "\n",
       "    for (let i = 0; i < css_urls.length; i++) {\n",
       "      const url = css_urls[i];\n",
       "      const element = document.createElement(\"link\");\n",
       "      element.onload = on_load;\n",
       "      element.onerror = on_error.bind(null, url);\n",
       "      element.rel = \"stylesheet\";\n",
       "      element.type = \"text/css\";\n",
       "      element.href = url;\n",
       "      console.debug(\"Bokeh: injecting link tag for BokehJS stylesheet: \", url);\n",
       "      document.body.appendChild(element);\n",
       "    }\n",
       "\n",
       "    const hashes = {\"https://cdn.bokeh.org/bokeh/release/bokeh-2.3.3.min.js\": \"dM3QQsP+wXdHg42wTqW85BjZQdLNNIXqlPw/BgKoExPmTG7ZLML4EGqLMfqHT6ON\", \"https://cdn.bokeh.org/bokeh/release/bokeh-tables-2.3.3.min.js\": \"8x57I4YuIfu8XyZfFo0XVr2WAT8EK4rh/uDe3wF7YuW2FNUSNEpJbsPaB1nJ2fz2\", \"https://cdn.bokeh.org/bokeh/release/bokeh-widgets-2.3.3.min.js\": \"3QTqdz9LyAm2i0sG5XTePsHec3UHWwVsrOL68SYRoAXsafvfAyqtQ+h440+qIBhS\"};\n",
       "\n",
       "    for (let i = 0; i < js_urls.length; i++) {\n",
       "      const url = js_urls[i];\n",
       "      const element = document.createElement('script');\n",
       "      element.onload = on_load;\n",
       "      element.onerror = on_error.bind(null, url);\n",
       "      element.async = false;\n",
       "      element.src = url;\n",
       "      if (url in hashes) {\n",
       "        element.crossOrigin = \"anonymous\";\n",
       "        element.integrity = \"sha384-\" + hashes[url];\n",
       "      }\n",
       "      console.debug(\"Bokeh: injecting script tag for BokehJS library: \", url);\n",
       "      document.head.appendChild(element);\n",
       "    }\n",
       "  };\n",
       "\n",
       "  function inject_raw_css(css) {\n",
       "    const element = document.createElement(\"style\");\n",
       "    element.appendChild(document.createTextNode(css));\n",
       "    document.body.appendChild(element);\n",
       "  }\n",
       "\n",
       "  \n",
       "  var js_urls = [\"https://cdn.bokeh.org/bokeh/release/bokeh-2.3.3.min.js\", \"https://cdn.bokeh.org/bokeh/release/bokeh-widgets-2.3.3.min.js\", \"https://cdn.bokeh.org/bokeh/release/bokeh-tables-2.3.3.min.js\"];\n",
       "  var css_urls = [];\n",
       "  \n",
       "\n",
       "  var inline_js = [\n",
       "    function(Bokeh) {\n",
       "      Bokeh.set_log_level(\"info\");\n",
       "    },\n",
       "    function(Bokeh) {\n",
       "    \n",
       "    \n",
       "    }\n",
       "  ];\n",
       "\n",
       "  function run_inline_js() {\n",
       "    \n",
       "    if (root.Bokeh !== undefined || force === true) {\n",
       "      \n",
       "    for (var i = 0; i < inline_js.length; i++) {\n",
       "      inline_js[i].call(root, root.Bokeh);\n",
       "    }\n",
       "    if (force === true) {\n",
       "        display_loaded();\n",
       "      }} else if (Date.now() < root._bokeh_timeout) {\n",
       "      setTimeout(run_inline_js, 100);\n",
       "    } else if (!root._bokeh_failed_load) {\n",
       "      console.log(\"Bokeh: BokehJS failed to load within specified timeout.\");\n",
       "      root._bokeh_failed_load = true;\n",
       "    } else if (force !== true) {\n",
       "      var cell = $(document.getElementById(\"1002\")).parents('.cell').data().cell;\n",
       "      cell.output_area.append_execute_result(NB_LOAD_WARNING)\n",
       "    }\n",
       "\n",
       "  }\n",
       "\n",
       "  if (root._bokeh_is_loading === 0) {\n",
       "    console.debug(\"Bokeh: BokehJS loaded, going straight to plotting\");\n",
       "    run_inline_js();\n",
       "  } else {\n",
       "    load_libs(css_urls, js_urls, function() {\n",
       "      console.debug(\"Bokeh: BokehJS plotting callback run at\", now());\n",
       "      run_inline_js();\n",
       "    });\n",
       "  }\n",
       "}(window));"
      ],
      "application/vnd.bokehjs_load.v0+json": "\n(function(root) {\n  function now() {\n    return new Date();\n  }\n\n  var force = true;\n\n  if (typeof root._bokeh_onload_callbacks === \"undefined\" || force === true) {\n    root._bokeh_onload_callbacks = [];\n    root._bokeh_is_loading = undefined;\n  }\n\n  \n\n  \n  if (typeof (root._bokeh_timeout) === \"undefined\" || force === true) {\n    root._bokeh_timeout = Date.now() + 5000;\n    root._bokeh_failed_load = false;\n  }\n\n  var NB_LOAD_WARNING = {'data': {'text/html':\n     \"<div style='background-color: #fdd'>\\n\"+\n     \"<p>\\n\"+\n     \"BokehJS does not appear to have successfully loaded. If loading BokehJS from CDN, this \\n\"+\n     \"may be due to a slow or bad network connection. Possible fixes:\\n\"+\n     \"</p>\\n\"+\n     \"<ul>\\n\"+\n     \"<li>re-rerun `output_notebook()` to attempt to load from CDN again, or</li>\\n\"+\n     \"<li>use INLINE resources instead, as so:</li>\\n\"+\n     \"</ul>\\n\"+\n     \"<code>\\n\"+\n     \"from bokeh.resources import INLINE\\n\"+\n     \"output_notebook(resources=INLINE)\\n\"+\n     \"</code>\\n\"+\n     \"</div>\"}};\n\n  function display_loaded() {\n    var el = document.getElementById(\"1002\");\n    if (el != null) {\n      el.textContent = \"BokehJS is loading...\";\n    }\n    if (root.Bokeh !== undefined) {\n      if (el != null) {\n        el.textContent = \"BokehJS \" + root.Bokeh.version + \" successfully loaded.\";\n      }\n    } else if (Date.now() < root._bokeh_timeout) {\n      setTimeout(display_loaded, 100)\n    }\n  }\n\n\n  function run_callbacks() {\n    try {\n      root._bokeh_onload_callbacks.forEach(function(callback) {\n        if (callback != null)\n          callback();\n      });\n    } finally {\n      delete root._bokeh_onload_callbacks\n    }\n    console.debug(\"Bokeh: all callbacks have finished\");\n  }\n\n  function load_libs(css_urls, js_urls, callback) {\n    if (css_urls == null) css_urls = [];\n    if (js_urls == null) js_urls = [];\n\n    root._bokeh_onload_callbacks.push(callback);\n    if (root._bokeh_is_loading > 0) {\n      console.debug(\"Bokeh: BokehJS is being loaded, scheduling callback at\", now());\n      return null;\n    }\n    if (js_urls == null || js_urls.length === 0) {\n      run_callbacks();\n      return null;\n    }\n    console.debug(\"Bokeh: BokehJS not loaded, scheduling load and callback at\", now());\n    root._bokeh_is_loading = css_urls.length + js_urls.length;\n\n    function on_load() {\n      root._bokeh_is_loading--;\n      if (root._bokeh_is_loading === 0) {\n        console.debug(\"Bokeh: all BokehJS libraries/stylesheets loaded\");\n        run_callbacks()\n      }\n    }\n\n    function on_error(url) {\n      console.error(\"failed to load \" + url);\n    }\n\n    for (let i = 0; i < css_urls.length; i++) {\n      const url = css_urls[i];\n      const element = document.createElement(\"link\");\n      element.onload = on_load;\n      element.onerror = on_error.bind(null, url);\n      element.rel = \"stylesheet\";\n      element.type = \"text/css\";\n      element.href = url;\n      console.debug(\"Bokeh: injecting link tag for BokehJS stylesheet: \", url);\n      document.body.appendChild(element);\n    }\n\n    const hashes = {\"https://cdn.bokeh.org/bokeh/release/bokeh-2.3.3.min.js\": \"dM3QQsP+wXdHg42wTqW85BjZQdLNNIXqlPw/BgKoExPmTG7ZLML4EGqLMfqHT6ON\", \"https://cdn.bokeh.org/bokeh/release/bokeh-tables-2.3.3.min.js\": \"8x57I4YuIfu8XyZfFo0XVr2WAT8EK4rh/uDe3wF7YuW2FNUSNEpJbsPaB1nJ2fz2\", \"https://cdn.bokeh.org/bokeh/release/bokeh-widgets-2.3.3.min.js\": \"3QTqdz9LyAm2i0sG5XTePsHec3UHWwVsrOL68SYRoAXsafvfAyqtQ+h440+qIBhS\"};\n\n    for (let i = 0; i < js_urls.length; i++) {\n      const url = js_urls[i];\n      const element = document.createElement('script');\n      element.onload = on_load;\n      element.onerror = on_error.bind(null, url);\n      element.async = false;\n      element.src = url;\n      if (url in hashes) {\n        element.crossOrigin = \"anonymous\";\n        element.integrity = \"sha384-\" + hashes[url];\n      }\n      console.debug(\"Bokeh: injecting script tag for BokehJS library: \", url);\n      document.head.appendChild(element);\n    }\n  };\n\n  function inject_raw_css(css) {\n    const element = document.createElement(\"style\");\n    element.appendChild(document.createTextNode(css));\n    document.body.appendChild(element);\n  }\n\n  \n  var js_urls = [\"https://cdn.bokeh.org/bokeh/release/bokeh-2.3.3.min.js\", \"https://cdn.bokeh.org/bokeh/release/bokeh-widgets-2.3.3.min.js\", \"https://cdn.bokeh.org/bokeh/release/bokeh-tables-2.3.3.min.js\"];\n  var css_urls = [];\n  \n\n  var inline_js = [\n    function(Bokeh) {\n      Bokeh.set_log_level(\"info\");\n    },\n    function(Bokeh) {\n    \n    \n    }\n  ];\n\n  function run_inline_js() {\n    \n    if (root.Bokeh !== undefined || force === true) {\n      \n    for (var i = 0; i < inline_js.length; i++) {\n      inline_js[i].call(root, root.Bokeh);\n    }\n    if (force === true) {\n        display_loaded();\n      }} else if (Date.now() < root._bokeh_timeout) {\n      setTimeout(run_inline_js, 100);\n    } else if (!root._bokeh_failed_load) {\n      console.log(\"Bokeh: BokehJS failed to load within specified timeout.\");\n      root._bokeh_failed_load = true;\n    } else if (force !== true) {\n      var cell = $(document.getElementById(\"1002\")).parents('.cell').data().cell;\n      cell.output_area.append_execute_result(NB_LOAD_WARNING)\n    }\n\n  }\n\n  if (root._bokeh_is_loading === 0) {\n    console.debug(\"Bokeh: BokehJS loaded, going straight to plotting\");\n    run_inline_js();\n  } else {\n    load_libs(css_urls, js_urls, function() {\n      console.debug(\"Bokeh: BokehJS plotting callback run at\", now());\n      run_inline_js();\n    });\n  }\n}(window));"
     },
     "metadata": {},
     "output_type": "display_data"
    }
   ],
   "source": [
    "output_notebook()"
   ]
  },
  {
   "cell_type": "markdown",
   "metadata": {},
   "source": [
    "This notebook uses Bokeh sample data. If you haven't downloaded it already, this can be downloaded by running the following:"
   ]
  },
  {
   "cell_type": "code",
   "execution_count": 3,
   "metadata": {
    "jupyter": {
     "outputs_hidden": true
    }
   },
   "outputs": [
    {
     "name": "stdout",
     "output_type": "stream",
     "text": [
      "Using data directory: C:\\Users\\jeani\\.bokeh\\data\n",
      "Skipping 'CGM.csv' (checksum match)\n",
      "Skipping 'US_Counties.zip' (checksum match)\n",
      "Skipping 'us_cities.json' (checksum match)\n",
      "Skipping 'unemployment09.csv' (checksum match)\n",
      "Skipping 'AAPL.csv' (checksum match)\n",
      "Skipping 'FB.csv' (checksum match)\n",
      "Skipping 'GOOG.csv' (checksum match)\n",
      "Skipping 'IBM.csv' (checksum match)\n",
      "Skipping 'MSFT.csv' (checksum match)\n",
      "Skipping 'WPP2012_SA_DB03_POPULATION_QUINQUENNIAL.zip' (checksum match)\n",
      "Skipping 'gapminder_fertility.csv' (checksum match)\n",
      "Skipping 'gapminder_population.csv' (checksum match)\n",
      "Skipping 'gapminder_life_expectancy.csv' (checksum match)\n",
      "Skipping 'gapminder_regions.csv' (checksum match)\n",
      "Skipping 'world_cities.zip' (checksum match)\n",
      "Skipping 'airports.json' (checksum match)\n",
      "Skipping 'movies.db.zip' (checksum match)\n",
      "Skipping 'airports.csv' (checksum match)\n",
      "Skipping 'routes.csv' (checksum match)\n",
      "Skipping 'haarcascade_frontalface_default.xml' (checksum match)\n"
     ]
    }
   ],
   "source": [
    "import bokeh.sampledata\n",
    "bokeh.sampledata.download()"
   ]
  },
  {
   "cell_type": "markdown",
   "metadata": {},
   "source": [
    "## Overview\n",
    "\n",
    "We've seen how Bokeh can work well with Python lists, NumPy arrays, Pandas series, etc. At lower levels, these inputs are converted to a Bokeh `ColumnDataSource`. This data type is the central data source object used throughout Bokeh. Although Bokeh often creates them for us implicitly, there are times when it is useful to create them explicitly.\n",
    "\n",
    "In later sections we will see features like hover tooltips, computed transforms, and other interactions that make use of the `ColumnDataSource`, so let's take a quick look now. "
   ]
  },
  {
   "cell_type": "markdown",
   "metadata": {},
   "source": [
    "### Creating with Python Dicts\n",
    "\n",
    "The `ColumnDataSource` can be imported from `bokeh.models`:"
   ]
  },
  {
   "cell_type": "code",
   "execution_count": 4,
   "metadata": {},
   "outputs": [],
   "source": [
    "from bokeh.models import ColumnDataSource"
   ]
  },
  {
   "cell_type": "markdown",
   "metadata": {},
   "source": [
    "The `ColumnDataSource` is a mapping of column names (strings) to sequences of values. Here is a simple example. The mapping is provided by passing a Python `dict` with string keys and simple Python lists as values. The values could also be NumPy arrays, or Pandas sequences.\n",
    "\n",
    "***NOTE: ALL the columns in a `ColumnDataSource` must always be the SAME length.***\n"
   ]
  },
  {
   "cell_type": "code",
   "execution_count": 5,
   "metadata": {},
   "outputs": [],
   "source": [
    "source = ColumnDataSource(data={\n",
    "    'x' : [1, 2, 3, 4, 5],\n",
    "    'y' : [3, 7, 8, 5, 1],\n",
    "})"
   ]
  },
  {
   "cell_type": "markdown",
   "metadata": {},
   "source": [
    "Up until now we have called functions like `p.circle` by passing in literal lists or arrays of data directly. When we do this, Bokeh automatically creates a `ColumnDataSource` for us. But it is possible to specify a `ColumnDataSource` explicitly by passing it as the `source` argument to a glyph method. Whenever we do this, if we want a property (like `\"x\"` or `\"y\"` or `\"fill_color\"`) to have a sequence of values, we pass the ***name of the column*** that we would like to use for a property:"
   ]
  },
  {
   "cell_type": "code",
   "execution_count": 6,
   "metadata": {},
   "outputs": [
    {
     "data": {
      "text/html": [
       "\n",
       "\n",
       "\n",
       "\n",
       "\n",
       "\n",
       "  <div class=\"bk-root\" id=\"59adc80b-e153-4160-8d77-4bcd0a789ee8\" data-root-id=\"1004\"></div>\n"
      ]
     },
     "metadata": {},
     "output_type": "display_data"
    },
    {
     "data": {
      "application/javascript": [
       "(function(root) {\n",
       "  function embed_document(root) {\n",
       "    \n",
       "  var docs_json = {\"070472f4-3845-4f23-99e8-de26aec2d4aa\":{\"defs\":[],\"roots\":{\"references\":[{\"attributes\":{\"below\":[{\"id\":\"1013\"}],\"center\":[{\"id\":\"1016\"},{\"id\":\"1020\"}],\"height\":400,\"left\":[{\"id\":\"1017\"}],\"renderers\":[{\"id\":\"1038\"}],\"title\":{\"id\":\"1040\"},\"toolbar\":{\"id\":\"1028\"},\"width\":400,\"x_range\":{\"id\":\"1005\"},\"x_scale\":{\"id\":\"1009\"},\"y_range\":{\"id\":\"1007\"},\"y_scale\":{\"id\":\"1011\"}},\"id\":\"1004\",\"subtype\":\"Figure\",\"type\":\"Plot\"},{\"attributes\":{},\"id\":\"1022\",\"type\":\"WheelZoomTool\"},{\"attributes\":{\"overlay\":{\"id\":\"1027\"}},\"id\":\"1023\",\"type\":\"BoxZoomTool\"},{\"attributes\":{},\"id\":\"1047\",\"type\":\"AllLabels\"},{\"attributes\":{\"formatter\":{\"id\":\"1045\"},\"major_label_policy\":{\"id\":\"1047\"},\"ticker\":{\"id\":\"1018\"}},\"id\":\"1017\",\"type\":\"LinearAxis\"},{\"attributes\":{},\"id\":\"1045\",\"type\":\"BasicTickFormatter\"},{\"attributes\":{},\"id\":\"1024\",\"type\":\"SaveTool\"},{\"attributes\":{\"data\":{\"x\":[1,2,3,4,5],\"y\":[3,7,8,5,1]},\"selected\":{\"id\":\"1049\"},\"selection_policy\":{\"id\":\"1048\"}},\"id\":\"1003\",\"type\":\"ColumnDataSource\"},{\"attributes\":{},\"id\":\"1007\",\"type\":\"DataRange1d\"},{\"attributes\":{},\"id\":\"1048\",\"type\":\"UnionRenderers\"},{\"attributes\":{},\"id\":\"1026\",\"type\":\"HelpTool\"},{\"attributes\":{},\"id\":\"1014\",\"type\":\"BasicTicker\"},{\"attributes\":{\"formatter\":{\"id\":\"1042\"},\"major_label_policy\":{\"id\":\"1044\"},\"ticker\":{\"id\":\"1014\"}},\"id\":\"1013\",\"type\":\"LinearAxis\"},{\"attributes\":{},\"id\":\"1005\",\"type\":\"DataRange1d\"},{\"attributes\":{},\"id\":\"1044\",\"type\":\"AllLabels\"},{\"attributes\":{},\"id\":\"1009\",\"type\":\"LinearScale\"},{\"attributes\":{},\"id\":\"1011\",\"type\":\"LinearScale\"},{\"attributes\":{},\"id\":\"1042\",\"type\":\"BasicTickFormatter\"},{\"attributes\":{\"fill_color\":{\"value\":\"#1f77b4\"},\"line_color\":{\"value\":\"#1f77b4\"},\"size\":{\"value\":20},\"x\":{\"field\":\"x\"},\"y\":{\"field\":\"y\"}},\"id\":\"1036\",\"type\":\"Circle\"},{\"attributes\":{\"axis\":{\"id\":\"1013\"},\"ticker\":null},\"id\":\"1016\",\"type\":\"Grid\"},{\"attributes\":{},\"id\":\"1018\",\"type\":\"BasicTicker\"},{\"attributes\":{},\"id\":\"1021\",\"type\":\"PanTool\"},{\"attributes\":{},\"id\":\"1040\",\"type\":\"Title\"},{\"attributes\":{\"data_source\":{\"id\":\"1003\"},\"glyph\":{\"id\":\"1036\"},\"hover_glyph\":null,\"muted_glyph\":null,\"nonselection_glyph\":{\"id\":\"1037\"},\"view\":{\"id\":\"1039\"}},\"id\":\"1038\",\"type\":\"GlyphRenderer\"},{\"attributes\":{\"axis\":{\"id\":\"1017\"},\"dimension\":1,\"ticker\":null},\"id\":\"1020\",\"type\":\"Grid\"},{\"attributes\":{\"bottom_units\":\"screen\",\"fill_alpha\":0.5,\"fill_color\":\"lightgrey\",\"left_units\":\"screen\",\"level\":\"overlay\",\"line_alpha\":1.0,\"line_color\":\"black\",\"line_dash\":[4,4],\"line_width\":2,\"right_units\":\"screen\",\"syncable\":false,\"top_units\":\"screen\"},\"id\":\"1027\",\"type\":\"BoxAnnotation\"},{\"attributes\":{\"active_multi\":null,\"tools\":[{\"id\":\"1021\"},{\"id\":\"1022\"},{\"id\":\"1023\"},{\"id\":\"1024\"},{\"id\":\"1025\"},{\"id\":\"1026\"}]},\"id\":\"1028\",\"type\":\"Toolbar\"},{\"attributes\":{},\"id\":\"1049\",\"type\":\"Selection\"},{\"attributes\":{\"source\":{\"id\":\"1003\"}},\"id\":\"1039\",\"type\":\"CDSView\"},{\"attributes\":{\"fill_alpha\":{\"value\":0.1},\"fill_color\":{\"value\":\"#1f77b4\"},\"line_alpha\":{\"value\":0.1},\"line_color\":{\"value\":\"#1f77b4\"},\"size\":{\"value\":20},\"x\":{\"field\":\"x\"},\"y\":{\"field\":\"y\"}},\"id\":\"1037\",\"type\":\"Circle\"},{\"attributes\":{},\"id\":\"1025\",\"type\":\"ResetTool\"}],\"root_ids\":[\"1004\"]},\"title\":\"Bokeh Application\",\"version\":\"2.3.3\"}};\n",
       "  var render_items = [{\"docid\":\"070472f4-3845-4f23-99e8-de26aec2d4aa\",\"root_ids\":[\"1004\"],\"roots\":{\"1004\":\"59adc80b-e153-4160-8d77-4bcd0a789ee8\"}}];\n",
       "  root.Bokeh.embed.embed_items_notebook(docs_json, render_items);\n",
       "\n",
       "  }\n",
       "  if (root.Bokeh !== undefined) {\n",
       "    embed_document(root);\n",
       "  } else {\n",
       "    var attempts = 0;\n",
       "    var timer = setInterval(function(root) {\n",
       "      if (root.Bokeh !== undefined) {\n",
       "        clearInterval(timer);\n",
       "        embed_document(root);\n",
       "      } else {\n",
       "        attempts++;\n",
       "        if (attempts > 100) {\n",
       "          clearInterval(timer);\n",
       "          console.log(\"Bokeh: ERROR: Unable to run BokehJS code because BokehJS library is missing\");\n",
       "        }\n",
       "      }\n",
       "    }, 10, root)\n",
       "  }\n",
       "})(window);"
      ],
      "application/vnd.bokehjs_exec.v0+json": ""
     },
     "metadata": {
      "application/vnd.bokehjs_exec.v0+json": {
       "id": "1004"
      }
     },
     "output_type": "display_data"
    }
   ],
   "source": [
    "p = figure(plot_width=400, plot_height=400)\n",
    "p.circle('x', 'y', size=20, source=source)\n",
    "show(p)"
   ]
  },
  {
   "cell_type": "markdown",
   "metadata": {},
   "source": [
    "<h3>\n",
    "<font color='blue'>\n",
    "Exercise\n",
    "</font>\n",
    "</h3>\n",
    "Create a column data source with NumPy arrays as column values and plot it."
   ]
  },
  {
   "cell_type": "code",
   "execution_count": 10,
   "metadata": {},
   "outputs": [
    {
     "data": {
      "text/html": [
       "\n",
       "\n",
       "\n",
       "\n",
       "\n",
       "\n",
       "  <div class=\"bk-root\" id=\"1864e618-5f69-419b-8ea1-1a48ab0d8cd0\" data-root-id=\"1380\"></div>\n"
      ]
     },
     "metadata": {},
     "output_type": "display_data"
    },
    {
     "data": {
      "application/javascript": [
       "(function(root) {\n",
       "  function embed_document(root) {\n",
       "    \n",
       "  var docs_json = {\"80a5043a-f338-4cc3-af70-70f486814fa3\":{\"defs\":[],\"roots\":{\"references\":[{\"attributes\":{\"below\":[{\"id\":\"1389\"}],\"center\":[{\"id\":\"1392\"},{\"id\":\"1396\"}],\"height\":400,\"left\":[{\"id\":\"1393\"}],\"renderers\":[{\"id\":\"1414\"}],\"title\":{\"id\":\"1449\"},\"toolbar\":{\"id\":\"1404\"},\"width\":400,\"x_range\":{\"id\":\"1381\"},\"x_scale\":{\"id\":\"1385\"},\"y_range\":{\"id\":\"1383\"},\"y_scale\":{\"id\":\"1387\"}},\"id\":\"1380\",\"subtype\":\"Figure\",\"type\":\"Plot\"},{\"attributes\":{\"axis\":{\"id\":\"1389\"},\"ticker\":null},\"id\":\"1392\",\"type\":\"Grid\"},{\"attributes\":{},\"id\":\"1385\",\"type\":\"LinearScale\"},{\"attributes\":{},\"id\":\"1456\",\"type\":\"AllLabels\"},{\"attributes\":{\"formatter\":{\"id\":\"1454\"},\"major_label_policy\":{\"id\":\"1456\"},\"ticker\":{\"id\":\"1394\"}},\"id\":\"1393\",\"type\":\"LinearAxis\"},{\"attributes\":{},\"id\":\"1394\",\"type\":\"BasicTicker\"},{\"attributes\":{\"data_source\":{\"id\":\"1379\"},\"glyph\":{\"id\":\"1412\"},\"hover_glyph\":null,\"muted_glyph\":null,\"nonselection_glyph\":{\"id\":\"1413\"},\"view\":{\"id\":\"1415\"}},\"id\":\"1414\",\"type\":\"GlyphRenderer\"},{\"attributes\":{},\"id\":\"1453\",\"type\":\"AllLabels\"},{\"attributes\":{},\"id\":\"1458\",\"type\":\"Selection\"},{\"attributes\":{\"active_multi\":null,\"tools\":[{\"id\":\"1397\"},{\"id\":\"1398\"},{\"id\":\"1399\"},{\"id\":\"1400\"},{\"id\":\"1401\"},{\"id\":\"1402\"}]},\"id\":\"1404\",\"type\":\"Toolbar\"},{\"attributes\":{},\"id\":\"1454\",\"type\":\"BasicTickFormatter\"},{\"attributes\":{\"axis\":{\"id\":\"1393\"},\"dimension\":1,\"ticker\":null},\"id\":\"1396\",\"type\":\"Grid\"},{\"attributes\":{},\"id\":\"1383\",\"type\":\"DataRange1d\"},{\"attributes\":{\"bottom_units\":\"screen\",\"fill_alpha\":0.5,\"fill_color\":\"lightgrey\",\"left_units\":\"screen\",\"level\":\"overlay\",\"line_alpha\":1.0,\"line_color\":\"black\",\"line_dash\":[4,4],\"line_width\":2,\"right_units\":\"screen\",\"syncable\":false,\"top_units\":\"screen\"},\"id\":\"1403\",\"type\":\"BoxAnnotation\"},{\"attributes\":{\"line_color\":\"#1f77b4\",\"x\":{\"field\":\"x\"},\"y\":{\"field\":\"y\"}},\"id\":\"1412\",\"type\":\"Line\"},{\"attributes\":{\"data\":{\"x\":[10,20,30,40,50],\"y\":[1,2,3,4,5]},\"selected\":{\"id\":\"1458\"},\"selection_policy\":{\"id\":\"1457\"}},\"id\":\"1379\",\"type\":\"ColumnDataSource\"},{\"attributes\":{},\"id\":\"1457\",\"type\":\"UnionRenderers\"},{\"attributes\":{},\"id\":\"1397\",\"type\":\"PanTool\"},{\"attributes\":{},\"id\":\"1401\",\"type\":\"ResetTool\"},{\"attributes\":{},\"id\":\"1451\",\"type\":\"BasicTickFormatter\"},{\"attributes\":{},\"id\":\"1398\",\"type\":\"WheelZoomTool\"},{\"attributes\":{\"overlay\":{\"id\":\"1403\"}},\"id\":\"1399\",\"type\":\"BoxZoomTool\"},{\"attributes\":{},\"id\":\"1381\",\"type\":\"DataRange1d\"},{\"attributes\":{},\"id\":\"1449\",\"type\":\"Title\"},{\"attributes\":{},\"id\":\"1400\",\"type\":\"SaveTool\"},{\"attributes\":{},\"id\":\"1390\",\"type\":\"BasicTicker\"},{\"attributes\":{\"source\":{\"id\":\"1379\"}},\"id\":\"1415\",\"type\":\"CDSView\"},{\"attributes\":{},\"id\":\"1387\",\"type\":\"LinearScale\"},{\"attributes\":{\"line_alpha\":0.1,\"line_color\":\"#1f77b4\",\"x\":{\"field\":\"x\"},\"y\":{\"field\":\"y\"}},\"id\":\"1413\",\"type\":\"Line\"},{\"attributes\":{},\"id\":\"1402\",\"type\":\"HelpTool\"},{\"attributes\":{\"formatter\":{\"id\":\"1451\"},\"major_label_policy\":{\"id\":\"1453\"},\"ticker\":{\"id\":\"1390\"}},\"id\":\"1389\",\"type\":\"LinearAxis\"}],\"root_ids\":[\"1380\"]},\"title\":\"Bokeh Application\",\"version\":\"2.3.3\"}};\n",
       "  var render_items = [{\"docid\":\"80a5043a-f338-4cc3-af70-70f486814fa3\",\"root_ids\":[\"1380\"],\"roots\":{\"1380\":\"1864e618-5f69-419b-8ea1-1a48ab0d8cd0\"}}];\n",
       "  root.Bokeh.embed.embed_items_notebook(docs_json, render_items);\n",
       "\n",
       "  }\n",
       "  if (root.Bokeh !== undefined) {\n",
       "    embed_document(root);\n",
       "  } else {\n",
       "    var attempts = 0;\n",
       "    var timer = setInterval(function(root) {\n",
       "      if (root.Bokeh !== undefined) {\n",
       "        clearInterval(timer);\n",
       "        embed_document(root);\n",
       "      } else {\n",
       "        attempts++;\n",
       "        if (attempts > 100) {\n",
       "          clearInterval(timer);\n",
       "          console.log(\"Bokeh: ERROR: Unable to run BokehJS code because BokehJS library is missing\");\n",
       "        }\n",
       "      }\n",
       "    }, 10, root)\n",
       "  }\n",
       "})(window);"
      ],
      "application/vnd.bokehjs_exec.v0+json": ""
     },
     "metadata": {
      "application/vnd.bokehjs_exec.v0+json": {
       "id": "1380"
      }
     },
     "output_type": "display_data"
    }
   ],
   "source": [
    "import numpy as np\n",
    "source = ColumnDataSource(data={\n",
    "    'x' : [10, 20, 30, 40, 50],\n",
    "    'y' : [1, 2, 3, 4, 5]\n",
    "})\n",
    "\n",
    "p = figure(plot_width=400, plot_height=400)\n",
    "p.line('x', 'y', source=source)\n",
    "show(p)\n"
   ]
  },
  {
   "cell_type": "markdown",
   "metadata": {},
   "source": [
    "### Creating with Pandas DataFrames\n",
    "\n",
    "It's also possible to create `ColumnDataSource` objects directly from Pandas data frames. To do this, just pass the data frame to  `ColumnDataSource` when you create it:"
   ]
  },
  {
   "cell_type": "code",
   "execution_count": 11,
   "metadata": {},
   "outputs": [
    {
     "data": {
      "text/html": [
       "<div>\n",
       "<style scoped>\n",
       "    .dataframe tbody tr th:only-of-type {\n",
       "        vertical-align: middle;\n",
       "    }\n",
       "\n",
       "    .dataframe tbody tr th {\n",
       "        vertical-align: top;\n",
       "    }\n",
       "\n",
       "    .dataframe thead th {\n",
       "        text-align: right;\n",
       "    }\n",
       "</style>\n",
       "<table border=\"1\" class=\"dataframe\">\n",
       "  <thead>\n",
       "    <tr style=\"text-align: right;\">\n",
       "      <th></th>\n",
       "      <th>sepal_length</th>\n",
       "      <th>sepal_width</th>\n",
       "      <th>petal_length</th>\n",
       "      <th>petal_width</th>\n",
       "      <th>species</th>\n",
       "    </tr>\n",
       "  </thead>\n",
       "  <tbody>\n",
       "    <tr>\n",
       "      <th>0</th>\n",
       "      <td>5.1</td>\n",
       "      <td>3.5</td>\n",
       "      <td>1.4</td>\n",
       "      <td>0.2</td>\n",
       "      <td>setosa</td>\n",
       "    </tr>\n",
       "    <tr>\n",
       "      <th>1</th>\n",
       "      <td>4.9</td>\n",
       "      <td>3.0</td>\n",
       "      <td>1.4</td>\n",
       "      <td>0.2</td>\n",
       "      <td>setosa</td>\n",
       "    </tr>\n",
       "    <tr>\n",
       "      <th>2</th>\n",
       "      <td>4.7</td>\n",
       "      <td>3.2</td>\n",
       "      <td>1.3</td>\n",
       "      <td>0.2</td>\n",
       "      <td>setosa</td>\n",
       "    </tr>\n",
       "    <tr>\n",
       "      <th>3</th>\n",
       "      <td>4.6</td>\n",
       "      <td>3.1</td>\n",
       "      <td>1.5</td>\n",
       "      <td>0.2</td>\n",
       "      <td>setosa</td>\n",
       "    </tr>\n",
       "    <tr>\n",
       "      <th>4</th>\n",
       "      <td>5.0</td>\n",
       "      <td>3.6</td>\n",
       "      <td>1.4</td>\n",
       "      <td>0.2</td>\n",
       "      <td>setosa</td>\n",
       "    </tr>\n",
       "  </tbody>\n",
       "</table>\n",
       "</div>"
      ],
      "text/plain": [
       "   sepal_length  sepal_width  petal_length  petal_width species\n",
       "0           5.1          3.5           1.4          0.2  setosa\n",
       "1           4.9          3.0           1.4          0.2  setosa\n",
       "2           4.7          3.2           1.3          0.2  setosa\n",
       "3           4.6          3.1           1.5          0.2  setosa\n",
       "4           5.0          3.6           1.4          0.2  setosa"
      ]
     },
     "metadata": {},
     "output_type": "display_data"
    }
   ],
   "source": [
    "from bokeh.sampledata.iris import flowers as df\n",
    "\n",
    "# show first 5 rows of example df\n",
    "display(df.head())\n",
    "\n",
    "# create ColumnDataSource\n",
    "source = ColumnDataSource(df)"
   ]
  },
  {
   "cell_type": "markdown",
   "metadata": {},
   "source": [
    "Now we can use it as we did above by passing the column names to glyph methods:"
   ]
  },
  {
   "cell_type": "code",
   "execution_count": 15,
   "metadata": {},
   "outputs": [
    {
     "data": {
      "text/html": [
       "\n",
       "\n",
       "\n",
       "\n",
       "\n",
       "\n",
       "  <div class=\"bk-root\" id=\"2d16cb16-bedd-4959-a9a0-8021dd695619\" data-root-id=\"1987\"></div>\n"
      ]
     },
     "metadata": {},
     "output_type": "display_data"
    },
    {
     "data": {
      "application/javascript": [
       "(function(root) {\n",
       "  function embed_document(root) {\n",
       "    \n",
       "  var docs_json = {\"728013dd-99a3-436d-899b-01043274298e\":{\"defs\":[],\"roots\":{\"references\":[{\"attributes\":{\"below\":[{\"id\":\"1996\"}],\"center\":[{\"id\":\"1999\"},{\"id\":\"2003\"}],\"height\":400,\"left\":[{\"id\":\"2000\"}],\"renderers\":[{\"id\":\"2021\"}],\"title\":{\"id\":\"2100\"},\"toolbar\":{\"id\":\"2011\"},\"width\":400,\"x_range\":{\"id\":\"1988\"},\"x_scale\":{\"id\":\"1992\"},\"y_range\":{\"id\":\"1990\"},\"y_scale\":{\"id\":\"1994\"}},\"id\":\"1987\",\"subtype\":\"Figure\",\"type\":\"Plot\"},{\"attributes\":{\"formatter\":{\"id\":\"2102\"},\"major_label_policy\":{\"id\":\"2104\"},\"ticker\":{\"id\":\"1997\"}},\"id\":\"1996\",\"type\":\"LinearAxis\"},{\"attributes\":{},\"id\":\"2100\",\"type\":\"Title\"},{\"attributes\":{\"axis\":{\"id\":\"2000\"},\"dimension\":1,\"ticker\":null},\"id\":\"2003\",\"type\":\"Grid\"},{\"attributes\":{\"active_multi\":null,\"tools\":[{\"id\":\"2004\"},{\"id\":\"2005\"},{\"id\":\"2006\"},{\"id\":\"2007\"},{\"id\":\"2008\"},{\"id\":\"2009\"}]},\"id\":\"2011\",\"type\":\"Toolbar\"},{\"attributes\":{},\"id\":\"2102\",\"type\":\"BasicTickFormatter\"},{\"attributes\":{\"source\":{\"id\":\"1515\"}},\"id\":\"2022\",\"type\":\"CDSView\"},{\"attributes\":{},\"id\":\"2104\",\"type\":\"AllLabels\"},{\"attributes\":{\"overlay\":{\"id\":\"2010\"}},\"id\":\"2006\",\"type\":\"BoxZoomTool\"},{\"attributes\":{},\"id\":\"1992\",\"type\":\"LinearScale\"},{\"attributes\":{},\"id\":\"2001\",\"type\":\"BasicTicker\"},{\"attributes\":{\"fill_alpha\":{\"value\":0.1},\"fill_color\":{\"value\":\"#1f77b4\"},\"line_alpha\":{\"value\":0.1},\"line_color\":{\"value\":\"#1f77b4\"},\"x\":{\"field\":\"petal_length\"},\"y\":{\"field\":\"petal_width\"}},\"id\":\"2020\",\"type\":\"Circle\"},{\"attributes\":{},\"id\":\"2008\",\"type\":\"ResetTool\"},{\"attributes\":{},\"id\":\"2005\",\"type\":\"WheelZoomTool\"},{\"attributes\":{},\"id\":\"2105\",\"type\":\"BasicTickFormatter\"},{\"attributes\":{\"bottom_units\":\"screen\",\"fill_alpha\":0.5,\"fill_color\":\"lightgrey\",\"left_units\":\"screen\",\"level\":\"overlay\",\"line_alpha\":1.0,\"line_color\":\"black\",\"line_dash\":[4,4],\"line_width\":2,\"right_units\":\"screen\",\"syncable\":false,\"top_units\":\"screen\"},\"id\":\"2010\",\"type\":\"BoxAnnotation\"},{\"attributes\":{\"axis\":{\"id\":\"1996\"},\"ticker\":null},\"id\":\"1999\",\"type\":\"Grid\"},{\"attributes\":{},\"id\":\"2007\",\"type\":\"SaveTool\"},{\"attributes\":{},\"id\":\"2107\",\"type\":\"AllLabels\"},{\"attributes\":{},\"id\":\"2004\",\"type\":\"PanTool\"},{\"attributes\":{\"data\":{\"index\":[0,1,2,3,4,5,6,7,8,9,10,11,12,13,14,15,16,17,18,19,20,21,22,23,24,25,26,27,28,29,30,31,32,33,34,35,36,37,38,39,40,41,42,43,44,45,46,47,48,49,50,51,52,53,54,55,56,57,58,59,60,61,62,63,64,65,66,67,68,69,70,71,72,73,74,75,76,77,78,79,80,81,82,83,84,85,86,87,88,89,90,91,92,93,94,95,96,97,98,99,100,101,102,103,104,105,106,107,108,109,110,111,112,113,114,115,116,117,118,119,120,121,122,123,124,125,126,127,128,129,130,131,132,133,134,135,136,137,138,139,140,141,142,143,144,145,146,147,148,149],\"petal_length\":{\"__ndarray__\":\"ZmZmZmZm9j9mZmZmZmb2P83MzMzMzPQ/AAAAAAAA+D9mZmZmZmb2PzMzMzMzM/s/ZmZmZmZm9j8AAAAAAAD4P2ZmZmZmZvY/AAAAAAAA+D8AAAAAAAD4P5qZmZmZmfk/ZmZmZmZm9j+amZmZmZnxPzMzMzMzM/M/AAAAAAAA+D/NzMzMzMz0P2ZmZmZmZvY/MzMzMzMz+z8AAAAAAAD4PzMzMzMzM/s/AAAAAAAA+D8AAAAAAADwPzMzMzMzM/s/ZmZmZmZm/j+amZmZmZn5P5qZmZmZmfk/AAAAAAAA+D9mZmZmZmb2P5qZmZmZmfk/mpmZmZmZ+T8AAAAAAAD4PwAAAAAAAPg/ZmZmZmZm9j8AAAAAAAD4PzMzMzMzM/M/zczMzMzM9D9mZmZmZmb2P83MzMzMzPQ/AAAAAAAA+D/NzMzMzMz0P83MzMzMzPQ/zczMzMzM9D+amZmZmZn5P2ZmZmZmZv4/ZmZmZmZm9j+amZmZmZn5P2ZmZmZmZvY/AAAAAAAA+D9mZmZmZmb2P83MzMzMzBJAAAAAAAAAEkCamZmZmZkTQAAAAAAAABBAZmZmZmZmEkAAAAAAAAASQM3MzMzMzBJAZmZmZmZmCkBmZmZmZmYSQDMzMzMzMw9AAAAAAAAADEDNzMzMzMwQQAAAAAAAABBAzczMzMzMEkDNzMzMzMwMQJqZmZmZmRFAAAAAAAAAEkBmZmZmZmYQQAAAAAAAABJAMzMzMzMzD0AzMzMzMzMTQAAAAAAAABBAmpmZmZmZE0DNzMzMzMwSQDMzMzMzMxFAmpmZmZmZEUAzMzMzMzMTQAAAAAAAABRAAAAAAAAAEkAAAAAAAAAMQGZmZmZmZg5AmpmZmZmZDUAzMzMzMzMPQGZmZmZmZhRAAAAAAAAAEkAAAAAAAAASQM3MzMzMzBJAmpmZmZmZEUBmZmZmZmYQQAAAAAAAABBAmpmZmZmZEUBmZmZmZmYSQAAAAAAAABBAZmZmZmZmCkDNzMzMzMwQQM3MzMzMzBBAzczMzMzMEEAzMzMzMzMRQAAAAAAAAAhAZmZmZmZmEEAAAAAAAAAYQGZmZmZmZhRAmpmZmZmZF0BmZmZmZmYWQDMzMzMzMxdAZmZmZmZmGkAAAAAAAAASQDMzMzMzMxlAMzMzMzMzF0BmZmZmZmYYQGZmZmZmZhRAMzMzMzMzFUAAAAAAAAAWQAAAAAAAABRAZmZmZmZmFEAzMzMzMzMVQAAAAAAAABZAzczMzMzMGkCamZmZmZkbQAAAAAAAABRAzczMzMzMFkCamZmZmZkTQM3MzMzMzBpAmpmZmZmZE0DNzMzMzMwWQAAAAAAAABhAMzMzMzMzE0CamZmZmZkTQGZmZmZmZhZAMzMzMzMzF0BmZmZmZmYYQJqZmZmZmRlAZmZmZmZmFkBmZmZmZmYUQGZmZmZmZhZAZmZmZmZmGEBmZmZmZmYWQAAAAAAAABZAMzMzMzMzE0CamZmZmZkVQGZmZmZmZhZAZmZmZmZmFEBmZmZmZmYUQJqZmZmZmRdAzczMzMzMFkDNzMzMzMwUQAAAAAAAABRAzczMzMzMFECamZmZmZkVQGZmZmZmZhRA\",\"dtype\":\"float64\",\"order\":\"little\",\"shape\":[150]},\"petal_width\":{\"__ndarray__\":\"mpmZmZmZyT+amZmZmZnJP5qZmZmZmck/mpmZmZmZyT+amZmZmZnJP5qZmZmZmdk/MzMzMzMz0z+amZmZmZnJP5qZmZmZmck/mpmZmZmZuT+amZmZmZnJP5qZmZmZmck/mpmZmZmZuT+amZmZmZm5P5qZmZmZmck/mpmZmZmZ2T+amZmZmZnZPzMzMzMzM9M/MzMzMzMz0z8zMzMzMzPTP5qZmZmZmck/mpmZmZmZ2T+amZmZmZnJPwAAAAAAAOA/mpmZmZmZyT+amZmZmZnJP5qZmZmZmdk/mpmZmZmZyT+amZmZmZnJP5qZmZmZmck/mpmZmZmZyT+amZmZmZnZP5qZmZmZmbk/mpmZmZmZyT+amZmZmZnJP5qZmZmZmck/mpmZmZmZyT+amZmZmZm5P5qZmZmZmck/mpmZmZmZyT8zMzMzMzPTPzMzMzMzM9M/mpmZmZmZyT8zMzMzMzPjP5qZmZmZmdk/MzMzMzMz0z+amZmZmZnJP5qZmZmZmck/mpmZmZmZyT+amZmZmZnJP2ZmZmZmZvY/AAAAAAAA+D8AAAAAAAD4P83MzMzMzPQ/AAAAAAAA+D/NzMzMzMz0P5qZmZmZmfk/AAAAAAAA8D/NzMzMzMz0P2ZmZmZmZvY/AAAAAAAA8D8AAAAAAAD4PwAAAAAAAPA/ZmZmZmZm9j/NzMzMzMz0P2ZmZmZmZvY/AAAAAAAA+D8AAAAAAADwPwAAAAAAAPg/mpmZmZmZ8T/NzMzMzMz8P83MzMzMzPQ/AAAAAAAA+D8zMzMzMzPzP83MzMzMzPQ/ZmZmZmZm9j9mZmZmZmb2PzMzMzMzM/s/AAAAAAAA+D8AAAAAAADwP5qZmZmZmfE/AAAAAAAA8D8zMzMzMzPzP5qZmZmZmfk/AAAAAAAA+D+amZmZmZn5PwAAAAAAAPg/zczMzMzM9D/NzMzMzMz0P83MzMzMzPQ/MzMzMzMz8z9mZmZmZmb2PzMzMzMzM/M/AAAAAAAA8D/NzMzMzMz0PzMzMzMzM/M/zczMzMzM9D/NzMzMzMz0P5qZmZmZmfE/zczMzMzM9D8AAAAAAAAEQGZmZmZmZv4/zczMzMzMAEDNzMzMzMz8P5qZmZmZmQFAzczMzMzMAEAzMzMzMzP7P83MzMzMzPw/zczMzMzM/D8AAAAAAAAEQAAAAAAAAABAZmZmZmZm/j/NzMzMzMwAQAAAAAAAAABAMzMzMzMzA0BmZmZmZmYCQM3MzMzMzPw/mpmZmZmZAUBmZmZmZmYCQAAAAAAAAPg/ZmZmZmZmAkAAAAAAAAAAQAAAAAAAAABAzczMzMzM/D/NzMzMzMwAQM3MzMzMzPw/zczMzMzM/D/NzMzMzMz8P83MzMzMzABAmpmZmZmZ+T9mZmZmZmb+PwAAAAAAAABAmpmZmZmZAUAAAAAAAAD4P2ZmZmZmZvY/ZmZmZmZmAkAzMzMzMzMDQM3MzMzMzPw/zczMzMzM/D/NzMzMzMwAQDMzMzMzMwNAZmZmZmZmAkBmZmZmZmb+P2ZmZmZmZgJAAAAAAAAABEBmZmZmZmYCQGZmZmZmZv4/AAAAAAAAAEBmZmZmZmYCQM3MzMzMzPw/\",\"dtype\":\"float64\",\"order\":\"little\",\"shape\":[150]},\"sepal_length\":{\"__ndarray__\":\"ZmZmZmZmFECamZmZmZkTQM3MzMzMzBJAZmZmZmZmEkAAAAAAAAAUQJqZmZmZmRVAZmZmZmZmEkAAAAAAAAAUQJqZmZmZmRFAmpmZmZmZE0CamZmZmZkVQDMzMzMzMxNAMzMzMzMzE0AzMzMzMzMRQDMzMzMzMxdAzczMzMzMFkCamZmZmZkVQGZmZmZmZhRAzczMzMzMFkBmZmZmZmYUQJqZmZmZmRVAZmZmZmZmFEBmZmZmZmYSQGZmZmZmZhRAMzMzMzMzE0AAAAAAAAAUQAAAAAAAABRAzczMzMzMFEDNzMzMzMwUQM3MzMzMzBJAMzMzMzMzE0CamZmZmZkVQM3MzMzMzBRAAAAAAAAAFkCamZmZmZkTQAAAAAAAABRAAAAAAAAAFkCamZmZmZkTQJqZmZmZmRFAZmZmZmZmFEAAAAAAAAAUQAAAAAAAABJAmpmZmZmZEUAAAAAAAAAUQGZmZmZmZhRAMzMzMzMzE0BmZmZmZmYUQGZmZmZmZhJAMzMzMzMzFUAAAAAAAAAUQAAAAAAAABxAmpmZmZmZGUCamZmZmZkbQAAAAAAAABZAAAAAAAAAGkDNzMzMzMwWQDMzMzMzMxlAmpmZmZmZE0BmZmZmZmYaQM3MzMzMzBRAAAAAAAAAFECamZmZmZkXQAAAAAAAABhAZmZmZmZmGEBmZmZmZmYWQM3MzMzMzBpAZmZmZmZmFkAzMzMzMzMXQM3MzMzMzBhAZmZmZmZmFkCamZmZmZkXQGZmZmZmZhhAMzMzMzMzGUBmZmZmZmYYQJqZmZmZmRlAZmZmZmZmGkAzMzMzMzMbQM3MzMzMzBpAAAAAAAAAGEDNzMzMzMwWQAAAAAAAABZAAAAAAAAAFkAzMzMzMzMXQAAAAAAAABhAmpmZmZmZFUAAAAAAAAAYQM3MzMzMzBpAMzMzMzMzGUBmZmZmZmYWQAAAAAAAABZAAAAAAAAAFkBmZmZmZmYYQDMzMzMzMxdAAAAAAAAAFEBmZmZmZmYWQM3MzMzMzBZAzczMzMzMFkDNzMzMzMwYQGZmZmZmZhRAzczMzMzMFkAzMzMzMzMZQDMzMzMzMxdAZmZmZmZmHEAzMzMzMzMZQAAAAAAAABpAZmZmZmZmHkCamZmZmZkTQDMzMzMzMx1AzczMzMzMGkDNzMzMzMwcQAAAAAAAABpAmpmZmZmZGUAzMzMzMzMbQM3MzMzMzBZAMzMzMzMzF0CamZmZmZkZQAAAAAAAABpAzczMzMzMHkDNzMzMzMweQAAAAAAAABhAmpmZmZmZG0BmZmZmZmYWQM3MzMzMzB5AMzMzMzMzGUDNzMzMzMwaQM3MzMzMzBxAzczMzMzMGEBmZmZmZmYYQJqZmZmZmRlAzczMzMzMHECamZmZmZkdQJqZmZmZmR9AmpmZmZmZGUAzMzMzMzMZQGZmZmZmZhhAzczMzMzMHkAzMzMzMzMZQJqZmZmZmRlAAAAAAAAAGECamZmZmZkbQM3MzMzMzBpAmpmZmZmZG0AzMzMzMzMXQDMzMzMzMxtAzczMzMzMGkDNzMzMzMwaQDMzMzMzMxlAAAAAAAAAGkDNzMzMzMwYQJqZmZmZmRdA\",\"dtype\":\"float64\",\"order\":\"little\",\"shape\":[150]},\"sepal_width\":{\"__ndarray__\":\"AAAAAAAADEAAAAAAAAAIQJqZmZmZmQlAzczMzMzMCEDNzMzMzMwMQDMzMzMzMw9AMzMzMzMzC0AzMzMzMzMLQDMzMzMzMwdAzczMzMzMCECamZmZmZkNQDMzMzMzMwtAAAAAAAAACEAAAAAAAAAIQAAAAAAAABBAmpmZmZmZEUAzMzMzMzMPQAAAAAAAAAxAZmZmZmZmDkBmZmZmZmYOQDMzMzMzMwtAmpmZmZmZDUDNzMzMzMwMQGZmZmZmZgpAMzMzMzMzC0AAAAAAAAAIQDMzMzMzMwtAAAAAAAAADEAzMzMzMzMLQJqZmZmZmQlAzczMzMzMCEAzMzMzMzMLQGZmZmZmZhBAzczMzMzMEEDNzMzMzMwIQJqZmZmZmQlAAAAAAAAADEDNzMzMzMwMQAAAAAAAAAhAMzMzMzMzC0AAAAAAAAAMQGZmZmZmZgJAmpmZmZmZCUAAAAAAAAAMQGZmZmZmZg5AAAAAAAAACEBmZmZmZmYOQJqZmZmZmQlAmpmZmZmZDUBmZmZmZmYKQJqZmZmZmQlAmpmZmZmZCUDNzMzMzMwIQGZmZmZmZgJAZmZmZmZmBkBmZmZmZmYGQGZmZmZmZgpAMzMzMzMzA0AzMzMzMzMHQJqZmZmZmQVAAAAAAAAAAEAAAAAAAAAIQJqZmZmZmQFAMzMzMzMzB0AzMzMzMzMHQM3MzMzMzAhAAAAAAAAACECamZmZmZkFQJqZmZmZmQFAAAAAAAAABECamZmZmZkJQGZmZmZmZgZAAAAAAAAABEBmZmZmZmYGQDMzMzMzMwdAAAAAAAAACEBmZmZmZmYGQAAAAAAAAAhAMzMzMzMzB0DNzMzMzMwEQDMzMzMzMwNAMzMzMzMzA0CamZmZmZkFQJqZmZmZmQVAAAAAAAAACEAzMzMzMzMLQM3MzMzMzAhAZmZmZmZmAkAAAAAAAAAIQAAAAAAAAARAzczMzMzMBEAAAAAAAAAIQM3MzMzMzARAZmZmZmZmAkCamZmZmZkFQAAAAAAAAAhAMzMzMzMzB0AzMzMzMzMHQAAAAAAAAARAZmZmZmZmBkBmZmZmZmYKQJqZmZmZmQVAAAAAAAAACEAzMzMzMzMHQAAAAAAAAAhAAAAAAAAACEAAAAAAAAAEQDMzMzMzMwdAAAAAAAAABEDNzMzMzMwMQJqZmZmZmQlAmpmZmZmZBUAAAAAAAAAIQAAAAAAAAARAZmZmZmZmBkCamZmZmZkJQAAAAAAAAAhAZmZmZmZmDkDNzMzMzMwEQJqZmZmZmQFAmpmZmZmZCUBmZmZmZmYGQGZmZmZmZgZAmpmZmZmZBUBmZmZmZmYKQJqZmZmZmQlAZmZmZmZmBkAAAAAAAAAIQGZmZmZmZgZAAAAAAAAACEBmZmZmZmYGQGZmZmZmZg5AZmZmZmZmBkBmZmZmZmYGQM3MzMzMzARAAAAAAAAACEAzMzMzMzMLQM3MzMzMzAhAAAAAAAAACEDNzMzMzMwIQM3MzMzMzAhAzczMzMzMCECamZmZmZkFQJqZmZmZmQlAZmZmZmZmCkAAAAAAAAAIQAAAAAAAAARAAAAAAAAACEAzMzMzMzMLQAAAAAAAAAhA\",\"dtype\":\"float64\",\"order\":\"little\",\"shape\":[150]},\"species\":[\"setosa\",\"setosa\",\"setosa\",\"setosa\",\"setosa\",\"setosa\",\"setosa\",\"setosa\",\"setosa\",\"setosa\",\"setosa\",\"setosa\",\"setosa\",\"setosa\",\"setosa\",\"setosa\",\"setosa\",\"setosa\",\"setosa\",\"setosa\",\"setosa\",\"setosa\",\"setosa\",\"setosa\",\"setosa\",\"setosa\",\"setosa\",\"setosa\",\"setosa\",\"setosa\",\"setosa\",\"setosa\",\"setosa\",\"setosa\",\"setosa\",\"setosa\",\"setosa\",\"setosa\",\"setosa\",\"setosa\",\"setosa\",\"setosa\",\"setosa\",\"setosa\",\"setosa\",\"setosa\",\"setosa\",\"setosa\",\"setosa\",\"setosa\",\"versicolor\",\"versicolor\",\"versicolor\",\"versicolor\",\"versicolor\",\"versicolor\",\"versicolor\",\"versicolor\",\"versicolor\",\"versicolor\",\"versicolor\",\"versicolor\",\"versicolor\",\"versicolor\",\"versicolor\",\"versicolor\",\"versicolor\",\"versicolor\",\"versicolor\",\"versicolor\",\"versicolor\",\"versicolor\",\"versicolor\",\"versicolor\",\"versicolor\",\"versicolor\",\"versicolor\",\"versicolor\",\"versicolor\",\"versicolor\",\"versicolor\",\"versicolor\",\"versicolor\",\"versicolor\",\"versicolor\",\"versicolor\",\"versicolor\",\"versicolor\",\"versicolor\",\"versicolor\",\"versicolor\",\"versicolor\",\"versicolor\",\"versicolor\",\"versicolor\",\"versicolor\",\"versicolor\",\"versicolor\",\"versicolor\",\"versicolor\",\"virginica\",\"virginica\",\"virginica\",\"virginica\",\"virginica\",\"virginica\",\"virginica\",\"virginica\",\"virginica\",\"virginica\",\"virginica\",\"virginica\",\"virginica\",\"virginica\",\"virginica\",\"virginica\",\"virginica\",\"virginica\",\"virginica\",\"virginica\",\"virginica\",\"virginica\",\"virginica\",\"virginica\",\"virginica\",\"virginica\",\"virginica\",\"virginica\",\"virginica\",\"virginica\",\"virginica\",\"virginica\",\"virginica\",\"virginica\",\"virginica\",\"virginica\",\"virginica\",\"virginica\",\"virginica\",\"virginica\",\"virginica\",\"virginica\",\"virginica\",\"virginica\",\"virginica\",\"virginica\",\"virginica\",\"virginica\",\"virginica\",\"virginica\"]},\"selected\":{\"id\":\"1605\"},\"selection_policy\":{\"id\":\"1604\"}},\"id\":\"1515\",\"type\":\"ColumnDataSource\"},{\"attributes\":{},\"id\":\"1988\",\"type\":\"DataRange1d\"},{\"attributes\":{\"formatter\":{\"id\":\"2105\"},\"major_label_policy\":{\"id\":\"2107\"},\"ticker\":{\"id\":\"2001\"}},\"id\":\"2000\",\"type\":\"LinearAxis\"},{\"attributes\":{\"fill_color\":{\"value\":\"#1f77b4\"},\"line_color\":{\"value\":\"#1f77b4\"},\"x\":{\"field\":\"petal_length\"},\"y\":{\"field\":\"petal_width\"}},\"id\":\"2019\",\"type\":\"Circle\"},{\"attributes\":{},\"id\":\"2009\",\"type\":\"HelpTool\"},{\"attributes\":{},\"id\":\"1604\",\"type\":\"UnionRenderers\"},{\"attributes\":{},\"id\":\"1605\",\"type\":\"Selection\"},{\"attributes\":{},\"id\":\"1990\",\"type\":\"DataRange1d\"},{\"attributes\":{},\"id\":\"1994\",\"type\":\"LinearScale\"},{\"attributes\":{\"data_source\":{\"id\":\"1515\"},\"glyph\":{\"id\":\"2019\"},\"hover_glyph\":null,\"muted_glyph\":null,\"nonselection_glyph\":{\"id\":\"2020\"},\"view\":{\"id\":\"2022\"}},\"id\":\"2021\",\"type\":\"GlyphRenderer\"},{\"attributes\":{},\"id\":\"1997\",\"type\":\"BasicTicker\"}],\"root_ids\":[\"1987\"]},\"title\":\"Bokeh Application\",\"version\":\"2.3.3\"}};\n",
       "  var render_items = [{\"docid\":\"728013dd-99a3-436d-899b-01043274298e\",\"root_ids\":[\"1987\"],\"roots\":{\"1987\":\"2d16cb16-bedd-4959-a9a0-8021dd695619\"}}];\n",
       "  root.Bokeh.embed.embed_items_notebook(docs_json, render_items);\n",
       "\n",
       "  }\n",
       "  if (root.Bokeh !== undefined) {\n",
       "    embed_document(root);\n",
       "  } else {\n",
       "    var attempts = 0;\n",
       "    var timer = setInterval(function(root) {\n",
       "      if (root.Bokeh !== undefined) {\n",
       "        clearInterval(timer);\n",
       "        embed_document(root);\n",
       "      } else {\n",
       "        attempts++;\n",
       "        if (attempts > 100) {\n",
       "          clearInterval(timer);\n",
       "          console.log(\"Bokeh: ERROR: Unable to run BokehJS code because BokehJS library is missing\");\n",
       "        }\n",
       "      }\n",
       "    }, 10, root)\n",
       "  }\n",
       "})(window);"
      ],
      "application/vnd.bokehjs_exec.v0+json": ""
     },
     "metadata": {
      "application/vnd.bokehjs_exec.v0+json": {
       "id": "1987"
      }
     },
     "output_type": "display_data"
    }
   ],
   "source": [
    "p = figure(plot_width=400, plot_height=400)\n",
    "p.circle('petal_length', 'petal_width', source=source)\n",
    "show(p)"
   ]
  },
  {
   "cell_type": "markdown",
   "metadata": {},
   "source": [
    "<h3>\n",
    "<font color='blue'>\n",
    "Exercise\n",
    "</font>\n",
    "</h3>\n",
    "Create a column data source with the autompg sample data frame and plot it."
   ]
  },
  {
   "cell_type": "code",
   "execution_count": 18,
   "metadata": {},
   "outputs": [
    {
     "data": {
      "text/html": [
       "\n",
       "\n",
       "\n",
       "\n",
       "\n",
       "\n",
       "  <div class=\"bk-root\" id=\"f0bf9335-8964-4b6f-8c2a-630d75371e25\" data-root-id=\"2560\"></div>\n"
      ]
     },
     "metadata": {},
     "output_type": "display_data"
    },
    {
     "data": {
      "application/javascript": [
       "(function(root) {\n",
       "  function embed_document(root) {\n",
       "    \n",
       "  var docs_json = {\"de3c6168-392c-4ccc-b602-fd55e6ac55db\":{\"defs\":[],\"roots\":{\"references\":[{\"attributes\":{\"below\":[{\"id\":\"2569\"}],\"center\":[{\"id\":\"2572\"},{\"id\":\"2576\"}],\"height\":400,\"left\":[{\"id\":\"2573\"}],\"renderers\":[{\"id\":\"2594\"}],\"title\":{\"id\":\"2706\"},\"toolbar\":{\"id\":\"2584\"},\"width\":400,\"x_range\":{\"id\":\"2561\"},\"x_scale\":{\"id\":\"2565\"},\"y_range\":{\"id\":\"2563\"},\"y_scale\":{\"id\":\"2567\"}},\"id\":\"2560\",\"subtype\":\"Figure\",\"type\":\"Plot\"},{\"attributes\":{},\"id\":\"2570\",\"type\":\"BasicTicker\"},{\"attributes\":{},\"id\":\"2582\",\"type\":\"HelpTool\"},{\"attributes\":{\"overlay\":{\"id\":\"2583\"}},\"id\":\"2579\",\"type\":\"BoxZoomTool\"},{\"attributes\":{\"source\":{\"id\":\"2559\"}},\"id\":\"2595\",\"type\":\"CDSView\"},{\"attributes\":{},\"id\":\"2580\",\"type\":\"SaveTool\"},{\"attributes\":{},\"id\":\"2563\",\"type\":\"DataRange1d\"},{\"attributes\":{\"bottom_units\":\"screen\",\"fill_alpha\":0.5,\"fill_color\":\"lightgrey\",\"left_units\":\"screen\",\"level\":\"overlay\",\"line_alpha\":1.0,\"line_color\":\"black\",\"line_dash\":[4,4],\"line_width\":2,\"right_units\":\"screen\",\"syncable\":false,\"top_units\":\"screen\"},\"id\":\"2583\",\"type\":\"BoxAnnotation\"},{\"attributes\":{\"formatter\":{\"id\":\"2711\"},\"major_label_policy\":{\"id\":\"2713\"},\"ticker\":{\"id\":\"2574\"}},\"id\":\"2573\",\"type\":\"LinearAxis\"},{\"attributes\":{\"axis\":{\"id\":\"2569\"},\"ticker\":null},\"id\":\"2572\",\"type\":\"Grid\"},{\"attributes\":{},\"id\":\"2713\",\"type\":\"AllLabels\"},{\"attributes\":{},\"id\":\"2715\",\"type\":\"Selection\"},{\"attributes\":{\"fill_alpha\":{\"value\":0.1},\"fill_color\":{\"value\":\"#1f77b4\"},\"line_alpha\":{\"value\":0.1},\"line_color\":{\"value\":\"#1f77b4\"},\"marker\":{\"value\":\"square\"},\"x\":{\"field\":\"mpg\"},\"y\":{\"field\":\"yr\"}},\"id\":\"2593\",\"type\":\"Scatter\"},{\"attributes\":{},\"id\":\"2577\",\"type\":\"PanTool\"},{\"attributes\":{},\"id\":\"2711\",\"type\":\"BasicTickFormatter\"},{\"attributes\":{},\"id\":\"2574\",\"type\":\"BasicTicker\"},{\"attributes\":{},\"id\":\"2565\",\"type\":\"LinearScale\"},{\"attributes\":{\"formatter\":{\"id\":\"2708\"},\"major_label_policy\":{\"id\":\"2710\"},\"ticker\":{\"id\":\"2570\"}},\"id\":\"2569\",\"type\":\"LinearAxis\"},{\"attributes\":{},\"id\":\"2708\",\"type\":\"BasicTickFormatter\"},{\"attributes\":{},\"id\":\"2578\",\"type\":\"WheelZoomTool\"},{\"attributes\":{},\"id\":\"2581\",\"type\":\"ResetTool\"},{\"attributes\":{},\"id\":\"2714\",\"type\":\"UnionRenderers\"},{\"attributes\":{},\"id\":\"2561\",\"type\":\"DataRange1d\"},{\"attributes\":{},\"id\":\"2706\",\"type\":\"Title\"},{\"attributes\":{\"data\":{\"accel\":{\"__ndarray__\":\"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\",\"dtype\":\"float64\",\"order\":\"little\",\"shape\":[392]},\"cyl\":[8,8,8,8,8,8,8,8,8,8,8,8,8,8,4,6,6,6,4,4,4,4,4,4,6,8,8,8,8,4,4,4,6,6,6,6,6,8,8,8,8,8,8,8,6,4,6,6,4,4,4,4,4,4,4,4,4,4,4,4,4,8,8,8,8,8,8,8,8,8,3,8,8,8,8,4,4,4,4,4,4,4,4,4,8,8,8,8,8,8,8,8,8,8,8,8,6,6,6,6,6,4,8,8,8,8,6,4,4,4,3,4,6,4,8,8,4,4,4,4,8,4,6,8,6,6,6,4,4,4,4,6,6,6,8,8,8,8,8,4,4,4,4,4,4,4,4,4,4,4,6,6,6,6,8,8,8,8,6,6,6,6,6,8,8,4,4,6,4,4,4,4,6,4,6,4,4,4,4,4,4,4,4,4,4,8,8,8,8,6,6,6,6,4,4,4,4,6,6,6,6,4,4,4,4,4,8,4,6,6,8,8,8,8,4,4,4,4,4,8,8,8,8,6,6,6,6,8,8,8,8,4,4,4,4,4,4,4,4,6,4,3,4,4,4,4,4,8,8,8,6,6,6,4,6,6,6,6,6,6,8,6,8,8,4,4,4,4,4,4,4,4,5,6,4,6,4,4,6,6,4,6,6,8,8,8,8,8,8,8,8,4,4,4,4,5,8,4,8,4,4,4,4,4,6,6,4,4,4,4,4,4,4,4,6,4,4,4,4,4,4,4,4,4,4,5,4,4,4,4,6,3,4,4,4,4,4,6,4,4,4,4,4,4,4,4,4,4,4,4,4,4,4,4,4,6,6,6,6,8,6,6,4,4,4,4,4,4,4,4,4,4,4,4,4,4,4,4,4,4,6,6,4,6,4,4,4,4,4,4,4,4],\"displ\":{\"__ndarray__\":\"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\",\"dtype\":\"float64\",\"order\":\"little\",\"shape\":[392]},\"hp\":[130,165,150,150,140,198,220,215,225,190,170,160,150,225,95,95,97,85,88,46,87,90,95,113,90,215,200,210,193,88,90,95,100,105,100,88,100,165,175,153,150,180,170,175,110,72,100,88,86,90,70,76,65,69,60,70,95,80,54,90,86,165,175,150,153,150,208,155,160,190,97,150,130,140,150,112,76,87,69,86,92,97,80,88,175,150,145,137,150,198,150,158,150,215,225,175,105,100,100,88,95,46,150,167,170,180,100,88,72,94,90,85,107,90,145,230,49,75,91,112,150,110,122,180,95,100,100,67,80,65,75,100,110,105,140,150,150,140,150,83,67,78,52,61,75,75,75,97,93,67,95,105,72,72,170,145,150,148,110,105,110,95,110,110,129,75,83,100,78,96,71,97,97,70,90,95,88,98,115,53,86,81,92,79,83,140,150,120,152,100,105,81,90,52,60,70,53,100,78,110,95,71,70,75,72,102,150,88,108,120,180,145,130,150,68,80,58,96,70,145,110,145,130,110,105,100,98,180,170,190,149,78,88,75,89,63,83,67,78,97,110,110,48,66,52,70,60,110,140,139,105,95,85,88,100,90,105,85,110,120,145,165,139,140,68,95,97,75,95,105,85,97,103,125,115,133,71,68,115,85,88,90,110,130,129,138,135,155,142,125,150,71,65,80,80,77,125,71,90,70,70,65,69,90,115,115,90,76,60,70,65,90,88,90,90,78,90,75,92,75,65,105,65,48,48,67,67,67,67,62,132,100,88,72,84,84,92,110,84,58,64,60,67,65,62,68,63,65,65,74,75,75,100,74,80,76,116,120,110,105,88,85,88,88,88,85,84,90,92,74,68,68,63,70,88,75,70,67,67,67,110,85,92,112,96,84,90,86,52,84,79,82],\"index\":[0,1,2,3,4,5,6,7,8,9,10,11,12,13,14,15,16,17,18,19,20,21,22,23,24,25,26,27,28,29,30,31,32,33,34,35,36,37,38,39,40,41,42,43,44,45,46,47,48,49,50,51,52,53,54,55,56,57,58,59,60,61,62,63,64,65,66,67,68,69,70,71,72,73,74,75,76,77,78,79,80,81,82,83,84,85,86,87,88,89,90,91,92,93,94,95,96,97,98,99,100,101,102,103,104,105,106,107,108,109,110,111,112,113,114,115,116,117,118,119,120,121,122,123,124,125,126,127,128,129,130,131,132,133,134,135,136,137,138,139,140,141,142,143,144,145,146,147,148,149,150,151,152,153,154,155,156,157,158,159,160,161,162,163,164,165,166,167,168,169,170,171,172,173,174,175,176,177,178,179,180,181,182,183,184,185,186,187,188,189,190,191,192,193,194,195,196,197,198,199,200,201,202,203,204,205,206,207,208,209,210,211,212,213,214,215,216,217,218,219,220,221,222,223,224,225,226,227,228,229,230,231,232,233,234,235,236,237,238,239,240,241,242,243,244,245,246,247,248,249,250,251,252,253,254,255,256,257,258,259,260,261,262,263,264,265,266,267,268,269,270,271,272,273,274,275,276,277,278,279,280,281,282,283,284,285,286,287,288,289,290,291,292,293,294,295,296,297,298,299,300,301,302,303,304,305,306,307,308,309,310,311,312,313,314,315,316,317,318,319,320,321,322,323,324,325,326,327,328,329,330,331,332,333,334,335,336,337,338,339,340,341,342,343,344,345,346,347,348,349,350,351,352,353,354,355,356,357,358,359,360,361,362,363,364,365,366,367,368,369,370,371,372,373,374,375,376,377,378,379,380,381,382,383,384,385,386,387,388,389,390,391],\"mfr\":[\"chevrolet\",\"buick\",\"plymouth\",\"amc\",\"ford\",\"ford\",\"chevrolet\",\"plymouth\",\"pontiac\",\"amc\",\"dodge\",\"plymouth\",\"chevrolet\",\"buick\",\"toyota\",\"plymouth\",\"amc\",\"ford\",\"datsun\",\"volkswagen\",\"peugeot\",\"audi\",\"saab\",\"bmw\",\"amc\",\"ford\",\"chevrolet\",\"dodge\",\"hi\",\"datsun\",\"chevrolet\",\"toyota\",\"amc\",\"plymouth\",\"chevrolet\",\"ford\",\"amc\",\"chevrolet\",\"pontiac\",\"ford\",\"plymouth\",\"dodge\",\"ford\",\"pontiac\",\"amc\",\"chevrolet\",\"pontiac\",\"ford\",\"mercury\",\"opel\",\"peugeot\",\"fiat\",\"toyota\",\"datsun\",\"volkswagen\",\"plymouth\",\"toyota\",\"dodge\",\"volkswagen\",\"chevrolet\",\"ford\",\"chevrolet\",\"pontiac\",\"plymouth\",\"ford\",\"amc\",\"mercury\",\"buick\",\"oldsmobile\",\"chrysler\",\"mazda\",\"amc\",\"chevrolet\",\"ford\",\"plymouth\",\"volvo\",\"volkswagen\",\"peugeot\",\"renault\",\"ford\",\"datsun\",\"toyota\",\"dodge\",\"toyota\",\"buick\",\"amc\",\"chevrolet\",\"ford\",\"dodge\",\"mercury\",\"chevrolet\",\"ford\",\"plymouth\",\"chrysler\",\"buick\",\"amc\",\"plymouth\",\"chevrolet\",\"amc\",\"ford\",\"plymouth\",\"volkswagen\",\"chevrolet\",\"ford\",\"plymouth\",\"oldsmobile\",\"amc\",\"toyota\",\"chevrolet\",\"datsun\",\"mazda\",\"ford\",\"mercury\",\"fiat\",\"chevrolet\",\"pontiac\",\"fiat\",\"opel\",\"audi\",\"volvo\",\"dodge\",\"saab\",\"toyota\",\"oldsmobile\",\"plymouth\",\"amc\",\"chevrolet\",\"datsun\",\"ford\",\"toyota\",\"chevrolet\",\"chevrolet\",\"amc\",\"plymouth\",\"ford\",\"buick\",\"dodge\",\"ford\",\"amc\",\"audi\",\"volkswagen\",\"opel\",\"toyota\",\"datsun\",\"dodge\",\"fiat\",\"fiat\",\"honda\",\"subaru\",\"fiat\",\"plymouth\",\"chevrolet\",\"mercury\",\"ford\",\"pontiac\",\"chevrolet\",\"plymouth\",\"ford\",\"buick\",\"chevrolet\",\"amc\",\"plymouth\",\"buick\",\"chevrolet\",\"ford\",\"toyota\",\"ford\",\"amc\",\"pontiac\",\"toyota\",\"volkswagen\",\"datsun\",\"ford\",\"volkswagen\",\"amc\",\"audi\",\"peugeot\",\"volvo\",\"saab\",\"honda\",\"fiat\",\"opel\",\"capri\",\"dodge\",\"renault\",\"chevrolet\",\"dodge\",\"amc\",\"ford\",\"plymouth\",\"chevrolet\",\"ford\",\"amc\",\"chevrolet\",\"chevrolet\",\"volkswagen\",\"honda\",\"dodge\",\"ford\",\"pontiac\",\"amc\",\"volkswagen\",\"datsun\",\"toyota\",\"ford\",\"volvo\",\"plymouth\",\"peugeot\",\"toyota\",\"mercedes\",\"cadillac\",\"chevrolet\",\"ford\",\"dodge\",\"honda\",\"buick\",\"renault\",\"plymouth\",\"datsun\",\"chevrolet\",\"oldsmobile\",\"dodge\",\"mercury\",\"chevrolet\",\"buick\",\"plymouth\",\"ford\",\"pontiac\",\"chevrolet\",\"chrysler\",\"ford\",\"volkswagen\",\"pontiac\",\"toyota\",\"ford\",\"chevrolet\",\"dodge\",\"subaru\",\"volkswagen\",\"datsun\",\"bmw\",\"mazda\",\"volkswagen\",\"ford\",\"mazda\",\"datsun\",\"honda\",\"oldsmobile\",\"dodge\",\"mercury\",\"pontiac\",\"chevrolet\",\"ford\",\"ford\",\"plymouth\",\"amc\",\"buick\",\"mercury\",\"dodge\",\"amc\",\"chevrolet\",\"buick\",\"ford\",\"dodge\",\"chevrolet\",\"toyota\",\"datsun\",\"dodge\",\"toyota\",\"plymouth\",\"oldsmobile\",\"datsun\",\"audi\",\"volvo\",\"saab\",\"peugeot\",\"volkswagen\",\"honda\",\"pontiac\",\"mercury\",\"ford\",\"amc\",\"dodge\",\"chevrolet\",\"ford\",\"mercury\",\"dodge\",\"buick\",\"ford\",\"chevrolet\",\"chrysler\",\"volkswagen\",\"mazda\",\"dodge\",\"amc\",\"mercedes\",\"cadillac\",\"peugeot\",\"oldsmobile\",\"plymouth\",\"plymouth\",\"datsun\",\"fiat\",\"buick\",\"chevrolet\",\"oldsmobile\",\"pontiac\",\"volkswagen\",\"toyota\",\"chevrolet\",\"datsun\",\"chevrolet\",\"ford\",\"amc\",\"dodge\",\"audi\",\"toyota\",\"mazda\",\"datsun\",\"toyota\",\"mazda\",\"dodge\",\"datsun\",\"volkswagen\",\"volkswagen\",\"audi\",\"mercedes\",\"honda\",\"subaru\",\"volkswagen\",\"datsun\",\"mazda\",\"triumph\",\"honda\",\"plymouth\",\"buick\",\"dodge\",\"chevrolet\",\"plymouth\",\"toyota\",\"plymouth\",\"honda\",\"subaru\",\"datsun\",\"toyota\",\"mazda\",\"plymouth\",\"ford\",\"ford\",\"volkswagen\",\"honda\",\"toyota\",\"datsun\",\"mazda\",\"peugeot\",\"volvo\",\"toyota\",\"datsun\",\"buick\",\"oldsmobile\",\"ford\",\"chrysler\",\"chevrolet\",\"chevrolet\",\"chevrolet\",\"pontiac\",\"dodge\",\"pontiac\",\"ford\",\"volkswagen\",\"mazda\",\"mazda\",\"plymouth\",\"mercury\",\"nissan\",\"honda\",\"toyota\",\"honda\",\"honda\",\"datsun\",\"buick\",\"oldsmobile\",\"chrysler\",\"ford\",\"toyota\",\"dodge\",\"chevrolet\",\"ford\",\"volkswagen\",\"dodge\",\"ford\",\"chevrolet\"],\"mpg\":{\"__ndarray__\":\"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\",\"dtype\":\"float64\",\"order\":\"little\",\"shape\":[392]},\"name\":[\"chevrolet chevelle malibu\",\"buick skylark 320\",\"plymouth satellite\",\"amc rebel sst\",\"ford torino\",\"ford galaxie 500\",\"chevrolet impala\",\"plymouth fury iii\",\"pontiac catalina\",\"amc ambassador dpl\",\"dodge challenger se\",\"plymouth 'cuda 340\",\"chevrolet monte carlo\",\"buick estate wagon (sw)\",\"toyota corona mark ii\",\"plymouth duster\",\"amc hornet\",\"ford maverick\",\"datsun pl510\",\"volkswagen 1131 deluxe sedan\",\"peugeot 504\",\"audi 100 ls\",\"saab 99e\",\"bmw 2002\",\"amc gremlin\",\"ford f250\",\"chevy c20\",\"dodge d200\",\"hi 1200d\",\"datsun pl510\",\"chevrolet vega 2300\",\"toyota corona\",\"amc gremlin\",\"plymouth satellite custom\",\"chevrolet chevelle malibu\",\"ford torino 500\",\"amc matador\",\"chevrolet impala\",\"pontiac catalina brougham\",\"ford galaxie 500\",\"plymouth fury iii\",\"dodge monaco (sw)\",\"ford country squire (sw)\",\"pontiac safari (sw)\",\"amc hornet sportabout (sw)\",\"chevrolet vega (sw)\",\"pontiac firebird\",\"ford mustang\",\"mercury capri 2000\",\"opel 1900\",\"peugeot 304\",\"fiat 124b\",\"toyota corolla 1200\",\"datsun 1200\",\"volkswagen model 111\",\"plymouth cricket\",\"toyota corona hardtop\",\"dodge colt hardtop\",\"volkswagen type 3\",\"chevrolet vega\",\"ford pinto runabout\",\"chevrolet impala\",\"pontiac catalina\",\"plymouth fury iii\",\"ford galaxie 500\",\"amc ambassador sst\",\"mercury marquis\",\"buick lesabre custom\",\"oldsmobile delta 88 royale\",\"chrysler newport royal\",\"mazda rx2 coupe\",\"amc matador (sw)\",\"chevrolet chevelle concours (sw)\",\"ford gran torino (sw)\",\"plymouth satellite custom (sw)\",\"volvo 145e (sw)\",\"volkswagen 411 (sw)\",\"peugeot 504 (sw)\",\"renault 12 (sw)\",\"ford pinto (sw)\",\"datsun 510 (sw)\",\"toyouta corona mark ii (sw)\",\"dodge colt (sw)\",\"toyota corolla 1600 (sw)\",\"buick century 350\",\"amc matador\",\"chevrolet malibu\",\"ford gran torino\",\"dodge coronet custom\",\"mercury marquis brougham\",\"chevrolet caprice classic\",\"ford ltd\",\"plymouth fury gran sedan\",\"chrysler new yorker brougham\",\"buick electra 225 custom\",\"amc ambassador brougham\",\"plymouth valiant\",\"chevrolet nova custom\",\"amc hornet\",\"ford maverick\",\"plymouth duster\",\"volkswagen super beetle\",\"chevrolet impala\",\"ford country\",\"plymouth custom suburb\",\"oldsmobile vista cruiser\",\"amc gremlin\",\"toyota carina\",\"chevrolet vega\",\"datsun 610\",\"maxda rx3\",\"ford pinto\",\"mercury capri v6\",\"fiat 124 sport coupe\",\"chevrolet monte carlo s\",\"pontiac grand prix\",\"fiat 128\",\"opel manta\",\"audi 100ls\",\"volvo 144ea\",\"dodge dart custom\",\"saab 99le\",\"toyota mark ii\",\"oldsmobile omega\",\"plymouth duster\",\"amc hornet\",\"chevrolet nova\",\"datsun b210\",\"ford pinto\",\"toyota corolla 1200\",\"chevrolet vega\",\"chevrolet chevelle malibu classic\",\"amc matador\",\"plymouth satellite sebring\",\"ford gran torino\",\"buick century luxus (sw)\",\"dodge coronet custom (sw)\",\"ford gran torino (sw)\",\"amc matador (sw)\",\"audi fox\",\"volkswagen dasher\",\"opel manta\",\"toyota corona\",\"datsun 710\",\"dodge colt\",\"fiat 128\",\"fiat 124 tc\",\"honda civic\",\"subaru\",\"fiat x1.9\",\"plymouth valiant custom\",\"chevrolet nova\",\"mercury monarch\",\"ford maverick\",\"pontiac catalina\",\"chevrolet bel air\",\"plymouth grand fury\",\"ford ltd\",\"buick century\",\"chevroelt chevelle malibu\",\"amc matador\",\"plymouth fury\",\"buick skyhawk\",\"chevrolet monza 2+2\",\"ford mustang ii\",\"toyota corolla\",\"ford pinto\",\"amc gremlin\",\"pontiac astro\",\"toyota corona\",\"volkswagen dasher\",\"datsun 710\",\"ford pinto\",\"volkswagen rabbit\",\"amc pacer\",\"audi 100ls\",\"peugeot 504\",\"volvo 244dl\",\"saab 99le\",\"honda civic cvcc\",\"fiat 131\",\"opel 1900\",\"capri ii\",\"dodge colt\",\"renault 12tl\",\"chevrolet chevelle malibu classic\",\"dodge coronet brougham\",\"amc matador\",\"ford gran torino\",\"plymouth valiant\",\"chevrolet nova\",\"ford maverick\",\"amc hornet\",\"chevrolet chevette\",\"chevrolet woody\",\"vw rabbit\",\"honda civic\",\"dodge aspen se\",\"ford granada ghia\",\"pontiac ventura sj\",\"amc pacer d/l\",\"volkswagen rabbit\",\"datsun b-210\",\"toyota corolla\",\"ford pinto\",\"volvo 245\",\"plymouth volare premier v8\",\"peugeot 504\",\"toyota mark ii\",\"mercedes-benz 280s\",\"cadillac seville\",\"chevy c10\",\"ford f108\",\"dodge d100\",\"honda accord cvcc\",\"buick opel isuzu deluxe\",\"renault 5 gtl\",\"plymouth arrow gs\",\"datsun f-10 hatchback\",\"chevrolet caprice classic\",\"oldsmobile cutlass supreme\",\"dodge monaco brougham\",\"mercury cougar brougham\",\"chevrolet concours\",\"buick skylark\",\"plymouth volare custom\",\"ford granada\",\"pontiac grand prix lj\",\"chevrolet monte carlo landau\",\"chrysler cordoba\",\"ford thunderbird\",\"volkswagen rabbit custom\",\"pontiac sunbird coupe\",\"toyota corolla liftback\",\"ford mustang ii 2+2\",\"chevrolet chevette\",\"dodge colt m/m\",\"subaru dl\",\"volkswagen dasher\",\"datsun 810\",\"bmw 320i\",\"mazda rx-4\",\"volkswagen rabbit custom diesel\",\"ford fiesta\",\"mazda glc deluxe\",\"datsun b210 gx\",\"honda civic cvcc\",\"oldsmobile cutlass salon brougham\",\"dodge diplomat\",\"mercury monarch ghia\",\"pontiac phoenix lj\",\"chevrolet malibu\",\"ford fairmont (auto)\",\"ford fairmont (man)\",\"plymouth volare\",\"amc concord\",\"buick century special\",\"mercury zephyr\",\"dodge aspen\",\"amc concord d/l\",\"chevrolet monte carlo landau\",\"buick regal sport coupe (turbo)\",\"ford futura\",\"dodge magnum xe\",\"chevrolet chevette\",\"toyota corona\",\"datsun 510\",\"dodge omni\",\"toyota celica gt liftback\",\"plymouth sapporo\",\"oldsmobile starfire sx\",\"datsun 200-sx\",\"audi 5000\",\"volvo 264gl\",\"saab 99gle\",\"peugeot 604sl\",\"volkswagen scirocco\",\"honda accord lx\",\"pontiac lemans v6\",\"mercury zephyr 6\",\"ford fairmont 4\",\"amc concord dl 6\",\"dodge aspen 6\",\"chevrolet caprice classic\",\"ford ltd landau\",\"mercury grand marquis\",\"dodge st. regis\",\"buick estate wagon (sw)\",\"ford country squire (sw)\",\"chevrolet malibu classic (sw)\",\"chrysler lebaron town @ country (sw)\",\"vw rabbit custom\",\"maxda glc deluxe\",\"dodge colt hatchback custom\",\"amc spirit dl\",\"mercedes benz 300d\",\"cadillac eldorado\",\"peugeot 504\",\"oldsmobile cutlass salon brougham\",\"plymouth horizon\",\"plymouth horizon tc3\",\"datsun 210\",\"fiat strada custom\",\"buick skylark limited\",\"chevrolet citation\",\"oldsmobile omega brougham\",\"pontiac phoenix\",\"vw rabbit\",\"toyota corolla tercel\",\"chevrolet chevette\",\"datsun 310\",\"chevrolet citation\",\"ford fairmont\",\"amc concord\",\"dodge aspen\",\"audi 4000\",\"toyota corona liftback\",\"mazda 626\",\"datsun 510 hatchback\",\"toyota corolla\",\"mazda glc\",\"dodge colt\",\"datsun 210\",\"vw rabbit c (diesel)\",\"vw dasher (diesel)\",\"audi 5000s (diesel)\",\"mercedes-benz 240d\",\"honda civic 1500 gl\",\"subaru dl\",\"vokswagen rabbit\",\"datsun 280-zx\",\"mazda rx-7 gs\",\"triumph tr7 coupe\",\"honda accord\",\"plymouth reliant\",\"buick skylark\",\"dodge aries wagon (sw)\",\"chevrolet citation\",\"plymouth reliant\",\"toyota starlet\",\"plymouth champ\",\"honda civic 1300\",\"subaru\",\"datsun 210 mpg\",\"toyota tercel\",\"mazda glc 4\",\"plymouth horizon 4\",\"ford escort 4w\",\"ford escort 2h\",\"volkswagen jetta\",\"honda prelude\",\"toyota corolla\",\"datsun 200sx\",\"mazda 626\",\"peugeot 505s turbo diesel\",\"volvo diesel\",\"toyota cressida\",\"datsun 810 maxima\",\"buick century\",\"oldsmobile cutlass ls\",\"ford granada gl\",\"chrysler lebaron salon\",\"chevrolet cavalier\",\"chevrolet cavalier wagon\",\"chevrolet cavalier 2-door\",\"pontiac j2000 se hatchback\",\"dodge aries se\",\"pontiac phoenix\",\"ford fairmont futura\",\"volkswagen rabbit l\",\"mazda glc custom l\",\"mazda glc custom\",\"plymouth horizon miser\",\"mercury lynx l\",\"nissan stanza xe\",\"honda accord\",\"toyota corolla\",\"honda civic\",\"honda civic (auto)\",\"datsun 310 gx\",\"buick century limited\",\"oldsmobile cutlass ciera (diesel)\",\"chrysler lebaron medallion\",\"ford granada l\",\"toyota celica gt\",\"dodge charger 2.2\",\"chevrolet camaro\",\"ford mustang gl\",\"vw pickup\",\"dodge rampage\",\"ford ranger\",\"chevy s-10\"],\"origin\":[\"North America\",\"North America\",\"North America\",\"North America\",\"North America\",\"North America\",\"North America\",\"North America\",\"North America\",\"North America\",\"North America\",\"North America\",\"North America\",\"North America\",\"Asia\",\"North America\",\"North America\",\"North America\",\"Asia\",\"Europe\",\"Europe\",\"Europe\",\"Europe\",\"Europe\",\"North America\",\"North America\",\"North America\",\"North America\",\"North America\",\"Asia\",\"North America\",\"Asia\",\"North America\",\"North America\",\"North America\",\"North America\",\"North America\",\"North America\",\"North America\",\"North America\",\"North America\",\"North America\",\"North America\",\"North America\",\"North America\",\"North America\",\"North America\",\"North America\",\"North America\",\"Europe\",\"Europe\",\"Europe\",\"Asia\",\"Asia\",\"Europe\",\"North America\",\"Asia\",\"North America\",\"Europe\",\"North America\",\"North America\",\"North America\",\"North America\",\"North America\",\"North America\",\"North America\",\"North America\",\"North America\",\"North America\",\"North America\",\"Asia\",\"North America\",\"North America\",\"North America\",\"North America\",\"Europe\",\"Europe\",\"Europe\",\"Europe\",\"North America\",\"Asia\",\"Asia\",\"North America\",\"Asia\",\"North America\",\"North America\",\"North America\",\"North America\",\"North America\",\"North America\",\"North America\",\"North America\",\"North America\",\"North America\",\"North America\",\"North America\",\"North America\",\"North America\",\"North America\",\"North America\",\"North America\",\"Europe\",\"North America\",\"North America\",\"North America\",\"North America\",\"North America\",\"Asia\",\"North America\",\"Asia\",\"Asia\",\"North America\",\"North America\",\"Europe\",\"North America\",\"North America\",\"Europe\",\"Europe\",\"Europe\",\"Europe\",\"North America\",\"Europe\",\"Asia\",\"North America\",\"North America\",\"North America\",\"North America\",\"Asia\",\"North America\",\"Asia\",\"North America\",\"North America\",\"North America\",\"North America\",\"North America\",\"North America\",\"North America\",\"North America\",\"North America\",\"Europe\",\"Europe\",\"Europe\",\"Asia\",\"Asia\",\"North America\",\"Europe\",\"Europe\",\"Asia\",\"Asia\",\"Europe\",\"North America\",\"North America\",\"North America\",\"North America\",\"North America\",\"North America\",\"North America\",\"North America\",\"North America\",\"North America\",\"North America\",\"North America\",\"North America\",\"North America\",\"North America\",\"Asia\",\"North America\",\"North America\",\"North America\",\"Asia\",\"Europe\",\"Asia\",\"North America\",\"Europe\",\"North America\",\"Europe\",\"Europe\",\"Europe\",\"Europe\",\"Asia\",\"Europe\",\"Europe\",\"North America\",\"North America\",\"Europe\",\"North America\",\"North America\",\"North America\",\"North America\",\"North America\",\"North America\",\"North America\",\"North America\",\"North America\",\"North America\",\"Europe\",\"Asia\",\"North America\",\"North America\",\"North America\",\"North America\",\"Europe\",\"Asia\",\"Asia\",\"North America\",\"Europe\",\"North America\",\"Europe\",\"Asia\",\"Europe\",\"North America\",\"North America\",\"North America\",\"North America\",\"Asia\",\"North America\",\"Europe\",\"North America\",\"Asia\",\"North America\",\"North America\",\"North America\",\"North America\",\"North America\",\"North America\",\"North America\",\"North America\",\"North America\",\"North America\",\"North America\",\"North America\",\"Europe\",\"North America\",\"Asia\",\"North America\",\"North America\",\"North America\",\"Asia\",\"Europe\",\"Asia\",\"Europe\",\"Asia\",\"Europe\",\"North America\",\"Asia\",\"Asia\",\"Asia\",\"North America\",\"North America\",\"North America\",\"North America\",\"North America\",\"North America\",\"North America\",\"North America\",\"North America\",\"North America\",\"North America\",\"North America\",\"North America\",\"North America\",\"North America\",\"North America\",\"North America\",\"North America\",\"Asia\",\"Asia\",\"North America\",\"Asia\",\"North America\",\"North America\",\"Asia\",\"Europe\",\"Europe\",\"Europe\",\"Europe\",\"Europe\",\"Asia\",\"North America\",\"North America\",\"North America\",\"North America\",\"North America\",\"North America\",\"North America\",\"North America\",\"North America\",\"North America\",\"North America\",\"North America\",\"North America\",\"Europe\",\"Asia\",\"North America\",\"North America\",\"Europe\",\"North America\",\"Europe\",\"North America\",\"North America\",\"North America\",\"Asia\",\"Europe\",\"North America\",\"North America\",\"North America\",\"North America\",\"Europe\",\"Asia\",\"North America\",\"Asia\",\"North America\",\"North America\",\"North America\",\"North America\",\"Europe\",\"Asia\",\"Asia\",\"Asia\",\"Asia\",\"Asia\",\"North America\",\"Asia\",\"Europe\",\"Europe\",\"Europe\",\"Europe\",\"Asia\",\"Asia\",\"Europe\",\"Asia\",\"Asia\",\"Europe\",\"Asia\",\"North America\",\"North America\",\"North America\",\"North America\",\"North America\",\"Asia\",\"North America\",\"Asia\",\"Asia\",\"Asia\",\"Asia\",\"Asia\",\"North America\",\"North America\",\"North America\",\"Europe\",\"Asia\",\"Asia\",\"Asia\",\"Asia\",\"Europe\",\"Europe\",\"Asia\",\"Asia\",\"North America\",\"North America\",\"North America\",\"North America\",\"North America\",\"North America\",\"North America\",\"North America\",\"North America\",\"North America\",\"North America\",\"Europe\",\"Asia\",\"Asia\",\"North America\",\"North America\",\"Asia\",\"Asia\",\"Asia\",\"Asia\",\"Asia\",\"Asia\",\"North America\",\"North America\",\"North America\",\"North America\",\"Asia\",\"North America\",\"North America\",\"North America\",\"Europe\",\"North America\",\"North America\",\"North America\"],\"weight\":[3504,3693,3436,3433,3449,4341,4354,4312,4425,3850,3563,3609,3761,3086,2372,2833,2774,2587,2130,1835,2672,2430,2375,2234,2648,4615,4376,4382,4732,2130,2264,2228,2634,3439,3329,3302,3288,4209,4464,4154,4096,4955,4746,5140,2962,2408,3282,3139,2220,2123,2074,2065,1773,1613,1834,1955,2278,2126,2254,2408,2226,4274,4385,4135,4129,3672,4633,4502,4456,4422,2330,3892,4098,4294,4077,2933,2511,2979,2189,2395,2288,2506,2164,2100,4100,3672,3988,4042,3777,4952,4464,4363,4237,4735,4951,3821,3121,3278,2945,3021,2904,1950,4997,4906,4654,4499,2789,2279,2401,2379,2124,2310,2472,2265,4082,4278,1867,2158,2582,2868,3399,2660,2807,3664,3102,2901,3336,1950,2451,1836,2542,3781,3632,3613,4141,4699,4457,4638,4257,2219,1963,2300,1649,2003,2125,2108,2246,2489,2391,2000,3264,3459,3432,3158,4668,4440,4498,4657,3907,3897,3730,3785,3039,3221,3169,2171,2639,2914,2592,2702,2223,2545,2984,1937,3211,2694,2957,2945,2671,1795,2464,2220,2572,2255,2202,4215,4190,3962,4215,3233,3353,3012,3085,2035,2164,1937,1795,3651,3574,3645,3193,1825,1990,2155,2565,3150,3940,3270,2930,3820,4380,4055,3870,3755,2045,2155,1825,2300,1945,3880,4060,4140,4295,3520,3425,3630,3525,4220,4165,4325,4335,1940,2740,2265,2755,2051,2075,1985,2190,2815,2600,2720,1985,1800,1985,2070,1800,3365,3735,3570,3535,3155,2965,2720,3430,3210,3380,3070,3620,3410,3425,3445,3205,4080,2155,2560,2300,2230,2515,2745,2855,2405,2830,3140,2795,3410,1990,2135,3245,2990,2890,3265,3360,3840,3725,3955,3830,4360,4054,3605,3940,1925,1975,1915,2670,3530,3900,3190,3420,2200,2150,2020,2130,2670,2595,2700,2556,2144,1968,2120,2019,2678,2870,3003,3381,2188,2711,2542,2434,2265,2110,2800,2110,2085,2335,2950,3250,1850,2145,1845,2910,2420,2500,2290,2490,2635,2620,2725,2385,1755,1875,1760,2065,1975,2050,1985,2215,2045,2380,2190,2210,2350,2615,2635,3230,3160,2900,2930,3415,3725,3060,3465,2605,2640,2395,2575,2525,2735,2865,1980,2025,1970,2125,2125,2160,2205,2245,1965,1965,1995,2945,3015,2585,2835,2665,2370,2950,2790,2130,2295,2625,2720],\"yr\":[70,70,70,70,70,70,70,70,70,70,70,70,70,70,70,70,70,70,70,70,70,70,70,70,70,70,70,70,70,71,71,71,71,71,71,71,71,71,71,71,71,71,71,71,71,71,71,71,71,71,71,71,71,71,71,71,72,72,72,72,72,72,72,72,72,72,72,72,72,72,72,72,72,72,72,72,72,72,72,72,72,72,72,72,73,73,73,73,73,73,73,73,73,73,73,73,73,73,73,73,73,73,73,73,73,73,73,73,73,73,73,73,73,73,73,73,73,73,73,73,73,73,73,73,74,74,74,74,74,74,74,74,74,74,74,74,74,74,74,74,74,74,74,74,74,74,74,74,74,74,75,75,75,75,75,75,75,75,75,75,75,75,75,75,75,75,75,75,75,75,75,75,75,75,75,75,75,75,75,75,76,76,76,76,76,76,76,76,76,76,76,76,76,76,76,76,76,76,76,76,76,76,76,76,76,76,76,76,76,76,76,76,76,76,77,77,77,77,77,77,77,77,77,77,77,77,77,77,77,77,77,77,77,77,77,77,77,77,77,77,77,77,78,78,78,78,78,78,78,78,78,78,78,78,78,78,78,78,78,78,78,78,78,78,78,78,78,78,78,78,78,78,78,78,78,78,78,78,79,79,79,79,79,79,79,79,79,79,79,79,79,79,79,79,79,79,79,79,79,79,79,79,79,79,79,79,79,80,80,80,80,80,80,80,80,80,80,80,80,80,80,80,80,80,80,80,80,80,80,80,80,80,80,80,81,81,81,81,81,81,81,81,81,81,81,81,81,81,81,81,81,81,81,81,81,81,81,81,81,81,81,81,82,82,82,82,82,82,82,82,82,82,82,82,82,82,82,82,82,82,82,82,82,82,82,82,82,82,82,82,82,82]},\"selected\":{\"id\":\"2715\"},\"selection_policy\":{\"id\":\"2714\"}},\"id\":\"2559\",\"type\":\"ColumnDataSource\"},{\"attributes\":{\"axis\":{\"id\":\"2573\"},\"dimension\":1,\"ticker\":null},\"id\":\"2576\",\"type\":\"Grid\"},{\"attributes\":{},\"id\":\"2710\",\"type\":\"AllLabels\"},{\"attributes\":{\"data_source\":{\"id\":\"2559\"},\"glyph\":{\"id\":\"2592\"},\"hover_glyph\":null,\"muted_glyph\":null,\"nonselection_glyph\":{\"id\":\"2593\"},\"view\":{\"id\":\"2595\"}},\"id\":\"2594\",\"type\":\"GlyphRenderer\"},{\"attributes\":{\"active_multi\":null,\"tools\":[{\"id\":\"2577\"},{\"id\":\"2578\"},{\"id\":\"2579\"},{\"id\":\"2580\"},{\"id\":\"2581\"},{\"id\":\"2582\"}]},\"id\":\"2584\",\"type\":\"Toolbar\"},{\"attributes\":{\"fill_color\":{\"value\":\"#1f77b4\"},\"line_color\":{\"value\":\"#1f77b4\"},\"marker\":{\"value\":\"square\"},\"x\":{\"field\":\"mpg\"},\"y\":{\"field\":\"yr\"}},\"id\":\"2592\",\"type\":\"Scatter\"},{\"attributes\":{},\"id\":\"2567\",\"type\":\"LinearScale\"}],\"root_ids\":[\"2560\"]},\"title\":\"Bokeh Application\",\"version\":\"2.3.3\"}};\n",
       "  var render_items = [{\"docid\":\"de3c6168-392c-4ccc-b602-fd55e6ac55db\",\"root_ids\":[\"2560\"],\"roots\":{\"2560\":\"f0bf9335-8964-4b6f-8c2a-630d75371e25\"}}];\n",
       "  root.Bokeh.embed.embed_items_notebook(docs_json, render_items);\n",
       "\n",
       "  }\n",
       "  if (root.Bokeh !== undefined) {\n",
       "    embed_document(root);\n",
       "  } else {\n",
       "    var attempts = 0;\n",
       "    var timer = setInterval(function(root) {\n",
       "      if (root.Bokeh !== undefined) {\n",
       "        clearInterval(timer);\n",
       "        embed_document(root);\n",
       "      } else {\n",
       "        attempts++;\n",
       "        if (attempts > 100) {\n",
       "          clearInterval(timer);\n",
       "          console.log(\"Bokeh: ERROR: Unable to run BokehJS code because BokehJS library is missing\");\n",
       "        }\n",
       "      }\n",
       "    }, 10, root)\n",
       "  }\n",
       "})(window);"
      ],
      "application/vnd.bokehjs_exec.v0+json": ""
     },
     "metadata": {
      "application/vnd.bokehjs_exec.v0+json": {
       "id": "2560"
      }
     },
     "output_type": "display_data"
    }
   ],
   "source": [
    "from bokeh.sampledata.autompg import autompg_clean as df\n",
    "\n",
    "# create ColumnDataSource\n",
    "source = ColumnDataSource(df)\n",
    "\n",
    "# pass the column names to glyph method\n",
    "p = figure(plot_width=400, plot_height=400)\n",
    "p.square('mpg', 'yr', source=source)\n",
    "show(p)"
   ]
  },
  {
   "cell_type": "markdown",
   "metadata": {},
   "source": [
    "### Automatic Conversion\n",
    "\n",
    "If you do not need to share data sources, it may be convenient to pass dicts, Pandas `DataFrame` or `GroupBy` objects directly to glyph methods, without explicitly creating a `ColumnDataSource`. In this case, a `ColumnDataSource` will be created automatically."
   ]
  },
  {
   "cell_type": "code",
   "execution_count": 19,
   "metadata": {},
   "outputs": [
    {
     "data": {
      "text/html": [
       "\n",
       "\n",
       "\n",
       "\n",
       "\n",
       "\n",
       "  <div class=\"bk-root\" id=\"4684fa66-0a9b-4216-8100-031a7f5a9e7c\" data-root-id=\"2772\"></div>\n"
      ]
     },
     "metadata": {},
     "output_type": "display_data"
    },
    {
     "data": {
      "application/javascript": [
       "(function(root) {\n",
       "  function embed_document(root) {\n",
       "    \n",
       "  var docs_json = {\"cea649e7-c76f-49c0-b1e7-9643d406c4c1\":{\"defs\":[],\"roots\":{\"references\":[{\"attributes\":{\"below\":[{\"id\":\"2781\"}],\"center\":[{\"id\":\"2784\"},{\"id\":\"2788\"}],\"height\":400,\"left\":[{\"id\":\"2785\"}],\"renderers\":[{\"id\":\"2807\"}],\"title\":{\"id\":\"2930\"},\"toolbar\":{\"id\":\"2796\"},\"width\":400,\"x_range\":{\"id\":\"2773\"},\"x_scale\":{\"id\":\"2777\"},\"y_range\":{\"id\":\"2775\"},\"y_scale\":{\"id\":\"2779\"}},\"id\":\"2772\",\"subtype\":\"Figure\",\"type\":\"Plot\"},{\"attributes\":{},\"id\":\"2937\",\"type\":\"AllLabels\"},{\"attributes\":{\"data\":{\"index\":[0,1,2,3,4,5,6,7,8,9,10,11,12,13,14,15,16,17,18,19,20,21,22,23,24,25,26,27,28,29,30,31,32,33,34,35,36,37,38,39,40,41,42,43,44,45,46,47,48,49,50,51,52,53,54,55,56,57,58,59,60,61,62,63,64,65,66,67,68,69,70,71,72,73,74,75,76,77,78,79,80,81,82,83,84,85,86,87,88,89,90,91,92,93,94,95,96,97,98,99,100,101,102,103,104,105,106,107,108,109,110,111,112,113,114,115,116,117,118,119,120,121,122,123,124,125,126,127,128,129,130,131,132,133,134,135,136,137,138,139,140,141,142,143,144,145,146,147,148,149],\"petal_length\":{\"__ndarray__\":\"ZmZmZmZm9j9mZmZmZmb2P83MzMzMzPQ/AAAAAAAA+D9mZmZmZmb2PzMzMzMzM/s/ZmZmZmZm9j8AAAAAAAD4P2ZmZmZmZvY/AAAAAAAA+D8AAAAAAAD4P5qZmZmZmfk/ZmZmZmZm9j+amZmZmZnxPzMzMzMzM/M/AAAAAAAA+D/NzMzMzMz0P2ZmZmZmZvY/MzMzMzMz+z8AAAAAAAD4PzMzMzMzM/s/AAAAAAAA+D8AAAAAAADwPzMzMzMzM/s/ZmZmZmZm/j+amZmZmZn5P5qZmZmZmfk/AAAAAAAA+D9mZmZmZmb2P5qZmZmZmfk/mpmZmZmZ+T8AAAAAAAD4PwAAAAAAAPg/ZmZmZmZm9j8AAAAAAAD4PzMzMzMzM/M/zczMzMzM9D9mZmZmZmb2P83MzMzMzPQ/AAAAAAAA+D/NzMzMzMz0P83MzMzMzPQ/zczMzMzM9D+amZmZmZn5P2ZmZmZmZv4/ZmZmZmZm9j+amZmZmZn5P2ZmZmZmZvY/AAAAAAAA+D9mZmZmZmb2P83MzMzMzBJAAAAAAAAAEkCamZmZmZkTQAAAAAAAABBAZmZmZmZmEkAAAAAAAAASQM3MzMzMzBJAZmZmZmZmCkBmZmZmZmYSQDMzMzMzMw9AAAAAAAAADEDNzMzMzMwQQAAAAAAAABBAzczMzMzMEkDNzMzMzMwMQJqZmZmZmRFAAAAAAAAAEkBmZmZmZmYQQAAAAAAAABJAMzMzMzMzD0AzMzMzMzMTQAAAAAAAABBAmpmZmZmZE0DNzMzMzMwSQDMzMzMzMxFAmpmZmZmZEUAzMzMzMzMTQAAAAAAAABRAAAAAAAAAEkAAAAAAAAAMQGZmZmZmZg5AmpmZmZmZDUAzMzMzMzMPQGZmZmZmZhRAAAAAAAAAEkAAAAAAAAASQM3MzMzMzBJAmpmZmZmZEUBmZmZmZmYQQAAAAAAAABBAmpmZmZmZEUBmZmZmZmYSQAAAAAAAABBAZmZmZmZmCkDNzMzMzMwQQM3MzMzMzBBAzczMzMzMEEAzMzMzMzMRQAAAAAAAAAhAZmZmZmZmEEAAAAAAAAAYQGZmZmZmZhRAmpmZmZmZF0BmZmZmZmYWQDMzMzMzMxdAZmZmZmZmGkAAAAAAAAASQDMzMzMzMxlAMzMzMzMzF0BmZmZmZmYYQGZmZmZmZhRAMzMzMzMzFUAAAAAAAAAWQAAAAAAAABRAZmZmZmZmFEAzMzMzMzMVQAAAAAAAABZAzczMzMzMGkCamZmZmZkbQAAAAAAAABRAzczMzMzMFkCamZmZmZkTQM3MzMzMzBpAmpmZmZmZE0DNzMzMzMwWQAAAAAAAABhAMzMzMzMzE0CamZmZmZkTQGZmZmZmZhZAMzMzMzMzF0BmZmZmZmYYQJqZmZmZmRlAZmZmZmZmFkBmZmZmZmYUQGZmZmZmZhZAZmZmZmZmGEBmZmZmZmYWQAAAAAAAABZAMzMzMzMzE0CamZmZmZkVQGZmZmZmZhZAZmZmZmZmFEBmZmZmZmYUQJqZmZmZmRdAzczMzMzMFkDNzMzMzMwUQAAAAAAAABRAzczMzMzMFECamZmZmZkVQGZmZmZmZhRA\",\"dtype\":\"float64\",\"order\":\"little\",\"shape\":[150]},\"petal_width\":{\"__ndarray__\":\"mpmZmZmZyT+amZmZmZnJP5qZmZmZmck/mpmZmZmZyT+amZmZmZnJP5qZmZmZmdk/MzMzMzMz0z+amZmZmZnJP5qZmZmZmck/mpmZmZmZuT+amZmZmZnJP5qZmZmZmck/mpmZmZmZuT+amZmZmZm5P5qZmZmZmck/mpmZmZmZ2T+amZmZmZnZPzMzMzMzM9M/MzMzMzMz0z8zMzMzMzPTP5qZmZmZmck/mpmZmZmZ2T+amZmZmZnJPwAAAAAAAOA/mpmZmZmZyT+amZmZmZnJP5qZmZmZmdk/mpmZmZmZyT+amZmZmZnJP5qZmZmZmck/mpmZmZmZyT+amZmZmZnZP5qZmZmZmbk/mpmZmZmZyT+amZmZmZnJP5qZmZmZmck/mpmZmZmZyT+amZmZmZm5P5qZmZmZmck/mpmZmZmZyT8zMzMzMzPTPzMzMzMzM9M/mpmZmZmZyT8zMzMzMzPjP5qZmZmZmdk/MzMzMzMz0z+amZmZmZnJP5qZmZmZmck/mpmZmZmZyT+amZmZmZnJP2ZmZmZmZvY/AAAAAAAA+D8AAAAAAAD4P83MzMzMzPQ/AAAAAAAA+D/NzMzMzMz0P5qZmZmZmfk/AAAAAAAA8D/NzMzMzMz0P2ZmZmZmZvY/AAAAAAAA8D8AAAAAAAD4PwAAAAAAAPA/ZmZmZmZm9j/NzMzMzMz0P2ZmZmZmZvY/AAAAAAAA+D8AAAAAAADwPwAAAAAAAPg/mpmZmZmZ8T/NzMzMzMz8P83MzMzMzPQ/AAAAAAAA+D8zMzMzMzPzP83MzMzMzPQ/ZmZmZmZm9j9mZmZmZmb2PzMzMzMzM/s/AAAAAAAA+D8AAAAAAADwP5qZmZmZmfE/AAAAAAAA8D8zMzMzMzPzP5qZmZmZmfk/AAAAAAAA+D+amZmZmZn5PwAAAAAAAPg/zczMzMzM9D/NzMzMzMz0P83MzMzMzPQ/MzMzMzMz8z9mZmZmZmb2PzMzMzMzM/M/AAAAAAAA8D/NzMzMzMz0PzMzMzMzM/M/zczMzMzM9D/NzMzMzMz0P5qZmZmZmfE/zczMzMzM9D8AAAAAAAAEQGZmZmZmZv4/zczMzMzMAEDNzMzMzMz8P5qZmZmZmQFAzczMzMzMAEAzMzMzMzP7P83MzMzMzPw/zczMzMzM/D8AAAAAAAAEQAAAAAAAAABAZmZmZmZm/j/NzMzMzMwAQAAAAAAAAABAMzMzMzMzA0BmZmZmZmYCQM3MzMzMzPw/mpmZmZmZAUBmZmZmZmYCQAAAAAAAAPg/ZmZmZmZmAkAAAAAAAAAAQAAAAAAAAABAzczMzMzM/D/NzMzMzMwAQM3MzMzMzPw/zczMzMzM/D/NzMzMzMz8P83MzMzMzABAmpmZmZmZ+T9mZmZmZmb+PwAAAAAAAABAmpmZmZmZAUAAAAAAAAD4P2ZmZmZmZvY/ZmZmZmZmAkAzMzMzMzMDQM3MzMzMzPw/zczMzMzM/D/NzMzMzMwAQDMzMzMzMwNAZmZmZmZmAkBmZmZmZmb+P2ZmZmZmZgJAAAAAAAAABEBmZmZmZmYCQGZmZmZmZv4/AAAAAAAAAEBmZmZmZmYCQM3MzMzMzPw/\",\"dtype\":\"float64\",\"order\":\"little\",\"shape\":[150]},\"sepal_length\":{\"__ndarray__\":\"ZmZmZmZmFECamZmZmZkTQM3MzMzMzBJAZmZmZmZmEkAAAAAAAAAUQJqZmZmZmRVAZmZmZmZmEkAAAAAAAAAUQJqZmZmZmRFAmpmZmZmZE0CamZmZmZkVQDMzMzMzMxNAMzMzMzMzE0AzMzMzMzMRQDMzMzMzMxdAzczMzMzMFkCamZmZmZkVQGZmZmZmZhRAzczMzMzMFkBmZmZmZmYUQJqZmZmZmRVAZmZmZmZmFEBmZmZmZmYSQGZmZmZmZhRAMzMzMzMzE0AAAAAAAAAUQAAAAAAAABRAzczMzMzMFEDNzMzMzMwUQM3MzMzMzBJAMzMzMzMzE0CamZmZmZkVQM3MzMzMzBRAAAAAAAAAFkCamZmZmZkTQAAAAAAAABRAAAAAAAAAFkCamZmZmZkTQJqZmZmZmRFAZmZmZmZmFEAAAAAAAAAUQAAAAAAAABJAmpmZmZmZEUAAAAAAAAAUQGZmZmZmZhRAMzMzMzMzE0BmZmZmZmYUQGZmZmZmZhJAMzMzMzMzFUAAAAAAAAAUQAAAAAAAABxAmpmZmZmZGUCamZmZmZkbQAAAAAAAABZAAAAAAAAAGkDNzMzMzMwWQDMzMzMzMxlAmpmZmZmZE0BmZmZmZmYaQM3MzMzMzBRAAAAAAAAAFECamZmZmZkXQAAAAAAAABhAZmZmZmZmGEBmZmZmZmYWQM3MzMzMzBpAZmZmZmZmFkAzMzMzMzMXQM3MzMzMzBhAZmZmZmZmFkCamZmZmZkXQGZmZmZmZhhAMzMzMzMzGUBmZmZmZmYYQJqZmZmZmRlAZmZmZmZmGkAzMzMzMzMbQM3MzMzMzBpAAAAAAAAAGEDNzMzMzMwWQAAAAAAAABZAAAAAAAAAFkAzMzMzMzMXQAAAAAAAABhAmpmZmZmZFUAAAAAAAAAYQM3MzMzMzBpAMzMzMzMzGUBmZmZmZmYWQAAAAAAAABZAAAAAAAAAFkBmZmZmZmYYQDMzMzMzMxdAAAAAAAAAFEBmZmZmZmYWQM3MzMzMzBZAzczMzMzMFkDNzMzMzMwYQGZmZmZmZhRAzczMzMzMFkAzMzMzMzMZQDMzMzMzMxdAZmZmZmZmHEAzMzMzMzMZQAAAAAAAABpAZmZmZmZmHkCamZmZmZkTQDMzMzMzMx1AzczMzMzMGkDNzMzMzMwcQAAAAAAAABpAmpmZmZmZGUAzMzMzMzMbQM3MzMzMzBZAMzMzMzMzF0CamZmZmZkZQAAAAAAAABpAzczMzMzMHkDNzMzMzMweQAAAAAAAABhAmpmZmZmZG0BmZmZmZmYWQM3MzMzMzB5AMzMzMzMzGUDNzMzMzMwaQM3MzMzMzBxAzczMzMzMGEBmZmZmZmYYQJqZmZmZmRlAzczMzMzMHECamZmZmZkdQJqZmZmZmR9AmpmZmZmZGUAzMzMzMzMZQGZmZmZmZhhAzczMzMzMHkAzMzMzMzMZQJqZmZmZmRlAAAAAAAAAGECamZmZmZkbQM3MzMzMzBpAmpmZmZmZG0AzMzMzMzMXQDMzMzMzMxtAzczMzMzMGkDNzMzMzMwaQDMzMzMzMxlAAAAAAAAAGkDNzMzMzMwYQJqZmZmZmRdA\",\"dtype\":\"float64\",\"order\":\"little\",\"shape\":[150]},\"sepal_width\":{\"__ndarray__\":\"AAAAAAAADEAAAAAAAAAIQJqZmZmZmQlAzczMzMzMCEDNzMzMzMwMQDMzMzMzMw9AMzMzMzMzC0AzMzMzMzMLQDMzMzMzMwdAzczMzMzMCECamZmZmZkNQDMzMzMzMwtAAAAAAAAACEAAAAAAAAAIQAAAAAAAABBAmpmZmZmZEUAzMzMzMzMPQAAAAAAAAAxAZmZmZmZmDkBmZmZmZmYOQDMzMzMzMwtAmpmZmZmZDUDNzMzMzMwMQGZmZmZmZgpAMzMzMzMzC0AAAAAAAAAIQDMzMzMzMwtAAAAAAAAADEAzMzMzMzMLQJqZmZmZmQlAzczMzMzMCEAzMzMzMzMLQGZmZmZmZhBAzczMzMzMEEDNzMzMzMwIQJqZmZmZmQlAAAAAAAAADEDNzMzMzMwMQAAAAAAAAAhAMzMzMzMzC0AAAAAAAAAMQGZmZmZmZgJAmpmZmZmZCUAAAAAAAAAMQGZmZmZmZg5AAAAAAAAACEBmZmZmZmYOQJqZmZmZmQlAmpmZmZmZDUBmZmZmZmYKQJqZmZmZmQlAmpmZmZmZCUDNzMzMzMwIQGZmZmZmZgJAZmZmZmZmBkBmZmZmZmYGQGZmZmZmZgpAMzMzMzMzA0AzMzMzMzMHQJqZmZmZmQVAAAAAAAAAAEAAAAAAAAAIQJqZmZmZmQFAMzMzMzMzB0AzMzMzMzMHQM3MzMzMzAhAAAAAAAAACECamZmZmZkFQJqZmZmZmQFAAAAAAAAABECamZmZmZkJQGZmZmZmZgZAAAAAAAAABEBmZmZmZmYGQDMzMzMzMwdAAAAAAAAACEBmZmZmZmYGQAAAAAAAAAhAMzMzMzMzB0DNzMzMzMwEQDMzMzMzMwNAMzMzMzMzA0CamZmZmZkFQJqZmZmZmQVAAAAAAAAACEAzMzMzMzMLQM3MzMzMzAhAZmZmZmZmAkAAAAAAAAAIQAAAAAAAAARAzczMzMzMBEAAAAAAAAAIQM3MzMzMzARAZmZmZmZmAkCamZmZmZkFQAAAAAAAAAhAMzMzMzMzB0AzMzMzMzMHQAAAAAAAAARAZmZmZmZmBkBmZmZmZmYKQJqZmZmZmQVAAAAAAAAACEAzMzMzMzMHQAAAAAAAAAhAAAAAAAAACEAAAAAAAAAEQDMzMzMzMwdAAAAAAAAABEDNzMzMzMwMQJqZmZmZmQlAmpmZmZmZBUAAAAAAAAAIQAAAAAAAAARAZmZmZmZmBkCamZmZmZkJQAAAAAAAAAhAZmZmZmZmDkDNzMzMzMwEQJqZmZmZmQFAmpmZmZmZCUBmZmZmZmYGQGZmZmZmZgZAmpmZmZmZBUBmZmZmZmYKQJqZmZmZmQlAZmZmZmZmBkAAAAAAAAAIQGZmZmZmZgZAAAAAAAAACEBmZmZmZmYGQGZmZmZmZg5AZmZmZmZmBkBmZmZmZmYGQM3MzMzMzARAAAAAAAAACEAzMzMzMzMLQM3MzMzMzAhAAAAAAAAACEDNzMzMzMwIQM3MzMzMzAhAzczMzMzMCECamZmZmZkFQJqZmZmZmQlAZmZmZmZmCkAAAAAAAAAIQAAAAAAAAARAAAAAAAAACEAzMzMzMzMLQAAAAAAAAAhA\",\"dtype\":\"float64\",\"order\":\"little\",\"shape\":[150]},\"species\":[\"setosa\",\"setosa\",\"setosa\",\"setosa\",\"setosa\",\"setosa\",\"setosa\",\"setosa\",\"setosa\",\"setosa\",\"setosa\",\"setosa\",\"setosa\",\"setosa\",\"setosa\",\"setosa\",\"setosa\",\"setosa\",\"setosa\",\"setosa\",\"setosa\",\"setosa\",\"setosa\",\"setosa\",\"setosa\",\"setosa\",\"setosa\",\"setosa\",\"setosa\",\"setosa\",\"setosa\",\"setosa\",\"setosa\",\"setosa\",\"setosa\",\"setosa\",\"setosa\",\"setosa\",\"setosa\",\"setosa\",\"setosa\",\"setosa\",\"setosa\",\"setosa\",\"setosa\",\"setosa\",\"setosa\",\"setosa\",\"setosa\",\"setosa\",\"versicolor\",\"versicolor\",\"versicolor\",\"versicolor\",\"versicolor\",\"versicolor\",\"versicolor\",\"versicolor\",\"versicolor\",\"versicolor\",\"versicolor\",\"versicolor\",\"versicolor\",\"versicolor\",\"versicolor\",\"versicolor\",\"versicolor\",\"versicolor\",\"versicolor\",\"versicolor\",\"versicolor\",\"versicolor\",\"versicolor\",\"versicolor\",\"versicolor\",\"versicolor\",\"versicolor\",\"versicolor\",\"versicolor\",\"versicolor\",\"versicolor\",\"versicolor\",\"versicolor\",\"versicolor\",\"versicolor\",\"versicolor\",\"versicolor\",\"versicolor\",\"versicolor\",\"versicolor\",\"versicolor\",\"versicolor\",\"versicolor\",\"versicolor\",\"versicolor\",\"versicolor\",\"versicolor\",\"versicolor\",\"versicolor\",\"versicolor\",\"virginica\",\"virginica\",\"virginica\",\"virginica\",\"virginica\",\"virginica\",\"virginica\",\"virginica\",\"virginica\",\"virginica\",\"virginica\",\"virginica\",\"virginica\",\"virginica\",\"virginica\",\"virginica\",\"virginica\",\"virginica\",\"virginica\",\"virginica\",\"virginica\",\"virginica\",\"virginica\",\"virginica\",\"virginica\",\"virginica\",\"virginica\",\"virginica\",\"virginica\",\"virginica\",\"virginica\",\"virginica\",\"virginica\",\"virginica\",\"virginica\",\"virginica\",\"virginica\",\"virginica\",\"virginica\",\"virginica\",\"virginica\",\"virginica\",\"virginica\",\"virginica\",\"virginica\",\"virginica\",\"virginica\",\"virginica\",\"virginica\",\"virginica\"]},\"selected\":{\"id\":\"2939\"},\"selection_policy\":{\"id\":\"2938\"}},\"id\":\"2803\",\"type\":\"ColumnDataSource\"},{\"attributes\":{},\"id\":\"2935\",\"type\":\"BasicTickFormatter\"},{\"attributes\":{},\"id\":\"2792\",\"type\":\"SaveTool\"},{\"attributes\":{\"data_source\":{\"id\":\"2803\"},\"glyph\":{\"id\":\"2805\"},\"hover_glyph\":null,\"muted_glyph\":null,\"nonselection_glyph\":{\"id\":\"2806\"},\"view\":{\"id\":\"2808\"}},\"id\":\"2807\",\"type\":\"GlyphRenderer\"},{\"attributes\":{},\"id\":\"2934\",\"type\":\"AllLabels\"},{\"attributes\":{\"source\":{\"id\":\"2803\"}},\"id\":\"2808\",\"type\":\"CDSView\"},{\"attributes\":{\"bottom_units\":\"screen\",\"fill_alpha\":0.5,\"fill_color\":\"lightgrey\",\"left_units\":\"screen\",\"level\":\"overlay\",\"line_alpha\":1.0,\"line_color\":\"black\",\"line_dash\":[4,4],\"line_width\":2,\"right_units\":\"screen\",\"syncable\":false,\"top_units\":\"screen\"},\"id\":\"2795\",\"type\":\"BoxAnnotation\"},{\"attributes\":{},\"id\":\"2932\",\"type\":\"BasicTickFormatter\"},{\"attributes\":{},\"id\":\"2794\",\"type\":\"HelpTool\"},{\"attributes\":{},\"id\":\"2775\",\"type\":\"DataRange1d\"},{\"attributes\":{\"fill_color\":{\"value\":\"#1f77b4\"},\"line_color\":{\"value\":\"#1f77b4\"},\"x\":{\"field\":\"petal_length\"},\"y\":{\"field\":\"petal_width\"}},\"id\":\"2805\",\"type\":\"Circle\"},{\"attributes\":{},\"id\":\"2793\",\"type\":\"ResetTool\"},{\"attributes\":{\"fill_alpha\":{\"value\":0.1},\"fill_color\":{\"value\":\"#1f77b4\"},\"line_alpha\":{\"value\":0.1},\"line_color\":{\"value\":\"#1f77b4\"},\"x\":{\"field\":\"petal_length\"},\"y\":{\"field\":\"petal_width\"}},\"id\":\"2806\",\"type\":\"Circle\"},{\"attributes\":{\"formatter\":{\"id\":\"2932\"},\"major_label_policy\":{\"id\":\"2934\"},\"ticker\":{\"id\":\"2782\"}},\"id\":\"2781\",\"type\":\"LinearAxis\"},{\"attributes\":{},\"id\":\"2789\",\"type\":\"PanTool\"},{\"attributes\":{},\"id\":\"2790\",\"type\":\"WheelZoomTool\"},{\"attributes\":{},\"id\":\"2773\",\"type\":\"DataRange1d\"},{\"attributes\":{},\"id\":\"2930\",\"type\":\"Title\"},{\"attributes\":{\"overlay\":{\"id\":\"2795\"}},\"id\":\"2791\",\"type\":\"BoxZoomTool\"},{\"attributes\":{\"formatter\":{\"id\":\"2935\"},\"major_label_policy\":{\"id\":\"2937\"},\"ticker\":{\"id\":\"2786\"}},\"id\":\"2785\",\"type\":\"LinearAxis\"},{\"attributes\":{},\"id\":\"2938\",\"type\":\"UnionRenderers\"},{\"attributes\":{\"active_multi\":null,\"tools\":[{\"id\":\"2789\"},{\"id\":\"2790\"},{\"id\":\"2791\"},{\"id\":\"2792\"},{\"id\":\"2793\"},{\"id\":\"2794\"}]},\"id\":\"2796\",\"type\":\"Toolbar\"},{\"attributes\":{},\"id\":\"2939\",\"type\":\"Selection\"},{\"attributes\":{\"axis\":{\"id\":\"2781\"},\"ticker\":null},\"id\":\"2784\",\"type\":\"Grid\"},{\"attributes\":{\"axis\":{\"id\":\"2785\"},\"dimension\":1,\"ticker\":null},\"id\":\"2788\",\"type\":\"Grid\"},{\"attributes\":{},\"id\":\"2782\",\"type\":\"BasicTicker\"},{\"attributes\":{},\"id\":\"2786\",\"type\":\"BasicTicker\"},{\"attributes\":{},\"id\":\"2779\",\"type\":\"LinearScale\"},{\"attributes\":{},\"id\":\"2777\",\"type\":\"LinearScale\"}],\"root_ids\":[\"2772\"]},\"title\":\"Bokeh Application\",\"version\":\"2.3.3\"}};\n",
       "  var render_items = [{\"docid\":\"cea649e7-c76f-49c0-b1e7-9643d406c4c1\",\"root_ids\":[\"2772\"],\"roots\":{\"2772\":\"4684fa66-0a9b-4216-8100-031a7f5a9e7c\"}}];\n",
       "  root.Bokeh.embed.embed_items_notebook(docs_json, render_items);\n",
       "\n",
       "  }\n",
       "  if (root.Bokeh !== undefined) {\n",
       "    embed_document(root);\n",
       "  } else {\n",
       "    var attempts = 0;\n",
       "    var timer = setInterval(function(root) {\n",
       "      if (root.Bokeh !== undefined) {\n",
       "        clearInterval(timer);\n",
       "        embed_document(root);\n",
       "      } else {\n",
       "        attempts++;\n",
       "        if (attempts > 100) {\n",
       "          clearInterval(timer);\n",
       "          console.log(\"Bokeh: ERROR: Unable to run BokehJS code because BokehJS library is missing\");\n",
       "        }\n",
       "      }\n",
       "    }, 10, root)\n",
       "  }\n",
       "})(window);"
      ],
      "application/vnd.bokehjs_exec.v0+json": ""
     },
     "metadata": {
      "application/vnd.bokehjs_exec.v0+json": {
       "id": "2772"
      }
     },
     "output_type": "display_data"
    }
   ],
   "source": [
    "from bokeh.sampledata.iris import flowers as df\n",
    "\n",
    "p = figure(plot_width=400, plot_height=400)\n",
    "p.circle('petal_length', 'petal_width', source=df)\n",
    "show(p)"
   ]
  },
  {
   "cell_type": "markdown",
   "metadata": {},
   "source": [
    "## Transformations\n",
    "\n",
    "In addition to being configured with names of columns from data sources, glyph properties may also be configured with transform objects that represent transformations of columns. These live in the `bokeh.transform` module. It is important to note that when using these objects, the transformations occur *in the browser, not in Python*. \n",
    "\n",
    "The first transform we look at is the `cumsum` transform, which can generate a new sequence of values from a data source column by cumulatively summing the values in the column. This can be useful for pie or donut type charts as seen below.\n",
    "\n",
    "In the code below we first create a data frame containing several countries and their corresponding (meaningless) values. Next, we add a column in which color is defined for every row, or country, in the data frame. Coloring palettes (like Category20c, used below) can be found at https://docs.bokeh.org/en/latest/docs/reference/palettes.html. We also add a column 'angle' to the data frame, here the value of every country is normalised to an angle (in radians).  \n",
    "\n",
    "Next, we create the figure. Here, we use the `wedge()` method to draw wedges based on the angles we've calculated earlier. First, we define the *x* and *y* coordinates of the points of the wedges and choose the radius of the wedge. We then use `cumsum` to define `start_angle` and `end_angle`, (the angles at which the wedges start and end, as measured from the horizontal). `cumsum` is a method from the `bokeh.transform` module and is used to sum the \"angle\" column of a data source, in this case our data frame. `include_zero` is set to `True`, indicating that we start at an angle of zero. Lastly, we add some styling elements in this method and tell the method what data it should look at. \n",
    "\n",
    "To summarize, we've turned the values of the data frame into ratios which we use to draw a wedge for every entry in our data frame. "
   ]
  },
  {
   "cell_type": "code",
   "execution_count": 24,
   "metadata": {},
   "outputs": [
    {
     "data": {
      "text/html": [
       "<div>\n",
       "<style scoped>\n",
       "    .dataframe tbody tr th:only-of-type {\n",
       "        vertical-align: middle;\n",
       "    }\n",
       "\n",
       "    .dataframe tbody tr th {\n",
       "        vertical-align: top;\n",
       "    }\n",
       "\n",
       "    .dataframe thead th {\n",
       "        text-align: right;\n",
       "    }\n",
       "</style>\n",
       "<table border=\"1\" class=\"dataframe\">\n",
       "  <thead>\n",
       "    <tr style=\"text-align: right;\">\n",
       "      <th></th>\n",
       "      <th>country</th>\n",
       "      <th>value</th>\n",
       "      <th>color</th>\n",
       "      <th>angle</th>\n",
       "    </tr>\n",
       "  </thead>\n",
       "  <tbody>\n",
       "    <tr>\n",
       "      <th>0</th>\n",
       "      <td>United States</td>\n",
       "      <td>157</td>\n",
       "      <td>#3182bd</td>\n",
       "      <td>1.437988</td>\n",
       "    </tr>\n",
       "    <tr>\n",
       "      <th>1</th>\n",
       "      <td>United Kingdom</td>\n",
       "      <td>93</td>\n",
       "      <td>#6baed6</td>\n",
       "      <td>0.851802</td>\n",
       "    </tr>\n",
       "    <tr>\n",
       "      <th>2</th>\n",
       "      <td>Japan</td>\n",
       "      <td>89</td>\n",
       "      <td>#9ecae1</td>\n",
       "      <td>0.815165</td>\n",
       "    </tr>\n",
       "    <tr>\n",
       "      <th>3</th>\n",
       "      <td>China</td>\n",
       "      <td>63</td>\n",
       "      <td>#c6dbef</td>\n",
       "      <td>0.577027</td>\n",
       "    </tr>\n",
       "    <tr>\n",
       "      <th>4</th>\n",
       "      <td>Germany</td>\n",
       "      <td>44</td>\n",
       "      <td>#e6550d</td>\n",
       "      <td>0.403003</td>\n",
       "    </tr>\n",
       "    <tr>\n",
       "      <th>5</th>\n",
       "      <td>India</td>\n",
       "      <td>42</td>\n",
       "      <td>#fd8d3c</td>\n",
       "      <td>0.384685</td>\n",
       "    </tr>\n",
       "    <tr>\n",
       "      <th>6</th>\n",
       "      <td>Italy</td>\n",
       "      <td>40</td>\n",
       "      <td>#fdae6b</td>\n",
       "      <td>0.366366</td>\n",
       "    </tr>\n",
       "    <tr>\n",
       "      <th>7</th>\n",
       "      <td>Australia</td>\n",
       "      <td>35</td>\n",
       "      <td>#fdd0a2</td>\n",
       "      <td>0.320571</td>\n",
       "    </tr>\n",
       "    <tr>\n",
       "      <th>8</th>\n",
       "      <td>Brazil</td>\n",
       "      <td>32</td>\n",
       "      <td>#31a354</td>\n",
       "      <td>0.293093</td>\n",
       "    </tr>\n",
       "    <tr>\n",
       "      <th>9</th>\n",
       "      <td>France</td>\n",
       "      <td>31</td>\n",
       "      <td>#74c476</td>\n",
       "      <td>0.283934</td>\n",
       "    </tr>\n",
       "    <tr>\n",
       "      <th>10</th>\n",
       "      <td>Taiwan</td>\n",
       "      <td>31</td>\n",
       "      <td>#a1d99b</td>\n",
       "      <td>0.283934</td>\n",
       "    </tr>\n",
       "    <tr>\n",
       "      <th>11</th>\n",
       "      <td>Spain</td>\n",
       "      <td>29</td>\n",
       "      <td>#c7e9c0</td>\n",
       "      <td>0.265616</td>\n",
       "    </tr>\n",
       "  </tbody>\n",
       "</table>\n",
       "</div>"
      ],
      "text/plain": [
       "           country  value    color     angle\n",
       "0    United States    157  #3182bd  1.437988\n",
       "1   United Kingdom     93  #6baed6  0.851802\n",
       "2            Japan     89  #9ecae1  0.815165\n",
       "3            China     63  #c6dbef  0.577027\n",
       "4          Germany     44  #e6550d  0.403003\n",
       "5            India     42  #fd8d3c  0.384685\n",
       "6            Italy     40  #fdae6b  0.366366\n",
       "7        Australia     35  #fdd0a2  0.320571\n",
       "8           Brazil     32  #31a354  0.293093\n",
       "9           France     31  #74c476  0.283934\n",
       "10          Taiwan     31  #a1d99b  0.283934\n",
       "11           Spain     29  #c7e9c0  0.265616"
      ]
     },
     "metadata": {},
     "output_type": "display_data"
    },
    {
     "data": {
      "text/html": [
       "\n",
       "\n",
       "\n",
       "\n",
       "\n",
       "\n",
       "  <div class=\"bk-root\" id=\"1e926635-7c9c-4a13-b483-9c75585253f5\" data-root-id=\"3958\"></div>\n"
      ]
     },
     "metadata": {},
     "output_type": "display_data"
    },
    {
     "data": {
      "application/javascript": [
       "(function(root) {\n",
       "  function embed_document(root) {\n",
       "    \n",
       "  var docs_json = {\"e52b65e6-8ddf-48e2-9337-cc31171612c0\":{\"defs\":[],\"roots\":{\"references\":[{\"attributes\":{\"below\":[{\"id\":\"3969\"}],\"center\":[{\"id\":\"3972\"},{\"id\":\"3976\"},{\"id\":\"3997\"}],\"height\":350,\"left\":[{\"id\":\"3973\"}],\"renderers\":[{\"id\":\"3986\"}],\"title\":{\"id\":\"3959\"},\"toolbar\":{\"id\":\"3978\"},\"toolbar_location\":null,\"x_range\":{\"id\":\"3961\"},\"x_scale\":{\"id\":\"3965\"},\"y_range\":{\"id\":\"3963\"},\"y_scale\":{\"id\":\"3967\"}},\"id\":\"3958\",\"subtype\":\"Figure\",\"type\":\"Plot\"},{\"attributes\":{\"field\":\"angle\"},\"id\":\"3981\",\"type\":\"CumSum\"},{\"attributes\":{\"label\":{\"field\":\"country\"},\"renderers\":[{\"id\":\"3986\"}]},\"id\":\"3998\",\"type\":\"LegendItem\"},{\"attributes\":{\"axis\":{\"id\":\"3969\"},\"grid_line_color\":null,\"ticker\":null},\"id\":\"3972\",\"type\":\"Grid\"},{\"attributes\":{},\"id\":\"3992\",\"type\":\"BasicTickFormatter\"},{\"attributes\":{\"callback\":null,\"tooltips\":\"@country: @value\"},\"id\":\"3977\",\"type\":\"HoverTool\"},{\"attributes\":{},\"id\":\"3991\",\"type\":\"AllLabels\"},{\"attributes\":{\"axis_label\":null,\"formatter\":{\"id\":\"3992\"},\"major_label_policy\":{\"id\":\"3994\"},\"ticker\":{\"id\":\"3974\"},\"visible\":false},\"id\":\"3973\",\"type\":\"LinearAxis\"},{\"attributes\":{\"text\":\"Pie Chart\"},\"id\":\"3959\",\"type\":\"Title\"},{\"attributes\":{\"source\":{\"id\":\"3982\"}},\"id\":\"3987\",\"type\":\"CDSView\"},{\"attributes\":{\"data\":{\"angle\":{\"__ndarray__\":\"eQLEMwAC9z+3V8R09kHrP+QcmNXVFeo/hZ74ygF34j8vDs2tzcrZP1vToA6tntg/iJh0b4xy1z93BYbhOoTUPzmtw/IJwtI/0I8to/kr0j/Qjy2j+SvSP/xUAQTZ/9A/\",\"dtype\":\"float64\",\"order\":\"little\",\"shape\":[12]},\"color\":[\"#3182bd\",\"#6baed6\",\"#9ecae1\",\"#c6dbef\",\"#e6550d\",\"#fd8d3c\",\"#fdae6b\",\"#fdd0a2\",\"#31a354\",\"#74c476\",\"#a1d99b\",\"#c7e9c0\"],\"country\":[\"United States\",\"United Kingdom\",\"Japan\",\"China\",\"Germany\",\"India\",\"Italy\",\"Australia\",\"Brazil\",\"France\",\"Taiwan\",\"Spain\"],\"index\":[0,1,2,3,4,5,6,7,8,9,10,11],\"value\":[157,93,89,63,44,42,40,35,32,31,31,29]},\"selected\":{\"id\":\"3996\"},\"selection_policy\":{\"id\":\"3995\"}},\"id\":\"3982\",\"type\":\"ColumnDataSource\"},{\"attributes\":{},\"id\":\"3996\",\"type\":\"Selection\"},{\"attributes\":{\"field\":\"angle\",\"include_zero\":true},\"id\":\"3980\",\"type\":\"CumSum\"},{\"attributes\":{\"data_source\":{\"id\":\"3982\"},\"glyph\":{\"id\":\"3984\"},\"hover_glyph\":null,\"muted_glyph\":null,\"nonselection_glyph\":{\"id\":\"3985\"},\"view\":{\"id\":\"3987\"}},\"id\":\"3986\",\"type\":\"GlyphRenderer\"},{\"attributes\":{\"active_multi\":null,\"tools\":[{\"id\":\"3977\"}]},\"id\":\"3978\",\"type\":\"Toolbar\"},{\"attributes\":{},\"id\":\"3994\",\"type\":\"AllLabels\"},{\"attributes\":{\"items\":[{\"id\":\"3998\"}]},\"id\":\"3997\",\"type\":\"Legend\"},{\"attributes\":{},\"id\":\"3989\",\"type\":\"BasicTickFormatter\"},{\"attributes\":{},\"id\":\"3967\",\"type\":\"LinearScale\"},{\"attributes\":{},\"id\":\"3970\",\"type\":\"BasicTicker\"},{\"attributes\":{\"axis_label\":null,\"formatter\":{\"id\":\"3989\"},\"major_label_policy\":{\"id\":\"3991\"},\"ticker\":{\"id\":\"3970\"},\"visible\":false},\"id\":\"3969\",\"type\":\"LinearAxis\"},{\"attributes\":{},\"id\":\"3961\",\"type\":\"DataRange1d\"},{\"attributes\":{},\"id\":\"3974\",\"type\":\"BasicTicker\"},{\"attributes\":{},\"id\":\"3995\",\"type\":\"UnionRenderers\"},{\"attributes\":{\"end_angle\":{\"expr\":{\"id\":\"3981\"}},\"fill_alpha\":{\"value\":0.1},\"fill_color\":{\"field\":\"color\"},\"line_alpha\":{\"value\":0.1},\"line_color\":{\"value\":\"white\"},\"radius\":{\"value\":0.4},\"start_angle\":{\"expr\":{\"id\":\"3980\"}},\"x\":{\"value\":0},\"y\":{\"value\":1}},\"id\":\"3985\",\"type\":\"Wedge\"},{\"attributes\":{\"axis\":{\"id\":\"3973\"},\"dimension\":1,\"grid_line_color\":null,\"ticker\":null},\"id\":\"3976\",\"type\":\"Grid\"},{\"attributes\":{},\"id\":\"3965\",\"type\":\"LinearScale\"},{\"attributes\":{},\"id\":\"3963\",\"type\":\"DataRange1d\"},{\"attributes\":{\"end_angle\":{\"expr\":{\"id\":\"3981\"}},\"fill_color\":{\"field\":\"color\"},\"line_color\":{\"value\":\"white\"},\"radius\":{\"value\":0.4},\"start_angle\":{\"expr\":{\"id\":\"3980\"}},\"x\":{\"value\":0},\"y\":{\"value\":1}},\"id\":\"3984\",\"type\":\"Wedge\"}],\"root_ids\":[\"3958\"]},\"title\":\"Bokeh Application\",\"version\":\"2.3.3\"}};\n",
       "  var render_items = [{\"docid\":\"e52b65e6-8ddf-48e2-9337-cc31171612c0\",\"root_ids\":[\"3958\"],\"roots\":{\"3958\":\"1e926635-7c9c-4a13-b483-9c75585253f5\"}}];\n",
       "  root.Bokeh.embed.embed_items_notebook(docs_json, render_items);\n",
       "\n",
       "  }\n",
       "  if (root.Bokeh !== undefined) {\n",
       "    embed_document(root);\n",
       "  } else {\n",
       "    var attempts = 0;\n",
       "    var timer = setInterval(function(root) {\n",
       "      if (root.Bokeh !== undefined) {\n",
       "        clearInterval(timer);\n",
       "        embed_document(root);\n",
       "      } else {\n",
       "        attempts++;\n",
       "        if (attempts > 100) {\n",
       "          clearInterval(timer);\n",
       "          console.log(\"Bokeh: ERROR: Unable to run BokehJS code because BokehJS library is missing\");\n",
       "        }\n",
       "      }\n",
       "    }, 10, root)\n",
       "  }\n",
       "})(window);"
      ],
      "application/vnd.bokehjs_exec.v0+json": ""
     },
     "metadata": {
      "application/vnd.bokehjs_exec.v0+json": {
       "id": "3958"
      }
     },
     "output_type": "display_data"
    }
   ],
   "source": [
    "from math import pi\n",
    "import pandas as pd\n",
    "from bokeh.palettes import Category20c # palette for color mapping\n",
    "from bokeh.transform import cumsum\n",
    "\n",
    "# data\n",
    "x = { 'United States': 157, 'United Kingdom': 93, 'Japan': 89, 'China': 63,\n",
    "      'Germany': 44, 'India': 42, 'Italy': 40, 'Australia': 35, 'Brazil': 32,\n",
    "      'France': 31, 'Taiwan': 31, 'Spain': 29 }\n",
    "\n",
    "# create df\n",
    "data = pd.Series(x).reset_index(name='value').rename(columns={'index':'country'})\n",
    "\n",
    "\n",
    "# add column with a color of the Category20c palette for every row \n",
    "data['color'] = Category20c[len(x)]\n",
    "\n",
    "\n",
    "# represent each value as an angle = value / total * 2pi\n",
    "data['angle'] = data['value']/data['value'].sum() * 2*pi\n",
    "display(data)\n",
    "\n",
    "# create figure\n",
    "p = figure(plot_height=350, title=\"Pie Chart\", toolbar_location=None,\n",
    "           tools=\"hover\", tooltips=\"@country: @value\")\n",
    "\n",
    "p.wedge(x=0, y=1, radius=0.4, \n",
    "        \n",
    "        # use cumsum to cumulatively sum the values for start and end angles\n",
    "        start_angle=cumsum('angle', include_zero=True), end_angle=cumsum('angle'),\n",
    "        line_color=\"white\", fill_color='color', legend_field='country', source=data)\n",
    "\n",
    "# don't show the axes or a grid\n",
    "p.axis.axis_label=None\n",
    "p.axis.visible=False\n",
    "p.grid.grid_line_color = None\n",
    "\n",
    "show(p)"
   ]
  },
  {
   "cell_type": "markdown",
   "metadata": {},
   "source": [
    "The next transform we look at is the `linear_cmap` transform, which can generate a new sequence of colors by applying a linear colormapping to a data source column. \n",
    "\n",
    "We again create a data set, in this case we create a dictionary with three keys (`x`, `y` and `r`), with as value an array of random numbers of size `N`. The arrays of `x` and `y` contain random numbers between 0 and 100 and `r` between 0 and 1.5. \n",
    "\n",
    "Next, we create a figure in which we draw circles with the `circle` method. The location of the circle is defined by `x` and `y`, the radius of the circles by `r`. `color` is set with the `linear_cmap` transform, which maps a range of numerical values across the available colors from high to low. In this case, we apply a linear color mapper to `x` and colors are taken from the `Viridis256` color palette (from [bokeh.palettes](https://docs.bokeh.org/en/latest/docs/reference/palettes.html)). The final two arguments indicate the minimum and maximum value of the range to map into the palette. Check out the [documentation](https://docs.bokeh.org/en/latest/docs/reference/transform.html) to find out more about this and other color mapping transformations. \n",
    "\n",
    "When looking at our final figure we can indeed observe that we have drawn a graph with circles on random locations in the specified domain with varying radius and color. The color is based on the position of the circle on the x-axis. \n"
   ]
  },
  {
   "cell_type": "code",
   "execution_count": 25,
   "metadata": {},
   "outputs": [
    {
     "data": {
      "text/html": [
       "\n",
       "\n",
       "\n",
       "\n",
       "\n",
       "\n",
       "  <div class=\"bk-root\" id=\"d2ea734d-c280-4c3d-8b21-09c6e6723990\" data-root-id=\"4221\"></div>\n"
      ]
     },
     "metadata": {},
     "output_type": "display_data"
    },
    {
     "data": {
      "application/javascript": [
       "(function(root) {\n",
       "  function embed_document(root) {\n",
       "    \n",
       "  var docs_json = {\"a18e930d-885b-4528-bbb0-7dbabd9387b9\":{\"defs\":[],\"roots\":{\"references\":[{\"attributes\":{\"below\":[{\"id\":\"4230\"}],\"center\":[{\"id\":\"4233\"},{\"id\":\"4237\"}],\"left\":[{\"id\":\"4234\"}],\"renderers\":[{\"id\":\"4257\"}],\"title\":{\"id\":\"4436\"},\"toolbar\":{\"id\":\"4245\"},\"x_range\":{\"id\":\"4222\"},\"x_scale\":{\"id\":\"4226\"},\"y_range\":{\"id\":\"4224\"},\"y_scale\":{\"id\":\"4228\"}},\"id\":\"4221\",\"subtype\":\"Figure\",\"type\":\"Plot\"},{\"attributes\":{},\"id\":\"4238\",\"type\":\"PanTool\"},{\"attributes\":{},\"id\":\"4228\",\"type\":\"LinearScale\"},{\"attributes\":{},\"id\":\"4441\",\"type\":\"BasicTickFormatter\"},{\"attributes\":{\"high\":80,\"high_color\":\"Red\",\"low\":30,\"low_color\":\"Pink\",\"palette\":[\"#440154\",\"#440255\",\"#440357\",\"#450558\",\"#45065A\",\"#45085B\",\"#46095C\",\"#460B5E\",\"#460C5F\",\"#460E61\",\"#470F62\",\"#471163\",\"#471265\",\"#471466\",\"#471567\",\"#471669\",\"#47186A\",\"#48196B\",\"#481A6C\",\"#481C6E\",\"#481D6F\",\"#481E70\",\"#482071\",\"#482172\",\"#482273\",\"#482374\",\"#472575\",\"#472676\",\"#472777\",\"#472878\",\"#472A79\",\"#472B7A\",\"#472C7B\",\"#462D7C\",\"#462F7C\",\"#46307D\",\"#46317E\",\"#45327F\",\"#45347F\",\"#453580\",\"#453681\",\"#443781\",\"#443982\",\"#433A83\",\"#433B83\",\"#433C84\",\"#423D84\",\"#423E85\",\"#424085\",\"#414186\",\"#414286\",\"#404387\",\"#404487\",\"#3F4587\",\"#3F4788\",\"#3E4888\",\"#3E4989\",\"#3D4A89\",\"#3D4B89\",\"#3D4C89\",\"#3C4D8A\",\"#3C4E8A\",\"#3B508A\",\"#3B518A\",\"#3A528B\",\"#3A538B\",\"#39548B\",\"#39558B\",\"#38568B\",\"#38578C\",\"#37588C\",\"#37598C\",\"#365A8C\",\"#365B8C\",\"#355C8C\",\"#355D8C\",\"#345E8D\",\"#345F8D\",\"#33608D\",\"#33618D\",\"#32628D\",\"#32638D\",\"#31648D\",\"#31658D\",\"#31668D\",\"#30678D\",\"#30688D\",\"#2F698D\",\"#2F6A8D\",\"#2E6B8E\",\"#2E6C8E\",\"#2E6D8E\",\"#2D6E8E\",\"#2D6F8E\",\"#2C708E\",\"#2C718E\",\"#2C728E\",\"#2B738E\",\"#2B748E\",\"#2A758E\",\"#2A768E\",\"#2A778E\",\"#29788E\",\"#29798E\",\"#287A8E\",\"#287A8E\",\"#287B8E\",\"#277C8E\",\"#277D8E\",\"#277E8E\",\"#267F8E\",\"#26808E\",\"#26818E\",\"#25828E\",\"#25838D\",\"#24848D\",\"#24858D\",\"#24868D\",\"#23878D\",\"#23888D\",\"#23898D\",\"#22898D\",\"#228A8D\",\"#228B8D\",\"#218C8D\",\"#218D8C\",\"#218E8C\",\"#208F8C\",\"#20908C\",\"#20918C\",\"#1F928C\",\"#1F938B\",\"#1F948B\",\"#1F958B\",\"#1F968B\",\"#1E978A\",\"#1E988A\",\"#1E998A\",\"#1E998A\",\"#1E9A89\",\"#1E9B89\",\"#1E9C89\",\"#1E9D88\",\"#1E9E88\",\"#1E9F88\",\"#1EA087\",\"#1FA187\",\"#1FA286\",\"#1FA386\",\"#20A485\",\"#20A585\",\"#21A685\",\"#21A784\",\"#22A784\",\"#23A883\",\"#23A982\",\"#24AA82\",\"#25AB81\",\"#26AC81\",\"#27AD80\",\"#28AE7F\",\"#29AF7F\",\"#2AB07E\",\"#2BB17D\",\"#2CB17D\",\"#2EB27C\",\"#2FB37B\",\"#30B47A\",\"#32B57A\",\"#33B679\",\"#35B778\",\"#36B877\",\"#38B976\",\"#39B976\",\"#3BBA75\",\"#3DBB74\",\"#3EBC73\",\"#40BD72\",\"#42BE71\",\"#44BE70\",\"#45BF6F\",\"#47C06E\",\"#49C16D\",\"#4BC26C\",\"#4DC26B\",\"#4FC369\",\"#51C468\",\"#53C567\",\"#55C666\",\"#57C665\",\"#59C764\",\"#5BC862\",\"#5EC961\",\"#60C960\",\"#62CA5F\",\"#64CB5D\",\"#67CC5C\",\"#69CC5B\",\"#6BCD59\",\"#6DCE58\",\"#70CE56\",\"#72CF55\",\"#74D054\",\"#77D052\",\"#79D151\",\"#7CD24F\",\"#7ED24E\",\"#81D34C\",\"#83D34B\",\"#86D449\",\"#88D547\",\"#8BD546\",\"#8DD644\",\"#90D643\",\"#92D741\",\"#95D73F\",\"#97D83E\",\"#9AD83C\",\"#9DD93A\",\"#9FD938\",\"#A2DA37\",\"#A5DA35\",\"#A7DB33\",\"#AADB32\",\"#ADDC30\",\"#AFDC2E\",\"#B2DD2C\",\"#B5DD2B\",\"#B7DD29\",\"#BADE27\",\"#BDDE26\",\"#BFDF24\",\"#C2DF22\",\"#C5DF21\",\"#C7E01F\",\"#CAE01E\",\"#CDE01D\",\"#CFE11C\",\"#D2E11B\",\"#D4E11A\",\"#D7E219\",\"#DAE218\",\"#DCE218\",\"#DFE318\",\"#E1E318\",\"#E4E318\",\"#E7E419\",\"#E9E419\",\"#ECE41A\",\"#EEE51B\",\"#F1E51C\",\"#F3E51E\",\"#F6E61F\",\"#F8E621\",\"#FAE622\",\"#FDE724\"]},\"id\":\"4252\",\"type\":\"LogColorMapper\"},{\"attributes\":{\"formatter\":{\"id\":\"4441\"},\"major_label_policy\":{\"id\":\"4443\"},\"ticker\":{\"id\":\"4235\"}},\"id\":\"4234\",\"type\":\"LinearAxis\"},{\"attributes\":{},\"id\":\"4438\",\"type\":\"BasicTickFormatter\"},{\"attributes\":{},\"id\":\"4239\",\"type\":\"WheelZoomTool\"},{\"attributes\":{},\"id\":\"4226\",\"type\":\"LinearScale\"},{\"attributes\":{\"source\":{\"id\":\"4253\"}},\"id\":\"4258\",\"type\":\"CDSView\"},{\"attributes\":{},\"id\":\"4440\",\"type\":\"AllLabels\"},{\"attributes\":{\"overlay\":{\"id\":\"4244\"}},\"id\":\"4240\",\"type\":\"BoxZoomTool\"},{\"attributes\":{},\"id\":\"4242\",\"type\":\"ResetTool\"},{\"attributes\":{},\"id\":\"4241\",\"type\":\"SaveTool\"},{\"attributes\":{},\"id\":\"4444\",\"type\":\"UnionRenderers\"},{\"attributes\":{\"data_source\":{\"id\":\"4253\"},\"glyph\":{\"id\":\"4255\"},\"hover_glyph\":null,\"muted_glyph\":null,\"nonselection_glyph\":{\"id\":\"4256\"},\"view\":{\"id\":\"4258\"}},\"id\":\"4257\",\"type\":\"GlyphRenderer\"},{\"attributes\":{\"fill_alpha\":{\"value\":0.1},\"fill_color\":{\"field\":\"x\",\"transform\":{\"id\":\"4252\"}},\"line_alpha\":{\"value\":0.1},\"line_color\":{\"field\":\"x\",\"transform\":{\"id\":\"4252\"}},\"radius\":{\"field\":\"r\"},\"x\":{\"field\":\"x\"},\"y\":{\"field\":\"y\"}},\"id\":\"4256\",\"type\":\"Circle\"},{\"attributes\":{\"axis\":{\"id\":\"4230\"},\"ticker\":null},\"id\":\"4233\",\"type\":\"Grid\"},{\"attributes\":{},\"id\":\"4243\",\"type\":\"HelpTool\"},{\"attributes\":{\"axis\":{\"id\":\"4234\"},\"dimension\":1,\"ticker\":null},\"id\":\"4237\",\"type\":\"Grid\"},{\"attributes\":{\"data\":{\"r\":{\"__ndarray__\":\"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\",\"dtype\":\"float64\",\"order\":\"little\",\"shape\":[4000]},\"x\":{\"__ndarray__\":\"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\",\"dtype\":\"float64\",\"order\":\"little\",\"shape\":[4000]},\"y\":{\"__ndarray__\":\"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\",\"dtype\":\"float64\",\"order\":\"little\",\"shape\":[4000]}},\"selected\":{\"id\":\"4445\"},\"selection_policy\":{\"id\":\"4444\"}},\"id\":\"4253\",\"type\":\"ColumnDataSource\"},{\"attributes\":{},\"id\":\"4443\",\"type\":\"AllLabels\"},{\"attributes\":{},\"id\":\"4235\",\"type\":\"BasicTicker\"},{\"attributes\":{},\"id\":\"4445\",\"type\":\"Selection\"},{\"attributes\":{\"formatter\":{\"id\":\"4438\"},\"major_label_policy\":{\"id\":\"4440\"},\"ticker\":{\"id\":\"4231\"}},\"id\":\"4230\",\"type\":\"LinearAxis\"},{\"attributes\":{},\"id\":\"4224\",\"type\":\"DataRange1d\"},{\"attributes\":{\"bottom_units\":\"screen\",\"fill_alpha\":0.5,\"fill_color\":\"lightgrey\",\"left_units\":\"screen\",\"level\":\"overlay\",\"line_alpha\":1.0,\"line_color\":\"black\",\"line_dash\":[4,4],\"line_width\":2,\"right_units\":\"screen\",\"syncable\":false,\"top_units\":\"screen\"},\"id\":\"4244\",\"type\":\"BoxAnnotation\"},{\"attributes\":{\"active_multi\":null,\"tools\":[{\"id\":\"4238\"},{\"id\":\"4239\"},{\"id\":\"4240\"},{\"id\":\"4241\"},{\"id\":\"4242\"},{\"id\":\"4243\"}]},\"id\":\"4245\",\"type\":\"Toolbar\"},{\"attributes\":{\"fill_alpha\":{\"value\":0.6},\"fill_color\":{\"field\":\"x\",\"transform\":{\"id\":\"4252\"}},\"line_color\":{\"field\":\"x\",\"transform\":{\"id\":\"4252\"}},\"radius\":{\"field\":\"r\"},\"x\":{\"field\":\"x\"},\"y\":{\"field\":\"y\"}},\"id\":\"4255\",\"type\":\"Circle\"},{\"attributes\":{},\"id\":\"4222\",\"type\":\"DataRange1d\"},{\"attributes\":{},\"id\":\"4436\",\"type\":\"Title\"},{\"attributes\":{},\"id\":\"4231\",\"type\":\"BasicTicker\"}],\"root_ids\":[\"4221\"]},\"title\":\"Bokeh Application\",\"version\":\"2.3.3\"}};\n",
       "  var render_items = [{\"docid\":\"a18e930d-885b-4528-bbb0-7dbabd9387b9\",\"root_ids\":[\"4221\"],\"roots\":{\"4221\":\"d2ea734d-c280-4c3d-8b21-09c6e6723990\"}}];\n",
       "  root.Bokeh.embed.embed_items_notebook(docs_json, render_items);\n",
       "\n",
       "  }\n",
       "  if (root.Bokeh !== undefined) {\n",
       "    embed_document(root);\n",
       "  } else {\n",
       "    var attempts = 0;\n",
       "    var timer = setInterval(function(root) {\n",
       "      if (root.Bokeh !== undefined) {\n",
       "        clearInterval(timer);\n",
       "        embed_document(root);\n",
       "      } else {\n",
       "        attempts++;\n",
       "        if (attempts > 100) {\n",
       "          clearInterval(timer);\n",
       "          console.log(\"Bokeh: ERROR: Unable to run BokehJS code because BokehJS library is missing\");\n",
       "        }\n",
       "      }\n",
       "    }, 10, root)\n",
       "  }\n",
       "})(window);"
      ],
      "application/vnd.bokehjs_exec.v0+json": ""
     },
     "metadata": {
      "application/vnd.bokehjs_exec.v0+json": {
       "id": "4221"
      }
     },
     "output_type": "display_data"
    }
   ],
   "source": [
    "from bokeh.transform import linear_cmap\n",
    "from bokeh.transform import log_cmap\n",
    "\n",
    "# data\n",
    "N = 4000\n",
    "data = dict(x=np.random.random(size=N) * 100,\n",
    "            y=np.random.random(size=N) * 100,\n",
    "            r=np.random.random(size=N) * 1.5)\n",
    "\n",
    "# create figure\n",
    "p = figure()\n",
    "p.circle('x', 'y', radius='r', source=data, fill_alpha=0.6,\n",
    "        \n",
    "         # use log_cmap and try changing low and high and specifying low_color and high_color.\n",
    "         color=log_cmap('x', 'Viridis256', 30, 80, low_color = 'Pink', high_color = \"Red\"))\n",
    "\n",
    "show(p) "
   ]
  },
  {
   "cell_type": "markdown",
   "metadata": {},
   "source": [
    "Change the code above to use `log_cmap` and observe the results. Try changing `low` and `high` and specifying `low_color` and `high_color`."
   ]
  },
  {
   "cell_type": "markdown",
   "metadata": {},
   "source": [
    "<h3>\n",
    "<font color='blue'>\n",
    "Exercise\n",
    "</font>\n",
    "</h3>\n",
    "Use the corresponding factor_cmap to color a scatter plot of the iris data set."
   ]
  },
  {
   "cell_type": "code",
   "execution_count": 49,
   "metadata": {},
   "outputs": [
    {
     "name": "stderr",
     "output_type": "stream",
     "text": [
      "BokehDeprecationWarning: 'legend' keyword is deprecated, use explicit 'legend_label', 'legend_field', or 'legend_group' keywords instead\n"
     ]
    },
    {
     "data": {
      "text/html": [
       "\n",
       "\n",
       "\n",
       "\n",
       "\n",
       "\n",
       "  <div class=\"bk-root\" id=\"298336a1-2483-455d-9663-5c8644ab6b93\" data-root-id=\"6748\"></div>\n"
      ]
     },
     "metadata": {},
     "output_type": "display_data"
    },
    {
     "data": {
      "application/javascript": [
       "(function(root) {\n",
       "  function embed_document(root) {\n",
       "    \n",
       "  var docs_json = {\"52bb3da4-552c-4b05-a157-36b6ea15d85c\":{\"defs\":[],\"roots\":{\"references\":[{\"attributes\":{\"below\":[{\"id\":\"6759\"}],\"center\":[{\"id\":\"6762\"},{\"id\":\"6766\"},{\"id\":\"6797\"}],\"height\":450,\"left\":[{\"id\":\"6763\"}],\"renderers\":[{\"id\":\"6785\"}],\"title\":{\"id\":\"6749\"},\"toolbar\":{\"id\":\"6774\"},\"x_range\":{\"id\":\"6751\"},\"x_scale\":{\"id\":\"6755\"},\"y_range\":{\"id\":\"6753\"},\"y_scale\":{\"id\":\"6757\"}},\"id\":\"6748\",\"subtype\":\"Figure\",\"type\":\"Plot\"},{\"attributes\":{},\"id\":\"6751\",\"type\":\"DataRange1d\"},{\"attributes\":{\"source\":{\"id\":\"6781\"}},\"id\":\"6786\",\"type\":\"CDSView\"},{\"attributes\":{},\"id\":\"6770\",\"type\":\"SaveTool\"},{\"attributes\":{},\"id\":\"6764\",\"type\":\"BasicTicker\"},{\"attributes\":{\"factors\":[\"setosa\",\"versicolor\",\"virginica\"],\"palette\":[\"red\",\"blue\",\"green\"]},\"id\":\"6747\",\"type\":\"CategoricalColorMapper\"},{\"attributes\":{},\"id\":\"6792\",\"type\":\"AllLabels\"},{\"attributes\":{\"label\":{\"field\":\"species\"},\"renderers\":[{\"id\":\"6785\"}]},\"id\":\"6798\",\"type\":\"LegendItem\"},{\"attributes\":{},\"id\":\"6796\",\"type\":\"Selection\"},{\"attributes\":{\"bottom_units\":\"screen\",\"fill_alpha\":0.5,\"fill_color\":\"lightgrey\",\"left_units\":\"screen\",\"level\":\"overlay\",\"line_alpha\":1.0,\"line_color\":\"black\",\"line_dash\":[4,4],\"line_width\":2,\"right_units\":\"screen\",\"syncable\":false,\"top_units\":\"screen\"},\"id\":\"6773\",\"type\":\"BoxAnnotation\"},{\"attributes\":{\"active_multi\":null,\"tools\":[{\"id\":\"6767\"},{\"id\":\"6768\"},{\"id\":\"6769\"},{\"id\":\"6770\"},{\"id\":\"6771\"},{\"id\":\"6772\"}]},\"id\":\"6774\",\"type\":\"Toolbar\"},{\"attributes\":{},\"id\":\"6793\",\"type\":\"BasicTickFormatter\"},{\"attributes\":{\"overlay\":{\"id\":\"6773\"}},\"id\":\"6769\",\"type\":\"BoxZoomTool\"},{\"attributes\":{\"axis_label\":\"sepal_length\",\"formatter\":{\"id\":\"6790\"},\"major_label_policy\":{\"id\":\"6789\"},\"ticker\":{\"id\":\"6760\"}},\"id\":\"6759\",\"type\":\"LinearAxis\"},{\"attributes\":{},\"id\":\"6753\",\"type\":\"DataRange1d\"},{\"attributes\":{},\"id\":\"6795\",\"type\":\"UnionRenderers\"},{\"attributes\":{\"axis_label\":\"sepal_width\",\"formatter\":{\"id\":\"6793\"},\"major_label_policy\":{\"id\":\"6792\"},\"ticker\":{\"id\":\"6764\"}},\"id\":\"6763\",\"type\":\"LinearAxis\"},{\"attributes\":{},\"id\":\"6771\",\"type\":\"ResetTool\"},{\"attributes\":{},\"id\":\"6772\",\"type\":\"HelpTool\"},{\"attributes\":{},\"id\":\"6755\",\"type\":\"LinearScale\"},{\"attributes\":{\"data_source\":{\"id\":\"6781\"},\"glyph\":{\"id\":\"6783\"},\"hover_glyph\":null,\"muted_glyph\":null,\"nonselection_glyph\":{\"id\":\"6784\"},\"view\":{\"id\":\"6786\"}},\"id\":\"6785\",\"type\":\"GlyphRenderer\"},{\"attributes\":{\"axis\":{\"id\":\"6759\"},\"ticker\":null},\"id\":\"6762\",\"type\":\"Grid\"},{\"attributes\":{\"items\":[{\"id\":\"6798\"}],\"location\":\"top_left\"},\"id\":\"6797\",\"type\":\"Legend\"},{\"attributes\":{\"fill_alpha\":{\"value\":0.1},\"fill_color\":{\"field\":\"species\",\"transform\":{\"id\":\"6747\"}},\"line_alpha\":{\"value\":0.1},\"line_color\":{\"value\":\"#1f77b4\"},\"size\":{\"value\":10},\"x\":{\"field\":\"sepal_length\"},\"y\":{\"field\":\"sepal_width\"}},\"id\":\"6784\",\"type\":\"Scatter\"},{\"attributes\":{},\"id\":\"6760\",\"type\":\"BasicTicker\"},{\"attributes\":{},\"id\":\"6790\",\"type\":\"BasicTickFormatter\"},{\"attributes\":{\"data\":{\"index\":[0,1,2,3,4,5,6,7,8,9,10,11,12,13,14,15,16,17,18,19,20,21,22,23,24,25,26,27,28,29,30,31,32,33,34,35,36,37,38,39,40,41,42,43,44,45,46,47,48,49,50,51,52,53,54,55,56,57,58,59,60,61,62,63,64,65,66,67,68,69,70,71,72,73,74,75,76,77,78,79,80,81,82,83,84,85,86,87,88,89,90,91,92,93,94,95,96,97,98,99,100,101,102,103,104,105,106,107,108,109,110,111,112,113,114,115,116,117,118,119,120,121,122,123,124,125,126,127,128,129,130,131,132,133,134,135,136,137,138,139,140,141,142,143,144,145,146,147,148,149],\"petal_length\":{\"__ndarray__\":\"ZmZmZmZm9j9mZmZmZmb2P83MzMzMzPQ/AAAAAAAA+D9mZmZmZmb2PzMzMzMzM/s/ZmZmZmZm9j8AAAAAAAD4P2ZmZmZmZvY/AAAAAAAA+D8AAAAAAAD4P5qZmZmZmfk/ZmZmZmZm9j+amZmZmZnxPzMzMzMzM/M/AAAAAAAA+D/NzMzMzMz0P2ZmZmZmZvY/MzMzMzMz+z8AAAAAAAD4PzMzMzMzM/s/AAAAAAAA+D8AAAAAAADwPzMzMzMzM/s/ZmZmZmZm/j+amZmZmZn5P5qZmZmZmfk/AAAAAAAA+D9mZmZmZmb2P5qZmZmZmfk/mpmZmZmZ+T8AAAAAAAD4PwAAAAAAAPg/ZmZmZmZm9j8AAAAAAAD4PzMzMzMzM/M/zczMzMzM9D9mZmZmZmb2P83MzMzMzPQ/AAAAAAAA+D/NzMzMzMz0P83MzMzMzPQ/zczMzMzM9D+amZmZmZn5P2ZmZmZmZv4/ZmZmZmZm9j+amZmZmZn5P2ZmZmZmZvY/AAAAAAAA+D9mZmZmZmb2P83MzMzMzBJAAAAAAAAAEkCamZmZmZkTQAAAAAAAABBAZmZmZmZmEkAAAAAAAAASQM3MzMzMzBJAZmZmZmZmCkBmZmZmZmYSQDMzMzMzMw9AAAAAAAAADEDNzMzMzMwQQAAAAAAAABBAzczMzMzMEkDNzMzMzMwMQJqZmZmZmRFAAAAAAAAAEkBmZmZmZmYQQAAAAAAAABJAMzMzMzMzD0AzMzMzMzMTQAAAAAAAABBAmpmZmZmZE0DNzMzMzMwSQDMzMzMzMxFAmpmZmZmZEUAzMzMzMzMTQAAAAAAAABRAAAAAAAAAEkAAAAAAAAAMQGZmZmZmZg5AmpmZmZmZDUAzMzMzMzMPQGZmZmZmZhRAAAAAAAAAEkAAAAAAAAASQM3MzMzMzBJAmpmZmZmZEUBmZmZmZmYQQAAAAAAAABBAmpmZmZmZEUBmZmZmZmYSQAAAAAAAABBAZmZmZmZmCkDNzMzMzMwQQM3MzMzMzBBAzczMzMzMEEAzMzMzMzMRQAAAAAAAAAhAZmZmZmZmEEAAAAAAAAAYQGZmZmZmZhRAmpmZmZmZF0BmZmZmZmYWQDMzMzMzMxdAZmZmZmZmGkAAAAAAAAASQDMzMzMzMxlAMzMzMzMzF0BmZmZmZmYYQGZmZmZmZhRAMzMzMzMzFUAAAAAAAAAWQAAAAAAAABRAZmZmZmZmFEAzMzMzMzMVQAAAAAAAABZAzczMzMzMGkCamZmZmZkbQAAAAAAAABRAzczMzMzMFkCamZmZmZkTQM3MzMzMzBpAmpmZmZmZE0DNzMzMzMwWQAAAAAAAABhAMzMzMzMzE0CamZmZmZkTQGZmZmZmZhZAMzMzMzMzF0BmZmZmZmYYQJqZmZmZmRlAZmZmZmZmFkBmZmZmZmYUQGZmZmZmZhZAZmZmZmZmGEBmZmZmZmYWQAAAAAAAABZAMzMzMzMzE0CamZmZmZkVQGZmZmZmZhZAZmZmZmZmFEBmZmZmZmYUQJqZmZmZmRdAzczMzMzMFkDNzMzMzMwUQAAAAAAAABRAzczMzMzMFECamZmZmZkVQGZmZmZmZhRA\",\"dtype\":\"float64\",\"order\":\"little\",\"shape\":[150]},\"petal_width\":{\"__ndarray__\":\"mpmZmZmZyT+amZmZmZnJP5qZmZmZmck/mpmZmZmZyT+amZmZmZnJP5qZmZmZmdk/MzMzMzMz0z+amZmZmZnJP5qZmZmZmck/mpmZmZmZuT+amZmZmZnJP5qZmZmZmck/mpmZmZmZuT+amZmZmZm5P5qZmZmZmck/mpmZmZmZ2T+amZmZmZnZPzMzMzMzM9M/MzMzMzMz0z8zMzMzMzPTP5qZmZmZmck/mpmZmZmZ2T+amZmZmZnJPwAAAAAAAOA/mpmZmZmZyT+amZmZmZnJP5qZmZmZmdk/mpmZmZmZyT+amZmZmZnJP5qZmZmZmck/mpmZmZmZyT+amZmZmZnZP5qZmZmZmbk/mpmZmZmZyT+amZmZmZnJP5qZmZmZmck/mpmZmZmZyT+amZmZmZm5P5qZmZmZmck/mpmZmZmZyT8zMzMzMzPTPzMzMzMzM9M/mpmZmZmZyT8zMzMzMzPjP5qZmZmZmdk/MzMzMzMz0z+amZmZmZnJP5qZmZmZmck/mpmZmZmZyT+amZmZmZnJP2ZmZmZmZvY/AAAAAAAA+D8AAAAAAAD4P83MzMzMzPQ/AAAAAAAA+D/NzMzMzMz0P5qZmZmZmfk/AAAAAAAA8D/NzMzMzMz0P2ZmZmZmZvY/AAAAAAAA8D8AAAAAAAD4PwAAAAAAAPA/ZmZmZmZm9j/NzMzMzMz0P2ZmZmZmZvY/AAAAAAAA+D8AAAAAAADwPwAAAAAAAPg/mpmZmZmZ8T/NzMzMzMz8P83MzMzMzPQ/AAAAAAAA+D8zMzMzMzPzP83MzMzMzPQ/ZmZmZmZm9j9mZmZmZmb2PzMzMzMzM/s/AAAAAAAA+D8AAAAAAADwP5qZmZmZmfE/AAAAAAAA8D8zMzMzMzPzP5qZmZmZmfk/AAAAAAAA+D+amZmZmZn5PwAAAAAAAPg/zczMzMzM9D/NzMzMzMz0P83MzMzMzPQ/MzMzMzMz8z9mZmZmZmb2PzMzMzMzM/M/AAAAAAAA8D/NzMzMzMz0PzMzMzMzM/M/zczMzMzM9D/NzMzMzMz0P5qZmZmZmfE/zczMzMzM9D8AAAAAAAAEQGZmZmZmZv4/zczMzMzMAEDNzMzMzMz8P5qZmZmZmQFAzczMzMzMAEAzMzMzMzP7P83MzMzMzPw/zczMzMzM/D8AAAAAAAAEQAAAAAAAAABAZmZmZmZm/j/NzMzMzMwAQAAAAAAAAABAMzMzMzMzA0BmZmZmZmYCQM3MzMzMzPw/mpmZmZmZAUBmZmZmZmYCQAAAAAAAAPg/ZmZmZmZmAkAAAAAAAAAAQAAAAAAAAABAzczMzMzM/D/NzMzMzMwAQM3MzMzMzPw/zczMzMzM/D/NzMzMzMz8P83MzMzMzABAmpmZmZmZ+T9mZmZmZmb+PwAAAAAAAABAmpmZmZmZAUAAAAAAAAD4P2ZmZmZmZvY/ZmZmZmZmAkAzMzMzMzMDQM3MzMzMzPw/zczMzMzM/D/NzMzMzMwAQDMzMzMzMwNAZmZmZmZmAkBmZmZmZmb+P2ZmZmZmZgJAAAAAAAAABEBmZmZmZmYCQGZmZmZmZv4/AAAAAAAAAEBmZmZmZmYCQM3MzMzMzPw/\",\"dtype\":\"float64\",\"order\":\"little\",\"shape\":[150]},\"sepal_length\":{\"__ndarray__\":\"ZmZmZmZmFECamZmZmZkTQM3MzMzMzBJAZmZmZmZmEkAAAAAAAAAUQJqZmZmZmRVAZmZmZmZmEkAAAAAAAAAUQJqZmZmZmRFAmpmZmZmZE0CamZmZmZkVQDMzMzMzMxNAMzMzMzMzE0AzMzMzMzMRQDMzMzMzMxdAzczMzMzMFkCamZmZmZkVQGZmZmZmZhRAzczMzMzMFkBmZmZmZmYUQJqZmZmZmRVAZmZmZmZmFEBmZmZmZmYSQGZmZmZmZhRAMzMzMzMzE0AAAAAAAAAUQAAAAAAAABRAzczMzMzMFEDNzMzMzMwUQM3MzMzMzBJAMzMzMzMzE0CamZmZmZkVQM3MzMzMzBRAAAAAAAAAFkCamZmZmZkTQAAAAAAAABRAAAAAAAAAFkCamZmZmZkTQJqZmZmZmRFAZmZmZmZmFEAAAAAAAAAUQAAAAAAAABJAmpmZmZmZEUAAAAAAAAAUQGZmZmZmZhRAMzMzMzMzE0BmZmZmZmYUQGZmZmZmZhJAMzMzMzMzFUAAAAAAAAAUQAAAAAAAABxAmpmZmZmZGUCamZmZmZkbQAAAAAAAABZAAAAAAAAAGkDNzMzMzMwWQDMzMzMzMxlAmpmZmZmZE0BmZmZmZmYaQM3MzMzMzBRAAAAAAAAAFECamZmZmZkXQAAAAAAAABhAZmZmZmZmGEBmZmZmZmYWQM3MzMzMzBpAZmZmZmZmFkAzMzMzMzMXQM3MzMzMzBhAZmZmZmZmFkCamZmZmZkXQGZmZmZmZhhAMzMzMzMzGUBmZmZmZmYYQJqZmZmZmRlAZmZmZmZmGkAzMzMzMzMbQM3MzMzMzBpAAAAAAAAAGEDNzMzMzMwWQAAAAAAAABZAAAAAAAAAFkAzMzMzMzMXQAAAAAAAABhAmpmZmZmZFUAAAAAAAAAYQM3MzMzMzBpAMzMzMzMzGUBmZmZmZmYWQAAAAAAAABZAAAAAAAAAFkBmZmZmZmYYQDMzMzMzMxdAAAAAAAAAFEBmZmZmZmYWQM3MzMzMzBZAzczMzMzMFkDNzMzMzMwYQGZmZmZmZhRAzczMzMzMFkAzMzMzMzMZQDMzMzMzMxdAZmZmZmZmHEAzMzMzMzMZQAAAAAAAABpAZmZmZmZmHkCamZmZmZkTQDMzMzMzMx1AzczMzMzMGkDNzMzMzMwcQAAAAAAAABpAmpmZmZmZGUAzMzMzMzMbQM3MzMzMzBZAMzMzMzMzF0CamZmZmZkZQAAAAAAAABpAzczMzMzMHkDNzMzMzMweQAAAAAAAABhAmpmZmZmZG0BmZmZmZmYWQM3MzMzMzB5AMzMzMzMzGUDNzMzMzMwaQM3MzMzMzBxAzczMzMzMGEBmZmZmZmYYQJqZmZmZmRlAzczMzMzMHECamZmZmZkdQJqZmZmZmR9AmpmZmZmZGUAzMzMzMzMZQGZmZmZmZhhAzczMzMzMHkAzMzMzMzMZQJqZmZmZmRlAAAAAAAAAGECamZmZmZkbQM3MzMzMzBpAmpmZmZmZG0AzMzMzMzMXQDMzMzMzMxtAzczMzMzMGkDNzMzMzMwaQDMzMzMzMxlAAAAAAAAAGkDNzMzMzMwYQJqZmZmZmRdA\",\"dtype\":\"float64\",\"order\":\"little\",\"shape\":[150]},\"sepal_width\":{\"__ndarray__\":\"AAAAAAAADEAAAAAAAAAIQJqZmZmZmQlAzczMzMzMCEDNzMzMzMwMQDMzMzMzMw9AMzMzMzMzC0AzMzMzMzMLQDMzMzMzMwdAzczMzMzMCECamZmZmZkNQDMzMzMzMwtAAAAAAAAACEAAAAAAAAAIQAAAAAAAABBAmpmZmZmZEUAzMzMzMzMPQAAAAAAAAAxAZmZmZmZmDkBmZmZmZmYOQDMzMzMzMwtAmpmZmZmZDUDNzMzMzMwMQGZmZmZmZgpAMzMzMzMzC0AAAAAAAAAIQDMzMzMzMwtAAAAAAAAADEAzMzMzMzMLQJqZmZmZmQlAzczMzMzMCEAzMzMzMzMLQGZmZmZmZhBAzczMzMzMEEDNzMzMzMwIQJqZmZmZmQlAAAAAAAAADEDNzMzMzMwMQAAAAAAAAAhAMzMzMzMzC0AAAAAAAAAMQGZmZmZmZgJAmpmZmZmZCUAAAAAAAAAMQGZmZmZmZg5AAAAAAAAACEBmZmZmZmYOQJqZmZmZmQlAmpmZmZmZDUBmZmZmZmYKQJqZmZmZmQlAmpmZmZmZCUDNzMzMzMwIQGZmZmZmZgJAZmZmZmZmBkBmZmZmZmYGQGZmZmZmZgpAMzMzMzMzA0AzMzMzMzMHQJqZmZmZmQVAAAAAAAAAAEAAAAAAAAAIQJqZmZmZmQFAMzMzMzMzB0AzMzMzMzMHQM3MzMzMzAhAAAAAAAAACECamZmZmZkFQJqZmZmZmQFAAAAAAAAABECamZmZmZkJQGZmZmZmZgZAAAAAAAAABEBmZmZmZmYGQDMzMzMzMwdAAAAAAAAACEBmZmZmZmYGQAAAAAAAAAhAMzMzMzMzB0DNzMzMzMwEQDMzMzMzMwNAMzMzMzMzA0CamZmZmZkFQJqZmZmZmQVAAAAAAAAACEAzMzMzMzMLQM3MzMzMzAhAZmZmZmZmAkAAAAAAAAAIQAAAAAAAAARAzczMzMzMBEAAAAAAAAAIQM3MzMzMzARAZmZmZmZmAkCamZmZmZkFQAAAAAAAAAhAMzMzMzMzB0AzMzMzMzMHQAAAAAAAAARAZmZmZmZmBkBmZmZmZmYKQJqZmZmZmQVAAAAAAAAACEAzMzMzMzMHQAAAAAAAAAhAAAAAAAAACEAAAAAAAAAEQDMzMzMzMwdAAAAAAAAABEDNzMzMzMwMQJqZmZmZmQlAmpmZmZmZBUAAAAAAAAAIQAAAAAAAAARAZmZmZmZmBkCamZmZmZkJQAAAAAAAAAhAZmZmZmZmDkDNzMzMzMwEQJqZmZmZmQFAmpmZmZmZCUBmZmZmZmYGQGZmZmZmZgZAmpmZmZmZBUBmZmZmZmYKQJqZmZmZmQlAZmZmZmZmBkAAAAAAAAAIQGZmZmZmZgZAAAAAAAAACEBmZmZmZmYGQGZmZmZmZg5AZmZmZmZmBkBmZmZmZmYGQM3MzMzMzARAAAAAAAAACEAzMzMzMzMLQM3MzMzMzAhAAAAAAAAACEDNzMzMzMwIQM3MzMzMzAhAzczMzMzMCECamZmZmZkFQJqZmZmZmQlAZmZmZmZmCkAAAAAAAAAIQAAAAAAAAARAAAAAAAAACEAzMzMzMzMLQAAAAAAAAAhA\",\"dtype\":\"float64\",\"order\":\"little\",\"shape\":[150]},\"species\":[\"setosa\",\"setosa\",\"setosa\",\"setosa\",\"setosa\",\"setosa\",\"setosa\",\"setosa\",\"setosa\",\"setosa\",\"setosa\",\"setosa\",\"setosa\",\"setosa\",\"setosa\",\"setosa\",\"setosa\",\"setosa\",\"setosa\",\"setosa\",\"setosa\",\"setosa\",\"setosa\",\"setosa\",\"setosa\",\"setosa\",\"setosa\",\"setosa\",\"setosa\",\"setosa\",\"setosa\",\"setosa\",\"setosa\",\"setosa\",\"setosa\",\"setosa\",\"setosa\",\"setosa\",\"setosa\",\"setosa\",\"setosa\",\"setosa\",\"setosa\",\"setosa\",\"setosa\",\"setosa\",\"setosa\",\"setosa\",\"setosa\",\"setosa\",\"versicolor\",\"versicolor\",\"versicolor\",\"versicolor\",\"versicolor\",\"versicolor\",\"versicolor\",\"versicolor\",\"versicolor\",\"versicolor\",\"versicolor\",\"versicolor\",\"versicolor\",\"versicolor\",\"versicolor\",\"versicolor\",\"versicolor\",\"versicolor\",\"versicolor\",\"versicolor\",\"versicolor\",\"versicolor\",\"versicolor\",\"versicolor\",\"versicolor\",\"versicolor\",\"versicolor\",\"versicolor\",\"versicolor\",\"versicolor\",\"versicolor\",\"versicolor\",\"versicolor\",\"versicolor\",\"versicolor\",\"versicolor\",\"versicolor\",\"versicolor\",\"versicolor\",\"versicolor\",\"versicolor\",\"versicolor\",\"versicolor\",\"versicolor\",\"versicolor\",\"versicolor\",\"versicolor\",\"versicolor\",\"versicolor\",\"versicolor\",\"virginica\",\"virginica\",\"virginica\",\"virginica\",\"virginica\",\"virginica\",\"virginica\",\"virginica\",\"virginica\",\"virginica\",\"virginica\",\"virginica\",\"virginica\",\"virginica\",\"virginica\",\"virginica\",\"virginica\",\"virginica\",\"virginica\",\"virginica\",\"virginica\",\"virginica\",\"virginica\",\"virginica\",\"virginica\",\"virginica\",\"virginica\",\"virginica\",\"virginica\",\"virginica\",\"virginica\",\"virginica\",\"virginica\",\"virginica\",\"virginica\",\"virginica\",\"virginica\",\"virginica\",\"virginica\",\"virginica\",\"virginica\",\"virginica\",\"virginica\",\"virginica\",\"virginica\",\"virginica\",\"virginica\",\"virginica\",\"virginica\",\"virginica\"]},\"selected\":{\"id\":\"6796\"},\"selection_policy\":{\"id\":\"6795\"}},\"id\":\"6781\",\"type\":\"ColumnDataSource\"},{\"attributes\":{\"fill_alpha\":{\"value\":0.6},\"fill_color\":{\"field\":\"species\",\"transform\":{\"id\":\"6747\"}},\"line_color\":{\"value\":\"#1f77b4\"},\"size\":{\"value\":10},\"x\":{\"field\":\"sepal_length\"},\"y\":{\"field\":\"sepal_width\"}},\"id\":\"6783\",\"type\":\"Scatter\"},{\"attributes\":{},\"id\":\"6789\",\"type\":\"AllLabels\"},{\"attributes\":{},\"id\":\"6757\",\"type\":\"LinearScale\"},{\"attributes\":{},\"id\":\"6768\",\"type\":\"WheelZoomTool\"},{\"attributes\":{},\"id\":\"6767\",\"type\":\"PanTool\"},{\"attributes\":{\"axis\":{\"id\":\"6763\"},\"dimension\":1,\"ticker\":null},\"id\":\"6766\",\"type\":\"Grid\"},{\"attributes\":{\"text\":\"flowers: sepal length x width\"},\"id\":\"6749\",\"type\":\"Title\"}],\"root_ids\":[\"6748\"]},\"title\":\"Bokeh Application\",\"version\":\"2.3.3\"}};\n",
       "  var render_items = [{\"docid\":\"52bb3da4-552c-4b05-a157-36b6ea15d85c\",\"root_ids\":[\"6748\"],\"roots\":{\"6748\":\"298336a1-2483-455d-9663-5c8644ab6b93\"}}];\n",
       "  root.Bokeh.embed.embed_items_notebook(docs_json, render_items);\n",
       "\n",
       "  }\n",
       "  if (root.Bokeh !== undefined) {\n",
       "    embed_document(root);\n",
       "  } else {\n",
       "    var attempts = 0;\n",
       "    var timer = setInterval(function(root) {\n",
       "      if (root.Bokeh !== undefined) {\n",
       "        clearInterval(timer);\n",
       "        embed_document(root);\n",
       "      } else {\n",
       "        attempts++;\n",
       "        if (attempts > 100) {\n",
       "          clearInterval(timer);\n",
       "          console.log(\"Bokeh: ERROR: Unable to run BokehJS code because BokehJS library is missing\");\n",
       "        }\n",
       "      }\n",
       "    }, 10, root)\n",
       "  }\n",
       "})(window);"
      ],
      "application/vnd.bokehjs_exec.v0+json": ""
     },
     "metadata": {
      "application/vnd.bokehjs_exec.v0+json": {
       "id": "6748"
      }
     },
     "output_type": "display_data"
    }
   ],
   "source": [
    "from bokeh.sampledata.iris import flowers\n",
    "from bokeh.transform import factor_cmap\n",
    "\n",
    "\n",
    "\n",
    "# using factor cmap to color the bubbles according to the species category; used to map the colors according to the species\n",
    "index_cmap = factor_cmap('species', palette=['red', 'blue', 'green'], factors=sorted(flowers.species.unique()))\n",
    "\n",
    "# set (scatter) figure\n",
    "p = figure(plot_width = 600, plot_height = 450, title = \"flowers: sepal length x width\")\n",
    "p.scatter('sepal_length','sepal_width',source = flowers,fill_alpha = 0.6, fill_color = index_cmap, size = 10, legend = 'species')\n",
    "\n",
    "# set plotting characteristics\n",
    "p.xaxis.axis_label = 'sepal_length'\n",
    "p.yaxis.axis_label = 'sepal_width'\n",
    "p.legend.location = \"top_left\"\n",
    "\n",
    "# show\n",
    "show(p)"
   ]
  },
  {
   "cell_type": "code",
   "execution_count": null,
   "metadata": {},
   "outputs": [],
   "source": []
  }
 ],
 "metadata": {
  "kernelspec": {
   "display_name": "Python 3 (ipykernel)",
   "language": "python",
   "name": "python3"
  },
  "language_info": {
   "codemirror_mode": {
    "name": "ipython",
    "version": 3
   },
   "file_extension": ".py",
   "mimetype": "text/x-python",
   "name": "python",
   "nbconvert_exporter": "python",
   "pygments_lexer": "ipython3",
   "version": "3.7.11"
  }
 },
 "nbformat": 4,
 "nbformat_minor": 4
}
