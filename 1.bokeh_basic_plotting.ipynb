{
 "cells": [
  {
   "cell_type": "markdown",
   "metadata": {},
   "source": [
    "# Bokeh: Basic Plotting\n"
   ]
  },
  {
   "cell_type": "markdown",
   "metadata": {},
   "source": [
    "This section of the tutorial covers the [`bokeh.plotting`](http://bokeh.pydata.org/en/latest/docs/user_guide/plotting.html) \n",
    "interface. This interface is a \"mid-level\" interface, and the main idea can be described by the statement:\n",
    "\n",
    "**Starting from simple default figures (with sensible default tools, grids and axes), add markers and other shapes whose visual attributes are tied directly to data.**\n",
    "\n",
    "We will see that it is possible to customize and change all of the defaults, but having them means that it is possible to get up and running very quickly. \n",
    "\n",
    "Most parts of this tutorial are taken from the bokeh [website](https://docs.bokeh.org/en/latest/index.html).\n",
    "\n"
   ]
  },
  {
   "cell_type": "markdown",
   "metadata": {},
   "source": [
    "## Imports and Setup\n",
    "\n",
    "\n",
    "When using the [`bokeh.plotting`](http://bokeh.pydata.org/en/latest/docs/user_guide/plotting.html) interface, there are a few common imports:\n",
    "* Use the [`figure`](http://bokeh.pydata.org/en/latest/docs/reference/plotting.html#bokeh.plotting.figure) function to  create new plot objects to work with. \n",
    "* Call the functions [`output_file`](http://bokeh.pydata.org/en/latest/docs/reference/resources_embedding.html#bokeh.io.output_file) or [`output_notebook`](http://bokeh.pydata.org/en/latest/docs/reference/resources_embedding.html#bokeh.io.output_notebook) (possibly in combination) to tell Bokeh how to display or save output. \n",
    "* Execute [`show`](http://bokeh.pydata.org/en/latest/docs/reference/resources_embedding.html#bokeh.io.show) and  [`save`](http://bokeh.pydata.org/en/latest/docs/reference/resources_embedding.html#bokeh.io.save) to display or save plots and layouts."
   ]
  },
  {
   "cell_type": "code",
   "execution_count": 1,
   "metadata": {},
   "outputs": [],
   "source": [
    "import numpy as np # we will use this later, so import it now\n",
    "import pandas as pd\n",
    "\n",
    "from bokeh.io import output_notebook, show\n",
    "from bokeh.plotting import figure"
   ]
  },
  {
   "cell_type": "markdown",
   "metadata": {},
   "source": [
    "This notebook uses Bokeh sample data. This can be downloaded by running the following:"
   ]
  },
  {
   "cell_type": "code",
   "execution_count": 2,
   "metadata": {},
   "outputs": [
    {
     "name": "stdout",
     "output_type": "stream",
     "text": [
      "Using data directory: C:\\Users\\jeani\\.bokeh\\data\n",
      "Skipping 'CGM.csv' (checksum match)\n",
      "Skipping 'US_Counties.zip' (checksum match)\n",
      "Skipping 'us_cities.json' (checksum match)\n",
      "Skipping 'unemployment09.csv' (checksum match)\n",
      "Skipping 'AAPL.csv' (checksum match)\n",
      "Skipping 'FB.csv' (checksum match)\n",
      "Skipping 'GOOG.csv' (checksum match)\n",
      "Skipping 'IBM.csv' (checksum match)\n",
      "Skipping 'MSFT.csv' (checksum match)\n",
      "Skipping 'WPP2012_SA_DB03_POPULATION_QUINQUENNIAL.zip' (checksum match)\n",
      "Skipping 'gapminder_fertility.csv' (checksum match)\n",
      "Skipping 'gapminder_population.csv' (checksum match)\n",
      "Skipping 'gapminder_life_expectancy.csv' (checksum match)\n",
      "Skipping 'gapminder_regions.csv' (checksum match)\n",
      "Skipping 'world_cities.zip' (checksum match)\n",
      "Skipping 'airports.json' (checksum match)\n",
      "Skipping 'movies.db.zip' (checksum match)\n",
      "Skipping 'airports.csv' (checksum match)\n",
      "Skipping 'routes.csv' (checksum match)\n",
      "Skipping 'haarcascade_frontalface_default.xml' (checksum match)\n"
     ]
    }
   ],
   "source": [
    "import bokeh.sampledata\n",
    "bokeh.sampledata.download()"
   ]
  },
  {
   "cell_type": "markdown",
   "metadata": {},
   "source": [
    "In this case, we are in the Jupyter notebook, so we will call output_notebook() below. We only need to call this once, and all subsequent calls to show() will display inline in the notebook.\n"
   ]
  },
  {
   "cell_type": "code",
   "execution_count": 3,
   "metadata": {},
   "outputs": [
    {
     "data": {
      "text/html": [
       "\n",
       "    <div class=\"bk-root\">\n",
       "        <a href=\"https://bokeh.org\" target=\"_blank\" class=\"bk-logo bk-logo-small bk-logo-notebook\"></a>\n",
       "        <span id=\"1002\">Loading BokehJS ...</span>\n",
       "    </div>"
      ]
     },
     "metadata": {},
     "output_type": "display_data"
    },
    {
     "data": {
      "application/javascript": [
       "\n",
       "(function(root) {\n",
       "  function now() {\n",
       "    return new Date();\n",
       "  }\n",
       "\n",
       "  var force = true;\n",
       "\n",
       "  if (typeof root._bokeh_onload_callbacks === \"undefined\" || force === true) {\n",
       "    root._bokeh_onload_callbacks = [];\n",
       "    root._bokeh_is_loading = undefined;\n",
       "  }\n",
       "\n",
       "  var JS_MIME_TYPE = 'application/javascript';\n",
       "  var HTML_MIME_TYPE = 'text/html';\n",
       "  var EXEC_MIME_TYPE = 'application/vnd.bokehjs_exec.v0+json';\n",
       "  var CLASS_NAME = 'output_bokeh rendered_html';\n",
       "\n",
       "  /**\n",
       "   * Render data to the DOM node\n",
       "   */\n",
       "  function render(props, node) {\n",
       "    var script = document.createElement(\"script\");\n",
       "    node.appendChild(script);\n",
       "  }\n",
       "\n",
       "  /**\n",
       "   * Handle when an output is cleared or removed\n",
       "   */\n",
       "  function handleClearOutput(event, handle) {\n",
       "    var cell = handle.cell;\n",
       "\n",
       "    var id = cell.output_area._bokeh_element_id;\n",
       "    var server_id = cell.output_area._bokeh_server_id;\n",
       "    // Clean up Bokeh references\n",
       "    if (id != null && id in Bokeh.index) {\n",
       "      Bokeh.index[id].model.document.clear();\n",
       "      delete Bokeh.index[id];\n",
       "    }\n",
       "\n",
       "    if (server_id !== undefined) {\n",
       "      // Clean up Bokeh references\n",
       "      var cmd = \"from bokeh.io.state import curstate; print(curstate().uuid_to_server['\" + server_id + \"'].get_sessions()[0].document.roots[0]._id)\";\n",
       "      cell.notebook.kernel.execute(cmd, {\n",
       "        iopub: {\n",
       "          output: function(msg) {\n",
       "            var id = msg.content.text.trim();\n",
       "            if (id in Bokeh.index) {\n",
       "              Bokeh.index[id].model.document.clear();\n",
       "              delete Bokeh.index[id];\n",
       "            }\n",
       "          }\n",
       "        }\n",
       "      });\n",
       "      // Destroy server and session\n",
       "      var cmd = \"import bokeh.io.notebook as ion; ion.destroy_server('\" + server_id + \"')\";\n",
       "      cell.notebook.kernel.execute(cmd);\n",
       "    }\n",
       "  }\n",
       "\n",
       "  /**\n",
       "   * Handle when a new output is added\n",
       "   */\n",
       "  function handleAddOutput(event, handle) {\n",
       "    var output_area = handle.output_area;\n",
       "    var output = handle.output;\n",
       "\n",
       "    // limit handleAddOutput to display_data with EXEC_MIME_TYPE content only\n",
       "    if ((output.output_type != \"display_data\") || (!Object.prototype.hasOwnProperty.call(output.data, EXEC_MIME_TYPE))) {\n",
       "      return\n",
       "    }\n",
       "\n",
       "    var toinsert = output_area.element.find(\".\" + CLASS_NAME.split(' ')[0]);\n",
       "\n",
       "    if (output.metadata[EXEC_MIME_TYPE][\"id\"] !== undefined) {\n",
       "      toinsert[toinsert.length - 1].firstChild.textContent = output.data[JS_MIME_TYPE];\n",
       "      // store reference to embed id on output_area\n",
       "      output_area._bokeh_element_id = output.metadata[EXEC_MIME_TYPE][\"id\"];\n",
       "    }\n",
       "    if (output.metadata[EXEC_MIME_TYPE][\"server_id\"] !== undefined) {\n",
       "      var bk_div = document.createElement(\"div\");\n",
       "      bk_div.innerHTML = output.data[HTML_MIME_TYPE];\n",
       "      var script_attrs = bk_div.children[0].attributes;\n",
       "      for (var i = 0; i < script_attrs.length; i++) {\n",
       "        toinsert[toinsert.length - 1].firstChild.setAttribute(script_attrs[i].name, script_attrs[i].value);\n",
       "        toinsert[toinsert.length - 1].firstChild.textContent = bk_div.children[0].textContent\n",
       "      }\n",
       "      // store reference to server id on output_area\n",
       "      output_area._bokeh_server_id = output.metadata[EXEC_MIME_TYPE][\"server_id\"];\n",
       "    }\n",
       "  }\n",
       "\n",
       "  function register_renderer(events, OutputArea) {\n",
       "\n",
       "    function append_mime(data, metadata, element) {\n",
       "      // create a DOM node to render to\n",
       "      var toinsert = this.create_output_subarea(\n",
       "        metadata,\n",
       "        CLASS_NAME,\n",
       "        EXEC_MIME_TYPE\n",
       "      );\n",
       "      this.keyboard_manager.register_events(toinsert);\n",
       "      // Render to node\n",
       "      var props = {data: data, metadata: metadata[EXEC_MIME_TYPE]};\n",
       "      render(props, toinsert[toinsert.length - 1]);\n",
       "      element.append(toinsert);\n",
       "      return toinsert\n",
       "    }\n",
       "\n",
       "    /* Handle when an output is cleared or removed */\n",
       "    events.on('clear_output.CodeCell', handleClearOutput);\n",
       "    events.on('delete.Cell', handleClearOutput);\n",
       "\n",
       "    /* Handle when a new output is added */\n",
       "    events.on('output_added.OutputArea', handleAddOutput);\n",
       "\n",
       "    /**\n",
       "     * Register the mime type and append_mime function with output_area\n",
       "     */\n",
       "    OutputArea.prototype.register_mime_type(EXEC_MIME_TYPE, append_mime, {\n",
       "      /* Is output safe? */\n",
       "      safe: true,\n",
       "      /* Index of renderer in `output_area.display_order` */\n",
       "      index: 0\n",
       "    });\n",
       "  }\n",
       "\n",
       "  // register the mime type if in Jupyter Notebook environment and previously unregistered\n",
       "  if (root.Jupyter !== undefined) {\n",
       "    var events = require('base/js/events');\n",
       "    var OutputArea = require('notebook/js/outputarea').OutputArea;\n",
       "\n",
       "    if (OutputArea.prototype.mime_types().indexOf(EXEC_MIME_TYPE) == -1) {\n",
       "      register_renderer(events, OutputArea);\n",
       "    }\n",
       "  }\n",
       "\n",
       "  \n",
       "  if (typeof (root._bokeh_timeout) === \"undefined\" || force === true) {\n",
       "    root._bokeh_timeout = Date.now() + 5000;\n",
       "    root._bokeh_failed_load = false;\n",
       "  }\n",
       "\n",
       "  var NB_LOAD_WARNING = {'data': {'text/html':\n",
       "     \"<div style='background-color: #fdd'>\\n\"+\n",
       "     \"<p>\\n\"+\n",
       "     \"BokehJS does not appear to have successfully loaded. If loading BokehJS from CDN, this \\n\"+\n",
       "     \"may be due to a slow or bad network connection. Possible fixes:\\n\"+\n",
       "     \"</p>\\n\"+\n",
       "     \"<ul>\\n\"+\n",
       "     \"<li>re-rerun `output_notebook()` to attempt to load from CDN again, or</li>\\n\"+\n",
       "     \"<li>use INLINE resources instead, as so:</li>\\n\"+\n",
       "     \"</ul>\\n\"+\n",
       "     \"<code>\\n\"+\n",
       "     \"from bokeh.resources import INLINE\\n\"+\n",
       "     \"output_notebook(resources=INLINE)\\n\"+\n",
       "     \"</code>\\n\"+\n",
       "     \"</div>\"}};\n",
       "\n",
       "  function display_loaded() {\n",
       "    var el = document.getElementById(\"1002\");\n",
       "    if (el != null) {\n",
       "      el.textContent = \"BokehJS is loading...\";\n",
       "    }\n",
       "    if (root.Bokeh !== undefined) {\n",
       "      if (el != null) {\n",
       "        el.textContent = \"BokehJS \" + root.Bokeh.version + \" successfully loaded.\";\n",
       "      }\n",
       "    } else if (Date.now() < root._bokeh_timeout) {\n",
       "      setTimeout(display_loaded, 100)\n",
       "    }\n",
       "  }\n",
       "\n",
       "\n",
       "  function run_callbacks() {\n",
       "    try {\n",
       "      root._bokeh_onload_callbacks.forEach(function(callback) {\n",
       "        if (callback != null)\n",
       "          callback();\n",
       "      });\n",
       "    } finally {\n",
       "      delete root._bokeh_onload_callbacks\n",
       "    }\n",
       "    console.debug(\"Bokeh: all callbacks have finished\");\n",
       "  }\n",
       "\n",
       "  function load_libs(css_urls, js_urls, callback) {\n",
       "    if (css_urls == null) css_urls = [];\n",
       "    if (js_urls == null) js_urls = [];\n",
       "\n",
       "    root._bokeh_onload_callbacks.push(callback);\n",
       "    if (root._bokeh_is_loading > 0) {\n",
       "      console.debug(\"Bokeh: BokehJS is being loaded, scheduling callback at\", now());\n",
       "      return null;\n",
       "    }\n",
       "    if (js_urls == null || js_urls.length === 0) {\n",
       "      run_callbacks();\n",
       "      return null;\n",
       "    }\n",
       "    console.debug(\"Bokeh: BokehJS not loaded, scheduling load and callback at\", now());\n",
       "    root._bokeh_is_loading = css_urls.length + js_urls.length;\n",
       "\n",
       "    function on_load() {\n",
       "      root._bokeh_is_loading--;\n",
       "      if (root._bokeh_is_loading === 0) {\n",
       "        console.debug(\"Bokeh: all BokehJS libraries/stylesheets loaded\");\n",
       "        run_callbacks()\n",
       "      }\n",
       "    }\n",
       "\n",
       "    function on_error(url) {\n",
       "      console.error(\"failed to load \" + url);\n",
       "    }\n",
       "\n",
       "    for (let i = 0; i < css_urls.length; i++) {\n",
       "      const url = css_urls[i];\n",
       "      const element = document.createElement(\"link\");\n",
       "      element.onload = on_load;\n",
       "      element.onerror = on_error.bind(null, url);\n",
       "      element.rel = \"stylesheet\";\n",
       "      element.type = \"text/css\";\n",
       "      element.href = url;\n",
       "      console.debug(\"Bokeh: injecting link tag for BokehJS stylesheet: \", url);\n",
       "      document.body.appendChild(element);\n",
       "    }\n",
       "\n",
       "    const hashes = {\"https://cdn.bokeh.org/bokeh/release/bokeh-2.3.3.min.js\": \"dM3QQsP+wXdHg42wTqW85BjZQdLNNIXqlPw/BgKoExPmTG7ZLML4EGqLMfqHT6ON\", \"https://cdn.bokeh.org/bokeh/release/bokeh-tables-2.3.3.min.js\": \"8x57I4YuIfu8XyZfFo0XVr2WAT8EK4rh/uDe3wF7YuW2FNUSNEpJbsPaB1nJ2fz2\", \"https://cdn.bokeh.org/bokeh/release/bokeh-widgets-2.3.3.min.js\": \"3QTqdz9LyAm2i0sG5XTePsHec3UHWwVsrOL68SYRoAXsafvfAyqtQ+h440+qIBhS\"};\n",
       "\n",
       "    for (let i = 0; i < js_urls.length; i++) {\n",
       "      const url = js_urls[i];\n",
       "      const element = document.createElement('script');\n",
       "      element.onload = on_load;\n",
       "      element.onerror = on_error.bind(null, url);\n",
       "      element.async = false;\n",
       "      element.src = url;\n",
       "      if (url in hashes) {\n",
       "        element.crossOrigin = \"anonymous\";\n",
       "        element.integrity = \"sha384-\" + hashes[url];\n",
       "      }\n",
       "      console.debug(\"Bokeh: injecting script tag for BokehJS library: \", url);\n",
       "      document.head.appendChild(element);\n",
       "    }\n",
       "  };\n",
       "\n",
       "  function inject_raw_css(css) {\n",
       "    const element = document.createElement(\"style\");\n",
       "    element.appendChild(document.createTextNode(css));\n",
       "    document.body.appendChild(element);\n",
       "  }\n",
       "\n",
       "  \n",
       "  var js_urls = [\"https://cdn.bokeh.org/bokeh/release/bokeh-2.3.3.min.js\", \"https://cdn.bokeh.org/bokeh/release/bokeh-widgets-2.3.3.min.js\", \"https://cdn.bokeh.org/bokeh/release/bokeh-tables-2.3.3.min.js\"];\n",
       "  var css_urls = [];\n",
       "  \n",
       "\n",
       "  var inline_js = [\n",
       "    function(Bokeh) {\n",
       "      Bokeh.set_log_level(\"info\");\n",
       "    },\n",
       "    function(Bokeh) {\n",
       "    \n",
       "    \n",
       "    }\n",
       "  ];\n",
       "\n",
       "  function run_inline_js() {\n",
       "    \n",
       "    if (root.Bokeh !== undefined || force === true) {\n",
       "      \n",
       "    for (var i = 0; i < inline_js.length; i++) {\n",
       "      inline_js[i].call(root, root.Bokeh);\n",
       "    }\n",
       "    if (force === true) {\n",
       "        display_loaded();\n",
       "      }} else if (Date.now() < root._bokeh_timeout) {\n",
       "      setTimeout(run_inline_js, 100);\n",
       "    } else if (!root._bokeh_failed_load) {\n",
       "      console.log(\"Bokeh: BokehJS failed to load within specified timeout.\");\n",
       "      root._bokeh_failed_load = true;\n",
       "    } else if (force !== true) {\n",
       "      var cell = $(document.getElementById(\"1002\")).parents('.cell').data().cell;\n",
       "      cell.output_area.append_execute_result(NB_LOAD_WARNING)\n",
       "    }\n",
       "\n",
       "  }\n",
       "\n",
       "  if (root._bokeh_is_loading === 0) {\n",
       "    console.debug(\"Bokeh: BokehJS loaded, going straight to plotting\");\n",
       "    run_inline_js();\n",
       "  } else {\n",
       "    load_libs(css_urls, js_urls, function() {\n",
       "      console.debug(\"Bokeh: BokehJS plotting callback run at\", now());\n",
       "      run_inline_js();\n",
       "    });\n",
       "  }\n",
       "}(window));"
      ],
      "application/vnd.bokehjs_load.v0+json": "\n(function(root) {\n  function now() {\n    return new Date();\n  }\n\n  var force = true;\n\n  if (typeof root._bokeh_onload_callbacks === \"undefined\" || force === true) {\n    root._bokeh_onload_callbacks = [];\n    root._bokeh_is_loading = undefined;\n  }\n\n  \n\n  \n  if (typeof (root._bokeh_timeout) === \"undefined\" || force === true) {\n    root._bokeh_timeout = Date.now() + 5000;\n    root._bokeh_failed_load = false;\n  }\n\n  var NB_LOAD_WARNING = {'data': {'text/html':\n     \"<div style='background-color: #fdd'>\\n\"+\n     \"<p>\\n\"+\n     \"BokehJS does not appear to have successfully loaded. If loading BokehJS from CDN, this \\n\"+\n     \"may be due to a slow or bad network connection. Possible fixes:\\n\"+\n     \"</p>\\n\"+\n     \"<ul>\\n\"+\n     \"<li>re-rerun `output_notebook()` to attempt to load from CDN again, or</li>\\n\"+\n     \"<li>use INLINE resources instead, as so:</li>\\n\"+\n     \"</ul>\\n\"+\n     \"<code>\\n\"+\n     \"from bokeh.resources import INLINE\\n\"+\n     \"output_notebook(resources=INLINE)\\n\"+\n     \"</code>\\n\"+\n     \"</div>\"}};\n\n  function display_loaded() {\n    var el = document.getElementById(\"1002\");\n    if (el != null) {\n      el.textContent = \"BokehJS is loading...\";\n    }\n    if (root.Bokeh !== undefined) {\n      if (el != null) {\n        el.textContent = \"BokehJS \" + root.Bokeh.version + \" successfully loaded.\";\n      }\n    } else if (Date.now() < root._bokeh_timeout) {\n      setTimeout(display_loaded, 100)\n    }\n  }\n\n\n  function run_callbacks() {\n    try {\n      root._bokeh_onload_callbacks.forEach(function(callback) {\n        if (callback != null)\n          callback();\n      });\n    } finally {\n      delete root._bokeh_onload_callbacks\n    }\n    console.debug(\"Bokeh: all callbacks have finished\");\n  }\n\n  function load_libs(css_urls, js_urls, callback) {\n    if (css_urls == null) css_urls = [];\n    if (js_urls == null) js_urls = [];\n\n    root._bokeh_onload_callbacks.push(callback);\n    if (root._bokeh_is_loading > 0) {\n      console.debug(\"Bokeh: BokehJS is being loaded, scheduling callback at\", now());\n      return null;\n    }\n    if (js_urls == null || js_urls.length === 0) {\n      run_callbacks();\n      return null;\n    }\n    console.debug(\"Bokeh: BokehJS not loaded, scheduling load and callback at\", now());\n    root._bokeh_is_loading = css_urls.length + js_urls.length;\n\n    function on_load() {\n      root._bokeh_is_loading--;\n      if (root._bokeh_is_loading === 0) {\n        console.debug(\"Bokeh: all BokehJS libraries/stylesheets loaded\");\n        run_callbacks()\n      }\n    }\n\n    function on_error(url) {\n      console.error(\"failed to load \" + url);\n    }\n\n    for (let i = 0; i < css_urls.length; i++) {\n      const url = css_urls[i];\n      const element = document.createElement(\"link\");\n      element.onload = on_load;\n      element.onerror = on_error.bind(null, url);\n      element.rel = \"stylesheet\";\n      element.type = \"text/css\";\n      element.href = url;\n      console.debug(\"Bokeh: injecting link tag for BokehJS stylesheet: \", url);\n      document.body.appendChild(element);\n    }\n\n    const hashes = {\"https://cdn.bokeh.org/bokeh/release/bokeh-2.3.3.min.js\": \"dM3QQsP+wXdHg42wTqW85BjZQdLNNIXqlPw/BgKoExPmTG7ZLML4EGqLMfqHT6ON\", \"https://cdn.bokeh.org/bokeh/release/bokeh-tables-2.3.3.min.js\": \"8x57I4YuIfu8XyZfFo0XVr2WAT8EK4rh/uDe3wF7YuW2FNUSNEpJbsPaB1nJ2fz2\", \"https://cdn.bokeh.org/bokeh/release/bokeh-widgets-2.3.3.min.js\": \"3QTqdz9LyAm2i0sG5XTePsHec3UHWwVsrOL68SYRoAXsafvfAyqtQ+h440+qIBhS\"};\n\n    for (let i = 0; i < js_urls.length; i++) {\n      const url = js_urls[i];\n      const element = document.createElement('script');\n      element.onload = on_load;\n      element.onerror = on_error.bind(null, url);\n      element.async = false;\n      element.src = url;\n      if (url in hashes) {\n        element.crossOrigin = \"anonymous\";\n        element.integrity = \"sha384-\" + hashes[url];\n      }\n      console.debug(\"Bokeh: injecting script tag for BokehJS library: \", url);\n      document.head.appendChild(element);\n    }\n  };\n\n  function inject_raw_css(css) {\n    const element = document.createElement(\"style\");\n    element.appendChild(document.createTextNode(css));\n    document.body.appendChild(element);\n  }\n\n  \n  var js_urls = [\"https://cdn.bokeh.org/bokeh/release/bokeh-2.3.3.min.js\", \"https://cdn.bokeh.org/bokeh/release/bokeh-widgets-2.3.3.min.js\", \"https://cdn.bokeh.org/bokeh/release/bokeh-tables-2.3.3.min.js\"];\n  var css_urls = [];\n  \n\n  var inline_js = [\n    function(Bokeh) {\n      Bokeh.set_log_level(\"info\");\n    },\n    function(Bokeh) {\n    \n    \n    }\n  ];\n\n  function run_inline_js() {\n    \n    if (root.Bokeh !== undefined || force === true) {\n      \n    for (var i = 0; i < inline_js.length; i++) {\n      inline_js[i].call(root, root.Bokeh);\n    }\n    if (force === true) {\n        display_loaded();\n      }} else if (Date.now() < root._bokeh_timeout) {\n      setTimeout(run_inline_js, 100);\n    } else if (!root._bokeh_failed_load) {\n      console.log(\"Bokeh: BokehJS failed to load within specified timeout.\");\n      root._bokeh_failed_load = true;\n    } else if (force !== true) {\n      var cell = $(document.getElementById(\"1002\")).parents('.cell').data().cell;\n      cell.output_area.append_execute_result(NB_LOAD_WARNING)\n    }\n\n  }\n\n  if (root._bokeh_is_loading === 0) {\n    console.debug(\"Bokeh: BokehJS loaded, going straight to plotting\");\n    run_inline_js();\n  } else {\n    load_libs(css_urls, js_urls, function() {\n      console.debug(\"Bokeh: BokehJS plotting callback run at\", now());\n      run_inline_js();\n    });\n  }\n}(window));"
     },
     "metadata": {},
     "output_type": "display_data"
    }
   ],
   "source": [
    "output_notebook()"
   ]
  },
  {
   "cell_type": "markdown",
   "metadata": {},
   "source": [
    "If everything is working, you should see a Bokeh logo and a message like *\"BokehJS 1.4.0 successfully loaded\"* as the output. "
   ]
  },
  {
   "cell_type": "markdown",
   "metadata": {},
   "source": [
    "## Scatter Plots\n",
    "\n",
    "Bokeh can draw many types of visual shapes (called *glyphs*), which include lines, bars, patches, hex tiles and more. One of the most common visualization tasks is to draw a scatter plot of data using small *marker* glyphs to represent each point. \n",
    "\n",
    "In this section you will see how to use Bokeh's various marker glyphs to create simple scatter plots. \n",
    "\n",
    "The basic outline is:\n",
    "* create a blank figure: `p = figure(...)`\n",
    "* call a glyph method such as `p.circle` on the figure\n",
    "* `show` the figure\n",
    "\n",
    "Execute the cell below to create a small scatter plot with circle glyphs:"
   ]
  },
  {
   "cell_type": "code",
   "execution_count": 7,
   "metadata": {},
   "outputs": [
    {
     "data": {
      "text/html": [
       "\n",
       "\n",
       "\n",
       "\n",
       "\n",
       "\n",
       "  <div class=\"bk-root\" id=\"3f726c0d-1b8d-48da-b503-95ac70ef3761\" data-root-id=\"1342\"></div>\n"
      ]
     },
     "metadata": {},
     "output_type": "display_data"
    },
    {
     "data": {
      "application/javascript": [
       "(function(root) {\n",
       "  function embed_document(root) {\n",
       "    \n",
       "  var docs_json = {\"c307c771-7e13-4e20-9257-1ae7bb37ef67\":{\"defs\":[],\"roots\":{\"references\":[{\"attributes\":{\"below\":[{\"id\":\"1351\"}],\"center\":[{\"id\":\"1354\"},{\"id\":\"1358\"}],\"height\":500,\"left\":[{\"id\":\"1355\"}],\"renderers\":[{\"id\":\"1376\"}],\"title\":{\"id\":\"1411\"},\"toolbar\":{\"id\":\"1366\"},\"width\":500,\"x_range\":{\"id\":\"1343\"},\"x_scale\":{\"id\":\"1347\"},\"y_range\":{\"id\":\"1345\"},\"y_scale\":{\"id\":\"1349\"}},\"id\":\"1342\",\"subtype\":\"Figure\",\"type\":\"Plot\"},{\"attributes\":{},\"id\":\"1364\",\"type\":\"HelpTool\"},{\"attributes\":{},\"id\":\"1352\",\"type\":\"BasicTicker\"},{\"attributes\":{\"fill_alpha\":{\"value\":0.1},\"fill_color\":{\"value\":\"blue\"},\"line_alpha\":{\"value\":0.1},\"line_color\":{\"value\":\"red\"},\"radius\":{\"value\":0.5},\"size\":{\"value\":15},\"x\":{\"field\":\"x\"},\"y\":{\"field\":\"y\"}},\"id\":\"1375\",\"type\":\"Circle\"},{\"attributes\":{},\"id\":\"1411\",\"type\":\"Title\"},{\"attributes\":{},\"id\":\"1420\",\"type\":\"Selection\"},{\"attributes\":{\"axis\":{\"id\":\"1351\"},\"ticker\":null},\"id\":\"1354\",\"type\":\"Grid\"},{\"attributes\":{\"formatter\":{\"id\":\"1417\"},\"major_label_policy\":{\"id\":\"1416\"},\"ticker\":{\"id\":\"1356\"}},\"id\":\"1355\",\"type\":\"LinearAxis\"},{\"attributes\":{\"formatter\":{\"id\":\"1414\"},\"major_label_policy\":{\"id\":\"1413\"},\"ticker\":{\"id\":\"1352\"}},\"id\":\"1351\",\"type\":\"LinearAxis\"},{\"attributes\":{},\"id\":\"1356\",\"type\":\"BasicTicker\"},{\"attributes\":{},\"id\":\"1349\",\"type\":\"LinearScale\"},{\"attributes\":{\"active_multi\":null,\"tools\":[{\"id\":\"1359\"},{\"id\":\"1360\"},{\"id\":\"1361\"},{\"id\":\"1362\"},{\"id\":\"1363\"},{\"id\":\"1364\"}]},\"id\":\"1366\",\"type\":\"Toolbar\"},{\"attributes\":{},\"id\":\"1421\",\"type\":\"UnionRenderers\"},{\"attributes\":{\"axis\":{\"id\":\"1355\"},\"dimension\":1,\"ticker\":null},\"id\":\"1358\",\"type\":\"Grid\"},{\"attributes\":{},\"id\":\"1345\",\"type\":\"DataRange1d\"},{\"attributes\":{\"bottom_units\":\"screen\",\"fill_alpha\":0.5,\"fill_color\":\"lightgrey\",\"left_units\":\"screen\",\"level\":\"overlay\",\"line_alpha\":1.0,\"line_color\":\"black\",\"line_dash\":[4,4],\"line_width\":2,\"right_units\":\"screen\",\"syncable\":false,\"top_units\":\"screen\"},\"id\":\"1365\",\"type\":\"BoxAnnotation\"},{\"attributes\":{},\"id\":\"1417\",\"type\":\"BasicTickFormatter\"},{\"attributes\":{\"fill_alpha\":{\"value\":0.1},\"fill_color\":{\"value\":\"blue\"},\"line_color\":{\"value\":\"red\"},\"radius\":{\"value\":0.5},\"size\":{\"value\":15},\"x\":{\"field\":\"x\"},\"y\":{\"field\":\"y\"}},\"id\":\"1374\",\"type\":\"Circle\"},{\"attributes\":{},\"id\":\"1414\",\"type\":\"BasicTickFormatter\"},{\"attributes\":{\"data\":{\"x\":[1,2,3,4,5],\"y\":[6,7,2,4,5]},\"selected\":{\"id\":\"1420\"},\"selection_policy\":{\"id\":\"1421\"}},\"id\":\"1373\",\"type\":\"ColumnDataSource\"},{\"attributes\":{},\"id\":\"1359\",\"type\":\"PanTool\"},{\"attributes\":{},\"id\":\"1363\",\"type\":\"ResetTool\"},{\"attributes\":{},\"id\":\"1416\",\"type\":\"AllLabels\"},{\"attributes\":{},\"id\":\"1360\",\"type\":\"WheelZoomTool\"},{\"attributes\":{\"overlay\":{\"id\":\"1365\"}},\"id\":\"1361\",\"type\":\"BoxZoomTool\"},{\"attributes\":{\"source\":{\"id\":\"1373\"}},\"id\":\"1377\",\"type\":\"CDSView\"},{\"attributes\":{},\"id\":\"1343\",\"type\":\"DataRange1d\"},{\"attributes\":{},\"id\":\"1362\",\"type\":\"SaveTool\"},{\"attributes\":{\"data_source\":{\"id\":\"1373\"},\"glyph\":{\"id\":\"1374\"},\"hover_glyph\":null,\"muted_glyph\":null,\"nonselection_glyph\":{\"id\":\"1375\"},\"view\":{\"id\":\"1377\"}},\"id\":\"1376\",\"type\":\"GlyphRenderer\"},{\"attributes\":{},\"id\":\"1347\",\"type\":\"LinearScale\"},{\"attributes\":{},\"id\":\"1413\",\"type\":\"AllLabels\"}],\"root_ids\":[\"1342\"]},\"title\":\"Bokeh Application\",\"version\":\"2.3.3\"}};\n",
       "  var render_items = [{\"docid\":\"c307c771-7e13-4e20-9257-1ae7bb37ef67\",\"root_ids\":[\"1342\"],\"roots\":{\"1342\":\"3f726c0d-1b8d-48da-b503-95ac70ef3761\"}}];\n",
       "  root.Bokeh.embed.embed_items_notebook(docs_json, render_items);\n",
       "\n",
       "  }\n",
       "  if (root.Bokeh !== undefined) {\n",
       "    embed_document(root);\n",
       "  } else {\n",
       "    var attempts = 0;\n",
       "    var timer = setInterval(function(root) {\n",
       "      if (root.Bokeh !== undefined) {\n",
       "        clearInterval(timer);\n",
       "        embed_document(root);\n",
       "      } else {\n",
       "        attempts++;\n",
       "        if (attempts > 100) {\n",
       "          clearInterval(timer);\n",
       "          console.log(\"Bokeh: ERROR: Unable to run BokehJS code because BokehJS library is missing\");\n",
       "        }\n",
       "      }\n",
       "    }, 10, root)\n",
       "  }\n",
       "})(window);"
      ],
      "application/vnd.bokehjs_exec.v0+json": ""
     },
     "metadata": {
      "application/vnd.bokehjs_exec.v0+json": {
       "id": "1342"
      }
     },
     "output_type": "display_data"
    }
   ],
   "source": [
    "# create a new plot with default tools, using figure\n",
    "p = figure(plot_width=500, plot_height=500)\n",
    "\n",
    "# add a circle renderer with x and y coordinates, size, color, and alpha\n",
    "p.circle([1, 2, 3, 4, 5], [6, 7, 2, 4, 5], size=15, line_color=\"red\", fill_color=\"blue\", fill_alpha=0.1, radius = 0.5)\n",
    "\n",
    "show(p) # show the results"
   ]
  },
  {
   "cell_type": "markdown",
   "metadata": {},
   "source": [
    "All Bokeh scatter markers accept `size` (measured in screen space units, or, the pixel distance from the origin of the plot) as a property. Circles, in particular, also have a `radius` (measured in \"data\" space units, which uses the mapper that is used to calculate the plot ranges based on the input data). "
   ]
  },
  {
   "cell_type": "markdown",
   "metadata": {},
   "source": [
    "<h3>\n",
    "<font color='blue'>\n",
    "Exercise\n",
    "</font>\n",
    "</h3>\n",
    "Create a simple scatter plot using the \"autompg\" dataset. You don't need to add coloring yet."
   ]
  },
  {
   "cell_type": "code",
   "execution_count": 9,
   "metadata": {},
   "outputs": [
    {
     "data": {
      "text/html": [
       "\n",
       "\n",
       "\n",
       "\n",
       "\n",
       "\n",
       "  <div class=\"bk-root\" id=\"a5237f3d-2e9c-405f-b372-60a7aab7d1ca\" data-root-id=\"1623\"></div>\n"
      ]
     },
     "metadata": {},
     "output_type": "display_data"
    },
    {
     "data": {
      "application/javascript": [
       "(function(root) {\n",
       "  function embed_document(root) {\n",
       "    \n",
       "  var docs_json = {\"275cf7fd-29fc-4f95-928c-083c1803c14b\":{\"defs\":[],\"roots\":{\"references\":[{\"attributes\":{\"below\":[{\"id\":\"1632\"}],\"center\":[{\"id\":\"1635\"},{\"id\":\"1639\"}],\"height\":400,\"left\":[{\"id\":\"1636\"}],\"renderers\":[{\"id\":\"1657\"}],\"title\":{\"id\":\"1714\"},\"toolbar\":{\"id\":\"1647\"},\"width\":500,\"x_range\":{\"id\":\"1624\"},\"x_scale\":{\"id\":\"1628\"},\"y_range\":{\"id\":\"1626\"},\"y_scale\":{\"id\":\"1630\"}},\"id\":\"1623\",\"subtype\":\"Figure\",\"type\":\"Plot\"},{\"attributes\":{\"bottom_units\":\"screen\",\"fill_alpha\":0.5,\"fill_color\":\"lightgrey\",\"left_units\":\"screen\",\"level\":\"overlay\",\"line_alpha\":1.0,\"line_color\":\"black\",\"line_dash\":[4,4],\"line_width\":2,\"right_units\":\"screen\",\"syncable\":false,\"top_units\":\"screen\"},\"id\":\"1646\",\"type\":\"BoxAnnotation\"},{\"attributes\":{},\"id\":\"1720\",\"type\":\"BasicTickFormatter\"},{\"attributes\":{\"data\":{\"x\":{\"__ndarray__\":\"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\",\"dtype\":\"float64\",\"order\":\"little\",\"shape\":[392]},\"y\":{\"__ndarray__\":\"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\",\"dtype\":\"float64\",\"order\":\"little\",\"shape\":[392]}},\"selected\":{\"id\":\"1723\"},\"selection_policy\":{\"id\":\"1724\"}},\"id\":\"1654\",\"type\":\"ColumnDataSource\"},{\"attributes\":{\"axis\":{\"id\":\"1632\"},\"ticker\":null},\"id\":\"1635\",\"type\":\"Grid\"},{\"attributes\":{},\"id\":\"1643\",\"type\":\"SaveTool\"},{\"attributes\":{\"overlay\":{\"id\":\"1646\"}},\"id\":\"1642\",\"type\":\"BoxZoomTool\"},{\"attributes\":{\"fill_alpha\":{\"value\":0.1},\"fill_color\":{\"value\":\"navy\"},\"line_alpha\":{\"value\":0.1},\"line_color\":{\"value\":\"navy\"},\"marker\":{\"value\":\"square\"},\"x\":{\"field\":\"x\"},\"y\":{\"field\":\"y\"}},\"id\":\"1656\",\"type\":\"Scatter\"},{\"attributes\":{},\"id\":\"1644\",\"type\":\"ResetTool\"},{\"attributes\":{},\"id\":\"1633\",\"type\":\"BasicTicker\"},{\"attributes\":{},\"id\":\"1624\",\"type\":\"DataRange1d\"},{\"attributes\":{\"data_source\":{\"id\":\"1654\"},\"glyph\":{\"id\":\"1655\"},\"hover_glyph\":null,\"muted_glyph\":null,\"nonselection_glyph\":{\"id\":\"1656\"},\"view\":{\"id\":\"1658\"}},\"id\":\"1657\",\"type\":\"GlyphRenderer\"},{\"attributes\":{},\"id\":\"1645\",\"type\":\"HelpTool\"},{\"attributes\":{\"source\":{\"id\":\"1654\"}},\"id\":\"1658\",\"type\":\"CDSView\"},{\"attributes\":{},\"id\":\"1717\",\"type\":\"BasicTickFormatter\"},{\"attributes\":{},\"id\":\"1714\",\"type\":\"Title\"},{\"attributes\":{},\"id\":\"1628\",\"type\":\"LinearScale\"},{\"attributes\":{},\"id\":\"1716\",\"type\":\"AllLabels\"},{\"attributes\":{\"axis\":{\"id\":\"1636\"},\"dimension\":1,\"ticker\":null},\"id\":\"1639\",\"type\":\"Grid\"},{\"attributes\":{},\"id\":\"1640\",\"type\":\"PanTool\"},{\"attributes\":{},\"id\":\"1723\",\"type\":\"Selection\"},{\"attributes\":{},\"id\":\"1641\",\"type\":\"WheelZoomTool\"},{\"attributes\":{\"active_multi\":null,\"tools\":[{\"id\":\"1640\"},{\"id\":\"1641\"},{\"id\":\"1642\"},{\"id\":\"1643\"},{\"id\":\"1644\"},{\"id\":\"1645\"}]},\"id\":\"1647\",\"type\":\"Toolbar\"},{\"attributes\":{},\"id\":\"1626\",\"type\":\"DataRange1d\"},{\"attributes\":{\"formatter\":{\"id\":\"1720\"},\"major_label_policy\":{\"id\":\"1719\"},\"ticker\":{\"id\":\"1637\"}},\"id\":\"1636\",\"type\":\"LinearAxis\"},{\"attributes\":{},\"id\":\"1630\",\"type\":\"LinearScale\"},{\"attributes\":{\"formatter\":{\"id\":\"1717\"},\"major_label_policy\":{\"id\":\"1716\"},\"ticker\":{\"id\":\"1633\"}},\"id\":\"1632\",\"type\":\"LinearAxis\"},{\"attributes\":{},\"id\":\"1719\",\"type\":\"AllLabels\"},{\"attributes\":{},\"id\":\"1637\",\"type\":\"BasicTicker\"},{\"attributes\":{},\"id\":\"1724\",\"type\":\"UnionRenderers\"},{\"attributes\":{\"fill_alpha\":{\"value\":0.5},\"fill_color\":{\"value\":\"navy\"},\"line_alpha\":{\"value\":0.5},\"line_color\":{\"value\":\"navy\"},\"marker\":{\"value\":\"square\"},\"x\":{\"field\":\"x\"},\"y\":{\"field\":\"y\"}},\"id\":\"1655\",\"type\":\"Scatter\"}],\"root_ids\":[\"1623\"]},\"title\":\"Bokeh Application\",\"version\":\"2.3.3\"}};\n",
       "  var render_items = [{\"docid\":\"275cf7fd-29fc-4f95-928c-083c1803c14b\",\"root_ids\":[\"1623\"],\"roots\":{\"1623\":\"a5237f3d-2e9c-405f-b372-60a7aab7d1ca\"}}];\n",
       "  root.Bokeh.embed.embed_items_notebook(docs_json, render_items);\n",
       "\n",
       "  }\n",
       "  if (root.Bokeh !== undefined) {\n",
       "    embed_document(root);\n",
       "  } else {\n",
       "    var attempts = 0;\n",
       "    var timer = setInterval(function(root) {\n",
       "      if (root.Bokeh !== undefined) {\n",
       "        clearInterval(timer);\n",
       "        embed_document(root);\n",
       "      } else {\n",
       "        attempts++;\n",
       "        if (attempts > 100) {\n",
       "          clearInterval(timer);\n",
       "          console.log(\"Bokeh: ERROR: Unable to run BokehJS code because BokehJS library is missing\");\n",
       "        }\n",
       "      }\n",
       "    }, 10, root)\n",
       "  }\n",
       "})(window);"
      ],
      "application/vnd.bokehjs_exec.v0+json": ""
     },
     "metadata": {
      "application/vnd.bokehjs_exec.v0+json": {
       "id": "1623"
      }
     },
     "output_type": "display_data"
    }
   ],
   "source": [
    "from bokeh.sampledata.autompg import autompg as df # run df.head() to inspect \n",
    "\n",
    "# create a new plot with a datetime axis type\n",
    "auto_plot = figure(width = 500, height = 400)\n",
    "\n",
    "# plot two releveant columns using use the square() method of Figure to scatter square markers on a plot:\n",
    "auto_plot.square(df['mpg'], df['displ'], color='navy', alpha=0.5)\n",
    "\n",
    "# show the results\n",
    "show(auto_plot)"
   ]
  },
  {
   "cell_type": "markdown",
   "metadata": {},
   "source": [
    "## Line Plots\n",
    "\n",
    "Another common visualization task is the drawing of line plots. This can be accomplished in Bokeh by calling the `p.line(...)` glyph method as shown below."
   ]
  },
  {
   "cell_type": "code",
   "execution_count": 12,
   "metadata": {},
   "outputs": [
    {
     "data": {
      "text/html": [
       "\n",
       "\n",
       "\n",
       "\n",
       "\n",
       "\n",
       "  <div class=\"bk-root\" id=\"f487f50e-1d8e-427d-842f-a9bc7bd9033e\" data-root-id=\"1947\"></div>\n"
      ]
     },
     "metadata": {},
     "output_type": "display_data"
    },
    {
     "data": {
      "application/javascript": [
       "(function(root) {\n",
       "  function embed_document(root) {\n",
       "    \n",
       "  var docs_json = {\"b61be615-3198-432d-9955-f864a5052423\":{\"defs\":[],\"roots\":{\"references\":[{\"attributes\":{\"background_fill_color\":\"Black\",\"below\":[{\"id\":\"1958\"}],\"center\":[{\"id\":\"1961\"},{\"id\":\"1965\"}],\"height\":400,\"left\":[{\"id\":\"1962\"}],\"outline_line_dash\":[2,4],\"renderers\":[{\"id\":\"1983\"}],\"title\":{\"id\":\"1948\"},\"toolbar\":{\"id\":\"1973\"},\"width\":400,\"x_range\":{\"id\":\"1950\"},\"x_scale\":{\"id\":\"1954\"},\"y_range\":{\"id\":\"1952\"},\"y_scale\":{\"id\":\"1956\"}},\"id\":\"1947\",\"subtype\":\"Figure\",\"type\":\"Plot\"},{\"attributes\":{},\"id\":\"1952\",\"type\":\"DataRange1d\"},{\"attributes\":{\"formatter\":{\"id\":\"2066\"},\"major_label_policy\":{\"id\":\"2065\"},\"ticker\":{\"id\":\"1963\"}},\"id\":\"1962\",\"type\":\"LinearAxis\"},{\"attributes\":{},\"id\":\"1954\",\"type\":\"LinearScale\"},{\"attributes\":{},\"id\":\"2066\",\"type\":\"BasicTickFormatter\"},{\"attributes\":{},\"id\":\"1963\",\"type\":\"BasicTicker\"},{\"attributes\":{},\"id\":\"1950\",\"type\":\"DataRange1d\"},{\"attributes\":{\"source\":{\"id\":\"1980\"}},\"id\":\"1984\",\"type\":\"CDSView\"},{\"attributes\":{\"axis\":{\"id\":\"1958\"},\"ticker\":null},\"id\":\"1961\",\"type\":\"Grid\"},{\"attributes\":{\"axis\":{\"id\":\"1962\"},\"dimension\":1,\"ticker\":null},\"id\":\"1965\",\"type\":\"Grid\"},{\"attributes\":{},\"id\":\"2069\",\"type\":\"Selection\"},{\"attributes\":{},\"id\":\"2062\",\"type\":\"AllLabels\"},{\"attributes\":{},\"id\":\"2070\",\"type\":\"UnionRenderers\"},{\"attributes\":{\"bottom_units\":\"screen\",\"fill_alpha\":0.5,\"fill_color\":\"lightgrey\",\"left_units\":\"screen\",\"level\":\"overlay\",\"line_alpha\":1.0,\"line_color\":\"black\",\"line_dash\":[4,4],\"line_width\":2,\"right_units\":\"screen\",\"syncable\":false,\"top_units\":\"screen\"},\"id\":\"1972\",\"type\":\"BoxAnnotation\"},{\"attributes\":{},\"id\":\"1966\",\"type\":\"PanTool\"},{\"attributes\":{\"active_multi\":null,\"tools\":[{\"id\":\"1966\"},{\"id\":\"1967\"},{\"id\":\"1968\"},{\"id\":\"1969\"},{\"id\":\"1970\"},{\"id\":\"1971\"}]},\"id\":\"1973\",\"type\":\"Toolbar\"},{\"attributes\":{},\"id\":\"1970\",\"type\":\"ResetTool\"},{\"attributes\":{},\"id\":\"1967\",\"type\":\"WheelZoomTool\"},{\"attributes\":{\"data\":{\"x\":[1,2,3,4,5],\"y\":[6,7,2,4,5]},\"selected\":{\"id\":\"2069\"},\"selection_policy\":{\"id\":\"2070\"}},\"id\":\"1980\",\"type\":\"ColumnDataSource\"},{\"attributes\":{\"overlay\":{\"id\":\"1972\"}},\"id\":\"1968\",\"type\":\"BoxZoomTool\"},{\"attributes\":{\"data_source\":{\"id\":\"1980\"},\"glyph\":{\"id\":\"1981\"},\"hover_glyph\":null,\"muted_glyph\":null,\"nonselection_glyph\":{\"id\":\"1982\"},\"view\":{\"id\":\"1984\"}},\"id\":\"1983\",\"type\":\"GlyphRenderer\"},{\"attributes\":{},\"id\":\"1956\",\"type\":\"LinearScale\"},{\"attributes\":{},\"id\":\"1969\",\"type\":\"SaveTool\"},{\"attributes\":{},\"id\":\"2063\",\"type\":\"BasicTickFormatter\"},{\"attributes\":{},\"id\":\"1959\",\"type\":\"BasicTicker\"},{\"attributes\":{\"line_alpha\":0.1,\"line_color\":\"#1f77b4\",\"line_width\":5,\"x\":{\"field\":\"x\"},\"y\":{\"field\":\"y\"}},\"id\":\"1982\",\"type\":\"Line\"},{\"attributes\":{\"text\":\"My Line Plot\"},\"id\":\"1948\",\"type\":\"Title\"},{\"attributes\":{\"line_color\":\"#1f77b4\",\"line_width\":5,\"x\":{\"field\":\"x\"},\"y\":{\"field\":\"y\"}},\"id\":\"1981\",\"type\":\"Line\"},{\"attributes\":{\"formatter\":{\"id\":\"2063\"},\"major_label_policy\":{\"id\":\"2062\"},\"ticker\":{\"id\":\"1959\"}},\"id\":\"1958\",\"type\":\"LinearAxis\"},{\"attributes\":{},\"id\":\"1971\",\"type\":\"HelpTool\"},{\"attributes\":{},\"id\":\"2065\",\"type\":\"AllLabels\"}],\"root_ids\":[\"1947\"]},\"title\":\"Bokeh Application\",\"version\":\"2.3.3\"}};\n",
       "  var render_items = [{\"docid\":\"b61be615-3198-432d-9955-f864a5052423\",\"root_ids\":[\"1947\"],\"roots\":{\"1947\":\"f487f50e-1d8e-427d-842f-a9bc7bd9033e\"}}];\n",
       "  root.Bokeh.embed.embed_items_notebook(docs_json, render_items);\n",
       "\n",
       "  }\n",
       "  if (root.Bokeh !== undefined) {\n",
       "    embed_document(root);\n",
       "  } else {\n",
       "    var attempts = 0;\n",
       "    var timer = setInterval(function(root) {\n",
       "      if (root.Bokeh !== undefined) {\n",
       "        clearInterval(timer);\n",
       "        embed_document(root);\n",
       "      } else {\n",
       "        attempts++;\n",
       "        if (attempts > 100) {\n",
       "          clearInterval(timer);\n",
       "          console.log(\"Bokeh: ERROR: Unable to run BokehJS code because BokehJS library is missing\");\n",
       "        }\n",
       "      }\n",
       "    }, 10, root)\n",
       "  }\n",
       "})(window);"
      ],
      "application/vnd.bokehjs_exec.v0+json": ""
     },
     "metadata": {
      "application/vnd.bokehjs_exec.v0+json": {
       "id": "1947"
      }
     },
     "output_type": "display_data"
    }
   ],
   "source": [
    "# create a new plot (with a title) using figure, set background to black and outline dash to dotted line\n",
    "p = figure(plot_width=400, plot_height=400, title=\"My Line Plot\", background_fill_color = 'Black', outline_line_dash = 'dotted')\n",
    "\n",
    "# add a line renderer\n",
    "p.line([1, 2, 3, 4, 5], [6, 7, 2, 4, 5], line_width=5)\n",
    "\n",
    "show(p) # show the results"
   ]
  },
  {
   "cell_type": "markdown",
   "metadata": {},
   "source": [
    "In addition to `line_width`, there are other options such as `line_color` or `line_dash` that can be set. Try setting some of the [other properties of line](https://bokeh.pydata.org/en/latest/docs/reference/plotting.html#bokeh.plotting.figure.Figure.line) and re-running the cell above."
   ]
  },
  {
   "cell_type": "markdown",
   "metadata": {},
   "source": [
    "### Datetime axes\n",
    "\n",
    "It's often the case that time series data is represented by drawing lines. Let's look at an example using the \"glucose\" data set, which is available in a Pandas dataframe:"
   ]
  },
  {
   "cell_type": "code",
   "execution_count": 13,
   "metadata": {},
   "outputs": [
    {
     "data": {
      "text/html": [
       "<div>\n",
       "<style scoped>\n",
       "    .dataframe tbody tr th:only-of-type {\n",
       "        vertical-align: middle;\n",
       "    }\n",
       "\n",
       "    .dataframe tbody tr th {\n",
       "        vertical-align: top;\n",
       "    }\n",
       "\n",
       "    .dataframe thead th {\n",
       "        text-align: right;\n",
       "    }\n",
       "</style>\n",
       "<table border=\"1\" class=\"dataframe\">\n",
       "  <thead>\n",
       "    <tr style=\"text-align: right;\">\n",
       "      <th></th>\n",
       "      <th>isig</th>\n",
       "      <th>glucose</th>\n",
       "    </tr>\n",
       "    <tr>\n",
       "      <th>datetime</th>\n",
       "      <th></th>\n",
       "      <th></th>\n",
       "    </tr>\n",
       "  </thead>\n",
       "  <tbody>\n",
       "    <tr>\n",
       "      <th>2010-03-24 09:51:00</th>\n",
       "      <td>22.59</td>\n",
       "      <td>258</td>\n",
       "    </tr>\n",
       "    <tr>\n",
       "      <th>2010-03-24 09:56:00</th>\n",
       "      <td>22.52</td>\n",
       "      <td>260</td>\n",
       "    </tr>\n",
       "    <tr>\n",
       "      <th>2010-03-24 10:01:00</th>\n",
       "      <td>22.23</td>\n",
       "      <td>258</td>\n",
       "    </tr>\n",
       "    <tr>\n",
       "      <th>2010-03-24 10:06:00</th>\n",
       "      <td>21.56</td>\n",
       "      <td>254</td>\n",
       "    </tr>\n",
       "    <tr>\n",
       "      <th>2010-03-24 10:11:00</th>\n",
       "      <td>20.79</td>\n",
       "      <td>246</td>\n",
       "    </tr>\n",
       "  </tbody>\n",
       "</table>\n",
       "</div>"
      ],
      "text/plain": [
       "                      isig  glucose\n",
       "datetime                           \n",
       "2010-03-24 09:51:00  22.59      258\n",
       "2010-03-24 09:56:00  22.52      260\n",
       "2010-03-24 10:01:00  22.23      258\n",
       "2010-03-24 10:06:00  21.56      254\n",
       "2010-03-24 10:11:00  20.79      246"
      ]
     },
     "execution_count": 13,
     "metadata": {},
     "output_type": "execute_result"
    }
   ],
   "source": [
    "from bokeh.sampledata.glucose import data\n",
    "data.head()"
   ]
  },
  {
   "cell_type": "markdown",
   "metadata": {},
   "source": [
    "We'd like to plot a subset of this data, and have a nice datetime axis as well. We can ask Bokeh for a datetime axis by passing `x_axis_type=\"datetime\"` to the call to `figure`. This is shown below, as well as configuration of a some other options such as plot dimensions, axis titles, and grid line properties. "
   ]
  },
  {
   "cell_type": "code",
   "execution_count": 18,
   "metadata": {},
   "outputs": [
    {
     "name": "stdout",
     "output_type": "stream",
     "text": [
      "DatetimeIndex(['2010-10-01 00:04:00', '2010-10-01 00:09:00',\n",
      "               '2010-10-01 00:14:00', '2010-10-01 00:19:00',\n",
      "               '2010-10-01 00:24:00', '2010-10-01 00:29:00',\n",
      "               '2010-10-01 00:34:00', '2010-10-01 00:39:00',\n",
      "               '2010-10-01 00:44:00', '2010-10-01 00:49:00',\n",
      "               ...\n",
      "               '2010-10-08 23:12:00', '2010-10-08 23:17:00',\n",
      "               '2010-10-08 23:22:00', '2010-10-08 23:27:00',\n",
      "               '2010-10-08 23:32:00', '2010-10-08 23:37:00',\n",
      "               '2010-10-08 23:42:00', '2010-10-08 23:47:00',\n",
      "               '2010-10-08 23:52:00', '2010-10-08 23:57:00'],\n",
      "              dtype='datetime64[ns]', name='datetime', length=2217, freq=None)\n",
      "datetime\n",
      "2010-10-01 00:04:00     92\n",
      "2010-10-01 00:09:00    100\n",
      "2010-10-01 00:14:00    108\n",
      "2010-10-01 00:19:00    115\n",
      "2010-10-01 00:24:00    120\n",
      "                      ... \n",
      "2010-10-08 23:37:00     99\n",
      "2010-10-08 23:42:00     99\n",
      "2010-10-08 23:47:00     98\n",
      "2010-10-08 23:52:00     97\n",
      "2010-10-08 23:57:00     97\n",
      "Name: glucose, Length: 2217, dtype: int64\n"
     ]
    },
    {
     "data": {
      "text/html": [
       "\n",
       "\n",
       "\n",
       "\n",
       "\n",
       "\n",
       "  <div class=\"bk-root\" id=\"032244c9-0f0c-4d46-87db-518a446a1657\" data-root-id=\"3214\"></div>\n"
      ]
     },
     "metadata": {},
     "output_type": "display_data"
    },
    {
     "data": {
      "application/javascript": [
       "(function(root) {\n",
       "  function embed_document(root) {\n",
       "    \n",
       "  var docs_json = {\"ec23ac04-3f33-4cfc-adc9-80ffd2c1ad56\":{\"defs\":[],\"roots\":{\"references\":[{\"attributes\":{\"below\":[{\"id\":\"3225\"}],\"center\":[{\"id\":\"3228\"},{\"id\":\"3232\"}],\"height\":350,\"left\":[{\"id\":\"3229\"}],\"renderers\":[{\"id\":\"3250\"}],\"title\":{\"id\":\"3215\"},\"toolbar\":{\"id\":\"3240\"},\"width\":800,\"x_range\":{\"id\":\"3217\"},\"x_scale\":{\"id\":\"3221\"},\"y_range\":{\"id\":\"3219\"},\"y_scale\":{\"id\":\"3223\"}},\"id\":\"3214\",\"subtype\":\"Figure\",\"type\":\"Plot\"},{\"attributes\":{},\"id\":\"3233\",\"type\":\"PanTool\"},{\"attributes\":{\"base\":24,\"mantissas\":[1,2,4,6,8,12],\"max_interval\":43200000.0,\"min_interval\":3600000.0,\"num_minor_ticks\":0},\"id\":\"3447\",\"type\":\"AdaptiveTicker\"},{\"attributes\":{},\"id\":\"3459\",\"type\":\"Selection\"},{\"attributes\":{\"num_minor_ticks\":5,\"tickers\":[{\"id\":\"3445\"},{\"id\":\"3446\"},{\"id\":\"3447\"},{\"id\":\"3448\"},{\"id\":\"3449\"},{\"id\":\"3450\"},{\"id\":\"3451\"},{\"id\":\"3452\"},{\"id\":\"3453\"},{\"id\":\"3454\"},{\"id\":\"3455\"},{\"id\":\"3456\"}]},\"id\":\"3226\",\"type\":\"DatetimeTicker\"},{\"attributes\":{},\"id\":\"3237\",\"type\":\"ResetTool\"},{\"attributes\":{},\"id\":\"3219\",\"type\":\"DataRange1d\"},{\"attributes\":{},\"id\":\"3234\",\"type\":\"WheelZoomTool\"},{\"attributes\":{\"overlay\":{\"id\":\"3239\"}},\"id\":\"3235\",\"type\":\"BoxZoomTool\"},{\"attributes\":{},\"id\":\"3441\",\"type\":\"BasicTickFormatter\"},{\"attributes\":{},\"id\":\"3236\",\"type\":\"SaveTool\"},{\"attributes\":{},\"id\":\"3458\",\"type\":\"UnionRenderers\"},{\"attributes\":{},\"id\":\"3221\",\"type\":\"LinearScale\"},{\"attributes\":{},\"id\":\"3443\",\"type\":\"AllLabels\"},{\"attributes\":{\"axis_label\":\"Time\",\"formatter\":{\"id\":\"3444\"},\"major_label_policy\":{\"id\":\"3443\"},\"ticker\":{\"id\":\"3226\"}},\"id\":\"3225\",\"type\":\"DatetimeAxis\"},{\"attributes\":{},\"id\":\"3238\",\"type\":\"HelpTool\"},{\"attributes\":{\"source\":{\"id\":\"3247\"}},\"id\":\"3251\",\"type\":\"CDSView\"},{\"attributes\":{},\"id\":\"3223\",\"type\":\"LinearScale\"},{\"attributes\":{\"months\":[0,2,4,6,8,10]},\"id\":\"3453\",\"type\":\"MonthsTicker\"},{\"attributes\":{},\"id\":\"3440\",\"type\":\"AllLabels\"},{\"attributes\":{\"mantissas\":[1,2,5],\"max_interval\":500.0,\"num_minor_ticks\":0},\"id\":\"3445\",\"type\":\"AdaptiveTicker\"},{\"attributes\":{\"data_source\":{\"id\":\"3247\"},\"glyph\":{\"id\":\"3248\"},\"hover_glyph\":null,\"muted_glyph\":null,\"nonselection_glyph\":{\"id\":\"3249\"},\"view\":{\"id\":\"3251\"}},\"id\":\"3250\",\"type\":\"GlyphRenderer\"},{\"attributes\":{\"line_color\":\"#1f77b4\",\"x\":{\"field\":\"x\"},\"y\":{\"field\":\"y\"}},\"id\":\"3248\",\"type\":\"Line\"},{\"attributes\":{\"days\":[1,15]},\"id\":\"3451\",\"type\":\"DaysTicker\"},{\"attributes\":{\"axis\":{\"id\":\"3225\"},\"grid_line_color\":null,\"ticker\":null},\"id\":\"3228\",\"type\":\"Grid\"},{\"attributes\":{\"days\":[1,4,7,10,13,16,19,22,25,28]},\"id\":\"3449\",\"type\":\"DaysTicker\"},{\"attributes\":{\"axis_label\":\"Value\",\"formatter\":{\"id\":\"3441\"},\"major_label_policy\":{\"id\":\"3440\"},\"ticker\":{\"id\":\"3230\"}},\"id\":\"3229\",\"type\":\"LinearAxis\"},{\"attributes\":{},\"id\":\"3230\",\"type\":\"BasicTicker\"},{\"attributes\":{},\"id\":\"3444\",\"type\":\"DatetimeTickFormatter\"},{\"attributes\":{\"line_alpha\":0.1,\"line_color\":\"#1f77b4\",\"x\":{\"field\":\"x\"},\"y\":{\"field\":\"y\"}},\"id\":\"3249\",\"type\":\"Line\"},{\"attributes\":{\"days\":[1,8,15,22]},\"id\":\"3450\",\"type\":\"DaysTicker\"},{\"attributes\":{\"months\":[0,1,2,3,4,5,6,7,8,9,10,11]},\"id\":\"3452\",\"type\":\"MonthsTicker\"},{\"attributes\":{\"months\":[0,4,8]},\"id\":\"3454\",\"type\":\"MonthsTicker\"},{\"attributes\":{\"bottom_units\":\"screen\",\"fill_alpha\":0.5,\"fill_color\":\"lightgrey\",\"left_units\":\"screen\",\"level\":\"overlay\",\"line_alpha\":1.0,\"line_color\":\"black\",\"line_dash\":[4,4],\"line_width\":2,\"right_units\":\"screen\",\"syncable\":false,\"top_units\":\"screen\"},\"id\":\"3239\",\"type\":\"BoxAnnotation\"},{\"attributes\":{\"axis\":{\"id\":\"3229\"},\"dimension\":1,\"grid_line_alpha\":0.5,\"ticker\":null},\"id\":\"3232\",\"type\":\"Grid\"},{\"attributes\":{\"text\":\"Glucose Range\"},\"id\":\"3215\",\"type\":\"Title\"},{\"attributes\":{\"data\":{\"x\":{\"__ndarray__\":\"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\",\"dtype\":\"float64\",\"order\":\"little\",\"shape\":[2217]},\"y\":[92,100,108,115,120,124,128,133,137,142,147,152,157,162,167,171,175,179,185,192,200,207,212,215,217,219,218,219,217,216,216,216,215,214,212,211,209,207,204,203,203,203,203,204,203,202,201,200,199,199,197,193,189,185,182,182,183,184,184,182,177,174,172,170,168,167,166,164,162,160,158,155,152,150,147,140,131,124,120,116,114,114,116,118,119,120,120,120,119,117,114,112,112,111,111,112,111,111,110,108,106,106,106,106,104,101,101,103,102,100,99,100,100,99,99,99,100,99,98,97,97,96,92,90,89,86,85,85,84,84,81,80,81,86,99,115,125,130,129,128,123,118,113,111,112,111,109,108,105,101,100,102,107,113,119,125,129,131,129,128,127,127,127,125,122,117,113,108,103,98,93,89,86,85,83,82,81,82,84,87,92,99,107,121,133,142,146,149,150,151,151,152,152,150,148,161,160,158,157,157,157,156,153,149,147,145,144,145,149,154,159,163,164,164,164,163,162,158,154,153,154,155,157,159,158,156,152,148,144,139,134,128,123,121,119,117,115,115,112,109,106,105,103,101,97,93,89,86,85,88,93,100,106,113,119,125,131,137,142,149,159,172,186,197,204,207,208,207,205,202,199,197,193,185,176,178,177,177,176,173,171,170,169,167,166,165,163,163,162,160,156,150,150,150,151,150,150,150,149,149,148,149,147,145,143,139,141,145,147,147,146,145,141,138,136,135,134,133,132,129,124,120,118,112,114,119,123,125,126,127,128,135,143,148,151,153,154,155,156,156,157,157,156,155,154,147,137,131,128,129,131,132,133,135,135,133,131,132,135,138,139,138,136,132,128,126,125,120,113,108,106,105,108,111,113,116,120,120,120,119,118,118,118,118,117,116,113,106,98,93,97,107,115,122,120,113,102,94,95,96,90,88,83,83,85,90,97,98,99,94,89,95,105,111,113,106,95,90,91,96,101,104,109,112,120,123,118,115,123,130,128,130,136,131,121,113,110,108,109,111,115,120,115,108,105,105,104,106,110,111,115,115,117,114,111,107,105,109,111,110,111,115,121,126,135,142,145,147,150,153,156,160,162,161,160,160,159,157,154,152,152,150,143,138,132,128,124,119,112,105,98,92,94,98,106,118,126,128,127,123,123,121,118,115,112,112,114,113,105,78,209,204,214,252,282,290,295,292,284,268,263,262,263,263,262,258,249,236,179,165,157,152,150,149,150,154,158,163,166,166,163,159,158,161,170,176,178,174,170,166,160,156,151,148,147,145,142,141,145,144,144,153,155,152,147,143,145,152,156,157,156,155,155,156,158,158,158,156,152,146,139,139,141,143,145,147,148,149,149,149,148,147,144,140,139,139,138,137,136,135,134,133,134,136,137,136,134,135,139,142,143,141,138,141,145,148,151,152,154,156,155,155,159,163,166,166,166,164,162,160,158,157,155,153,150,150,149,149,149,149,150,152,154,155,155,156,156,157,160,163,165,165,164,163,121,119,117,114,113,112,113,113,113,113,112,113,113,113,114,112,110,109,109,109,108,108,90,90,94,99,107,116,125,130,132,130,124,117,110,103,95,88,81,77,75,63,65,70,73,78,80,80,79,80,83,86,89,94,96,98,104,105,106,106,107,107,109,114,118,121,123,124,123,122,122,123,123,123,124,123,123,124,127,132,137,139,140,140,142,147,152,156,160,165,168,169,169,165,162,160,158,156,154,150,146,144,141,138,136,133,129,124,118,112,107,106,107,108,109,110,111,112,112,113,114,115,116,117,118,119,122,125,128,130,130,131,130,128,126,123,120,116,93,89,86,84,82,79,76,74,72,71,69,70,68,67,66,67,68,69,69,69,68,68,67,66,65,64,63,61,61,60,60,61,63,64,64,64,63,64,65,66,67,67,66,66,67,68,69,71,73,72,71,70,71,72,74,75,76,78,79,80,81,82,84,86,88,88,87,86,85,86,86,86,86,87,87,88,88,88,89,87,83,79,78,82,85,87,88,89,89,89,87,86,88,89,90,89,90,92,91,90,89,88,87,87,89,90,91,92,94,108,110,110,111,111,111,112,113,114,116,116,116,117,119,121,124,127,131,138,145,150,155,161,165,169,173,177,182,185,185,184,189,193,195,198,198,197,196,196,199,202,202,201,202,204,205,205,203,202,201,197,197,198,199,200,199,195,190,184,180,178,179,180,179,176,175,174,172,169,168,167,170,180,191,203,214,219,219,222,227,228,226,223,221,219,219,218,218,219,218,216,214,214,211,208,207,206,206,205,202,199,193,190,187,182,179,176,173,170,167,163,158,152,146,141,135,129,122,114,108,102,97,90,85,81,77,73,68,65,62,61,61,61,61,61,60,59,59,60,61,64,69,75,82,92,104,117,128,137,144,149,153,156,160,164,169,175,180,184,188,191,193,195,196,200,203,207,212,218,223,228,231,234,235,236,327,327,330,333,328,321,316,308,298,287,274,263,255,249,243,239,234,230,225,220,215,210,206,204,204,199,195,190,185,181,177,175,173,171,170,169,169,168,167,166,166,166,163,161,159,158,157,156,154,152,150,149,149,150,150,151,151,152,153,153,153,154,154,154,154,153,152,152,150,149,148,146,145,144,144,143,142,142,141,140,139,137,137,138,136,137,137,136,137,136,134,133,132,132,132,132,132,134,136,138,141,142,142,143,145,150,154,156,158,160,162,164,167,169,172,175,176,175,174,172,170,171,173,178,185,191,198,210,223,235,244,254,265,273,283,290,296,302,307,309,313,316,318,320,322,320,319,317,313,311,306,300,297,294,293,290,287,286,285,282,279,274,271,270,270,269,274,271,267,264,262,259,255,250,244,237,232,227,223,220,215,210,205,199,195,193,197,206,221,239,258,276,291,302,311,318,323,324,322,320,319,320,319,317,314,311,307,302,294,286,280,276,272,267,259,251,245,241,241,241,242,244,245,245,242,237,232,228,225,216,215,216,217,217,215,211,206,202,200,201,203,201,196,188,176,163,149,138,129,119,108,98,89,79,71,66,66,67,67,68,69,71,74,77,79,81,85,91,99,109,119,132,145,157,168,175,179,183,185,188,188,187,184,179,172,163,159,157,155,153,151,149,148,148,148,147,146,145,145,144,143,143,143,144,145,146,145,144,143,142,140,140,140,140,140,143,147,150,152,152,152,154,155,142,140,138,134,131,130,128,127,126,126,126,126,127,129,131,132,134,136,136,136,136,135,134,132,130,130,130,129,128,127,125,124,123,123,122,121,120,118,115,112,111,111,110,110,109,108,107,107,107,108,107,105,105,105,105,104,103,102,99,97,96,94,94,93,93,92,91,92,94,95,96,97,99,102,104,112,112,112,111,110,107,104,105,105,103,99,96,94,95,102,114,128,144,160,173,185,196,205,209,214,219,226,234,241,248,255,260,265,268,270,272,271,271,268,265,261,256,253,250,246,244,241,237,233,229,225,222,204,200,197,193,190,186,182,179,175,171,168,164,158,154,151,148,145,141,133,139,152,173,196,217,233,244,249,250,253,256,260,263,265,265,264,260,254,246,234,217,200,188,181,175,169,164,159,154,147,138,132,129,127,123,117,111,106,104,103,100,94,88,83,78,75,73,71,69,68,67,67,68,70,71,71,70,69,68,67,67,67,66,67,69,71,74,76,78,80,80,80,80,80,80,82,84,87,90,92,87,87,86,86,86,86,87,87,87,85,83,82,83,87,95,107,118,130,141,149,172,179,187,201,214,221,225,230,232,230,223,216,208,199,191,185,181,177,176,177,176,173,171,169,163,154,152,153,154,154,153,151,150,150,150,152,149,147,148,150,152,152,152,151,151,150,149,147,146,143,140,138,136,137,138,140,138,135,132,130,129,129,129,130,130,129,128,128,128,129,129,128,127,126,125,125,125,125,124,124,121,120,120,123,124,123,122,120,115,113,114,114,115,116,115,112,111,111,109,108,107,107,110,113,114,115,115,115,114,113,113,116,119,120,121,121,122,123,124,125,126,126,126,126,126,127,127,125,122,118,115,111,112,115,117,120,124,127,131,137,143,148,153,159,166,172,178,184,191,199,206,212,217,223,229,232,233,235,237,240,241,243,246,247,246,243,240,234,229,225,221,217,216,215,215,215,212,208,203,199,196,194,190,185,180,177,163,158,152,149,153,163,174,182,188,192,195,197,201,204,205,203,199,195,189,184,176,169,162,150,138,128,119,110,100,90,80,73,68,64,63,63,66,68,70,71,72,74,80,94,116,141,164,183,198,210,220,228,233,237,241,247,252,256,260,259,258,256,251,245,238,234,227,221,215,208,207,207,203,201,201,199,179,176,171,163,152,137,119,98,77,61,50,45,47,59,71,86,99,109,116,117,115,111,107,102,96,91,90,94,97,97,95,92,87,84,84,83,84,86,86,86,84,82,82,81,81,82,84,87,89,91,92,94,93,93,94,96,100,101,99,97,96,96,97,97,98,99,101,102,106,114,121,127,130,124,105,109,119,127,129,132,129,126,126,126,126,126,125,124,125,130,130,128,126,126,126,126,126,126,126,127,128,129,129,127,128,136,141,143,141,138,131,129,133,134,130,129,134,137,139,138,130,122,118,115,114,113,113,112,112,117,118,117,118,118,117,117,114,112,115,118,124,126,119,121,122,274,285,293,297,298,298,296,293,289,282,275,267,256,249,242,233,225,217,217,215,203,190,185,193,202,202,194,182,170,143,130,120,110,102,93,80,67,57,52,50,49,49,54,72,93,104,114,125,134,140,145,145,141,136,130,124,118,116,114,112,108,105,102,99,95,91,88,85,83,82,80,79,79,83,86,87,88,89,89,88,88,90,92,88,86,86,86,84,82,84,88,90,94,99,104,107,107,105,104,103,95,94,93,93,93,93,93,94,99,109,122,172,169,164,156,147,137,126,115,104,99,99,103,106,111,115,117,118,120,120,120,120,119,119,118,118,117,116,115,115,116,116,115,115,114,112,109,110,111,111,110,109,109,109,108,107,106,105,101,100,99,99,98,97,97]},\"selected\":{\"id\":\"3459\"},\"selection_policy\":{\"id\":\"3458\"}},\"id\":\"3247\",\"type\":\"ColumnDataSource\"},{\"attributes\":{\"base\":60,\"mantissas\":[1,2,5,10,15,20,30],\"max_interval\":1800000.0,\"min_interval\":1000.0,\"num_minor_ticks\":0},\"id\":\"3446\",\"type\":\"AdaptiveTicker\"},{\"attributes\":{\"months\":[0,6]},\"id\":\"3455\",\"type\":\"MonthsTicker\"},{\"attributes\":{},\"id\":\"3217\",\"type\":\"DataRange1d\"},{\"attributes\":{\"days\":[1,2,3,4,5,6,7,8,9,10,11,12,13,14,15,16,17,18,19,20,21,22,23,24,25,26,27,28,29,30,31]},\"id\":\"3448\",\"type\":\"DaysTicker\"},{\"attributes\":{\"active_multi\":null,\"tools\":[{\"id\":\"3233\"},{\"id\":\"3234\"},{\"id\":\"3235\"},{\"id\":\"3236\"},{\"id\":\"3237\"},{\"id\":\"3238\"}]},\"id\":\"3240\",\"type\":\"Toolbar\"},{\"attributes\":{},\"id\":\"3456\",\"type\":\"YearsTicker\"}],\"root_ids\":[\"3214\"]},\"title\":\"Bokeh Application\",\"version\":\"2.3.3\"}};\n",
       "  var render_items = [{\"docid\":\"ec23ac04-3f33-4cfc-adc9-80ffd2c1ad56\",\"root_ids\":[\"3214\"],\"roots\":{\"3214\":\"032244c9-0f0c-4d46-87db-518a446a1657\"}}];\n",
       "  root.Bokeh.embed.embed_items_notebook(docs_json, render_items);\n",
       "\n",
       "  }\n",
       "  if (root.Bokeh !== undefined) {\n",
       "    embed_document(root);\n",
       "  } else {\n",
       "    var attempts = 0;\n",
       "    var timer = setInterval(function(root) {\n",
       "      if (root.Bokeh !== undefined) {\n",
       "        clearInterval(timer);\n",
       "        embed_document(root);\n",
       "      } else {\n",
       "        attempts++;\n",
       "        if (attempts > 100) {\n",
       "          clearInterval(timer);\n",
       "          console.log(\"Bokeh: ERROR: Unable to run BokehJS code because BokehJS library is missing\");\n",
       "        }\n",
       "      }\n",
       "    }, 10, root)\n",
       "  }\n",
       "})(window);"
      ],
      "application/vnd.bokehjs_exec.v0+json": ""
     },
     "metadata": {
      "application/vnd.bokehjs_exec.v0+json": {
       "id": "3214"
      }
     },
     "output_type": "display_data"
    }
   ],
   "source": [
    "# reduce data size to one week\n",
    "week = data.loc['2010-10-01':'2010-10-08']\n",
    "\n",
    "p = figure(x_axis_type=\"datetime\", title=\"Glucose Range\", plot_height=350, plot_width=800)\n",
    "p.xgrid.grid_line_color=None\n",
    "p.ygrid.grid_line_alpha=0.5\n",
    "p.xaxis.axis_label = 'Time'\n",
    "p.yaxis.axis_label = 'Value'\n",
    "\n",
    "p.line(week.index, week.glucose)\n",
    "\n",
    "show(p)"
   ]
  },
  {
   "cell_type": "markdown",
   "metadata": {},
   "source": [
    "<h3>\n",
    "<font color='blue'>\n",
    "Exercise\n",
    "</font>\n",
    "</h3>\n",
    "\n",
    "Look at the AAPL data from bokeh.sampledata.stocks and create a line plot using it. Plot the dates and one of the elements in the data. The dates are already transformed to datetimes, see below. "
   ]
  },
  {
   "cell_type": "code",
   "execution_count": 17,
   "metadata": {},
   "outputs": [
    {
     "data": {
      "text/plain": [
       "array(['2000-03-01', '2000-03-02', '2000-03-03', ..., '2013-02-27',\n",
       "       '2013-02-28', '2013-03-01'], dtype='datetime64[D]')"
      ]
     },
     "metadata": {},
     "output_type": "display_data"
    }
   ],
   "source": [
    "from bokeh.sampledata.stocks import AAPL\n",
    "\n",
    "# AAPL is list of strings, convert date strings to real datetimes\n",
    "dates = np.array(AAPL['date'], dtype = np.datetime64) \n",
    "\n",
    "display(dates)\n",
    "\n"
   ]
  },
  {
   "cell_type": "code",
   "execution_count": 18,
   "metadata": {},
   "outputs": [
    {
     "data": {
      "text/html": [
       "\n",
       "\n",
       "\n",
       "\n",
       "\n",
       "\n",
       "  <div class=\"bk-root\" id=\"ddc91d7c-8e8a-4976-b1fe-00fba70dbed3\" data-root-id=\"2121\"></div>\n"
      ]
     },
     "metadata": {},
     "output_type": "display_data"
    },
    {
     "data": {
      "application/javascript": [
       "(function(root) {\n",
       "  function embed_document(root) {\n",
       "    \n",
       "  var docs_json = {\"cc421938-6ab0-4626-849e-3876b63858b3\":{\"defs\":[],\"roots\":{\"references\":[{\"attributes\":{\"below\":[{\"id\":\"2132\"}],\"center\":[{\"id\":\"2135\"},{\"id\":\"2139\"}],\"height\":350,\"left\":[{\"id\":\"2136\"}],\"renderers\":[{\"id\":\"2157\"}],\"title\":{\"id\":\"2122\"},\"toolbar\":{\"id\":\"2147\"},\"width\":800,\"x_range\":{\"id\":\"2124\"},\"x_scale\":{\"id\":\"2128\"},\"y_range\":{\"id\":\"2126\"},\"y_scale\":{\"id\":\"2130\"}},\"id\":\"2121\",\"subtype\":\"Figure\",\"type\":\"Plot\"},{\"attributes\":{\"num_minor_ticks\":5,\"tickers\":[{\"id\":\"2253\"},{\"id\":\"2254\"},{\"id\":\"2255\"},{\"id\":\"2256\"},{\"id\":\"2257\"},{\"id\":\"2258\"},{\"id\":\"2259\"},{\"id\":\"2260\"},{\"id\":\"2261\"},{\"id\":\"2262\"},{\"id\":\"2263\"},{\"id\":\"2264\"}]},\"id\":\"2133\",\"type\":\"DatetimeTicker\"},{\"attributes\":{\"line_alpha\":0.1,\"line_color\":\"#1f77b4\",\"x\":{\"field\":\"x\"},\"y\":{\"field\":\"y\"}},\"id\":\"2156\",\"type\":\"Line\"},{\"attributes\":{},\"id\":\"2126\",\"type\":\"DataRange1d\"},{\"attributes\":{\"bottom_units\":\"screen\",\"fill_alpha\":0.5,\"fill_color\":\"lightgrey\",\"left_units\":\"screen\",\"level\":\"overlay\",\"line_alpha\":1.0,\"line_color\":\"black\",\"line_dash\":[4,4],\"line_width\":2,\"right_units\":\"screen\",\"syncable\":false,\"top_units\":\"screen\"},\"id\":\"2146\",\"type\":\"BoxAnnotation\"},{\"attributes\":{},\"id\":\"2144\",\"type\":\"ResetTool\"},{\"attributes\":{\"mantissas\":[1,2,5],\"max_interval\":500.0,\"num_minor_ticks\":0},\"id\":\"2253\",\"type\":\"AdaptiveTicker\"},{\"attributes\":{\"days\":[1,2,3,4,5,6,7,8,9,10,11,12,13,14,15,16,17,18,19,20,21,22,23,24,25,26,27,28,29,30,31]},\"id\":\"2256\",\"type\":\"DaysTicker\"},{\"attributes\":{\"base\":24,\"mantissas\":[1,2,4,6,8,12],\"max_interval\":43200000.0,\"min_interval\":3600000.0,\"num_minor_ticks\":0},\"id\":\"2255\",\"type\":\"AdaptiveTicker\"},{\"attributes\":{\"text\":\"Volumes\"},\"id\":\"2122\",\"type\":\"Title\"},{\"attributes\":{\"overlay\":{\"id\":\"2146\"}},\"id\":\"2142\",\"type\":\"BoxZoomTool\"},{\"attributes\":{\"line_color\":\"#1f77b4\",\"x\":{\"field\":\"x\"},\"y\":{\"field\":\"y\"}},\"id\":\"2155\",\"type\":\"Line\"},{\"attributes\":{},\"id\":\"2140\",\"type\":\"PanTool\"},{\"attributes\":{\"base\":60,\"mantissas\":[1,2,5,10,15,20,30],\"max_interval\":1800000.0,\"min_interval\":1000.0,\"num_minor_ticks\":0},\"id\":\"2254\",\"type\":\"AdaptiveTicker\"},{\"attributes\":{\"days\":[1,15]},\"id\":\"2259\",\"type\":\"DaysTicker\"},{\"attributes\":{},\"id\":\"2124\",\"type\":\"DataRange1d\"},{\"attributes\":{},\"id\":\"2143\",\"type\":\"SaveTool\"},{\"attributes\":{},\"id\":\"2128\",\"type\":\"LinearScale\"},{\"attributes\":{},\"id\":\"2141\",\"type\":\"WheelZoomTool\"},{\"attributes\":{\"source\":{\"id\":\"2154\"}},\"id\":\"2158\",\"type\":\"CDSView\"},{\"attributes\":{},\"id\":\"2250\",\"type\":\"BasicTickFormatter\"},{\"attributes\":{\"months\":[0,1,2,3,4,5,6,7,8,9,10,11]},\"id\":\"2260\",\"type\":\"MonthsTicker\"},{\"attributes\":{\"axis_label\":\"Time\",\"formatter\":{\"id\":\"2247\"},\"major_label_policy\":{\"id\":\"2246\"},\"ticker\":{\"id\":\"2133\"}},\"id\":\"2132\",\"type\":\"DatetimeAxis\"},{\"attributes\":{},\"id\":\"2145\",\"type\":\"HelpTool\"},{\"attributes\":{},\"id\":\"2130\",\"type\":\"LinearScale\"},{\"attributes\":{},\"id\":\"2249\",\"type\":\"AllLabels\"},{\"attributes\":{\"days\":[1,8,15,22]},\"id\":\"2258\",\"type\":\"DaysTicker\"},{\"attributes\":{\"months\":[0,2,4,6,8,10]},\"id\":\"2261\",\"type\":\"MonthsTicker\"},{\"attributes\":{},\"id\":\"2265\",\"type\":\"Selection\"},{\"attributes\":{},\"id\":\"2264\",\"type\":\"YearsTicker\"},{\"attributes\":{},\"id\":\"2266\",\"type\":\"UnionRenderers\"},{\"attributes\":{\"axis_label\":\"Volume\",\"formatter\":{\"id\":\"2250\"},\"major_label_policy\":{\"id\":\"2249\"},\"ticker\":{\"id\":\"2137\"}},\"id\":\"2136\",\"type\":\"LinearAxis\"},{\"attributes\":{\"data_source\":{\"id\":\"2154\"},\"glyph\":{\"id\":\"2155\"},\"hover_glyph\":null,\"muted_glyph\":null,\"nonselection_glyph\":{\"id\":\"2156\"},\"view\":{\"id\":\"2158\"}},\"id\":\"2157\",\"type\":\"GlyphRenderer\"},{\"attributes\":{\"days\":[1,4,7,10,13,16,19,22,25,28]},\"id\":\"2257\",\"type\":\"DaysTicker\"},{\"attributes\":{\"data\":{\"x\":{\"__ndarray__\":\"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\",\"dtype\":\"float64\",\"order\":\"little\",\"shape\":[3270]},\"y\":[38478000,11136800,11565200,7520000,9767600,9690800,9884400,8900800,10864400,15321200,15845200,13516800,10902400,7316400,18729200,20288800,20098000,15962000,9976800,7253600,8568800,14800000,14457600,11742400,23596400,16359200,9290800,8668800,7592400,19368000,33618800,18923600,23845600,14642400,13962400,18586400,25806800,15845600,14002400,13117600,11678000,8932400,8100000,8446400,17500000,14284400,10160000,6605600,11685600,19127600,17852400,10962000,24252000,15736400,14227600,13365600,26459200,26995200,18488000,24248000,14530800,6486400,25481200,15483600,32280000,28336400,11582000,18771200,12056800,8540800,9020000,10374400,12570000,9925200,8898800,10842400,14089200,17922000,17500000,16706200,7320400,6631000,7270600,10235000,7281200,11550000,2535000,9478800,11063800,9422600,14211000,12783200,8057600,15925600,6804400,9289000,11378200,16359600,16631800,7013200,14720600,7567200,7526200,10543800,8505400,5550000,4904600,5808800,12150000,9406800,6697200,6315400,13569000,8995400,8503200,5603400,4089000,5137600,9683400,6798800,4803800,9889000,8470400,11109400,11947800,12822600,9546200,10199600,14988800,9181800,10669000,12700400,7770400,6984400,6699000,6722200,10932600,15241800,14095400,15163200,9706200,8121600,18238400,25961200,15564000,10396600,14370000,34988200,265069000,86610600,72795600,52368200,31189400,21881000,21342600,24683400,42801200,42548200,44564000,29298800,21495600,29803800,53818200,28270400,19694000,28736200,23720600,25780600,26594600,22832800,31649000,20553800,21105400,18423400,14060000,10786800,15082800,17035400,15080600,15423200,14611200,10086600,8554000,15943400,14581600,10786200,10029600,5751800,9244000,9618200,17586200,28922200,13783800,13273400,21932200,49092400,14606600,15568200,11884000,13803400,12327200,9406600,18363800,11645000,13367200,20196200,13102600,11369600,7745400,11626000,10910000,22518800,16161800,29181800,26411000,14731000,13350000,21040600,20743400,28707600,15121000,10940000,30037600,43822800,27748200,18551600,31418400,25616200,17495000,17245600,30562800,24734600,26106000,13205400,15263400,10228800,16528400,14071600,21585000,21082600,9795600,8470600,11040000,11123200,9428400,11249600,13947800,15431200,10503800,7380000,12451000,18157600,11803400,14511200,11587600,26144600,14985600,7325600,10685400,13967800,15840600,17065400,18906600,16806600,12722800,17833800,13265400,25839000,33749400,26230400,19422200,20880800,21895200,14298200,12175400,13167400,24481600,15955800,11603200,9520800,16334800,11932000,10676200,10186600,24471400,39315800,66916800,24764400,19340200,13469200,11813600,28560600,16179000,17670600,15259000,13161600,10769400,10037600,9876800,11265600,11603200,10320600,7251600,11043600,8465200,11511800,11861400,5680400,16464200,14747000,10037200,9705600,5669400,18428200,27752800,15817600,16288400,10068600,16849800,7970600,11613600,12236600,10500000,10849800,18267400,10619600,16236600,12354000,11467400,15415000,12190400,10215200,15698200,9742200,13361800,12443200,18406800,8216000,4019400,5439000,10818600,12052400,14116800,16803800,21957200,16240800,9952400,23136800,40607600,30755000,15878000,8620000,12442000,15852800,13183600,11933400,8691400,8393800,10862000,9003200,6644800,3559000,6019600,9863200,7166600,6677200,5285600,8176800,10331400,10289000,7443800,9010800,6632200,6213400,7752800,10369000,6273000,6133400,8570400,13167600,7746600,12436200,12859200,10084600,8636800,11030200,16357400,11682200,13332800,14684800,20375600,10519200,13371600,17635600,11508600,13039600,7436000,8424400,24394400,14325800,12238800,7428000,6215200,10991400,11934400,10279000,11384000,7248200,10197800,21877600,5956800,13997800,24463600,13372400,9105400,9963000,8542200,9884400,9776800,11178400,7043000,8421200,11286400,13678200,12219400,4796200,7196400,8024000,7898200,7608200,8238000,11878200,9878000,7199400,2143000,16453200,9591200,8950400,7241600,10854000,6470200,13586400,20306400,12104800,7268400,6071800,7338400,6873600,7065800,6781600,6204000,8401400,10355600,7888000,9154800,1808200,5228600,6839600,10683000,4920800,18910600,21857400,14642000,15878000,16072800,11708400,16169200,12457200,14857000,10368600,20246200,23592000,12100400,11689800,15831400,12285800,6639800,6658800,8583000,16842000,16730200,14225200,18656200,16317400,21342000,12422600,12690400,14235800,8010000,11174000,9291800,9292400,13937800,10194400,15955400,14517000,15244600,9290400,36791400,16319200,12464000,12437800,9810800,8078800,9223200,9634800,9385200,9073400,7170200,7760600,8603600,10877000,8655200,10511400,22012600,7221200,9386800,9208600,4560800,3873400,7108800,7278400,7661800,12089200,9941000,9339800,6840400,8035000,14544800,11437200,10691800,21949200,14151800,14346800,13407400,9622400,8338200,5016000,6935800,10892200,9724600,10034400,7668000,8548000,8242200,8916600,8669600,15595800,8022000,8407000,9486000,18803800,11993800,8109000,8446200,9639800,10035400,10388400,13192800,5934800,5347000,7921200,7013400,13053400,8396800,12422200,9895800,9285600,21870600,9913400,12482000,18882800,12574400,15175000,11593200,12620000,61052400,14165600,15899200,15426200,10757200,19962600,8987800,9637800,7953200,10899600,7108200,5773200,7543000,8098200,7388600,13345600,15839000,10571200,15956000,43410200,19980800,13757400,15389200,14281800,14521200,17119800,7418000,9820000,12672800,11096400,8177000,6395000,7286600,9716200,11909800,8119600,7347000,6420200,9638200,14253000,11502800,8758000,7734200,6665200,7229600,9225400,5830200,6784600,9365400,8856200,5863200,6911400,9890600,15023600,8077800,6485400,5651600,8909600,7229000,9636800,10105400,10237200,15285600,11737200,7355200,12599600,9418200,8952200,9095800,7451600,7362600,8489200,12229400,8191000,7782000,6815200,8739200,16201600,12738800,11484800,10524200,6943000,14482800,10986600,16760600,10296400,8518600,7791000,7465600,6241000,9966800,12475000,9256400,9667000,10565600,6779600,13457800,7524800,7728200,12006400,6788000,5463400,7992600,8276400,5061200,5749800,5877800,7534000,7455000,14945800,8137800,7122400,8580800,10242800,5122600,14240800,8138200,11634200,8692800,8762800,8431600,11021800,9053600,5333600,5885000,8986600,7952200,5382200,12411400,11360600,4493800,1405000,3050800,2858400,5537200,7168800,6479600,5266200,13947600,12226600,8201600,7687600,6253600,6390800,6673600,13254600,19966800,9527200,9052000,7683600,8152000,10909600,13978800,10223400,13323000,14537800,12186600,9456600,11336200,7914800,6398200,9632200,5996000,5885000,8167400,7446200,8689200,10389200,8584600,8012600,5623000,6437600,6737200,7753400,5512200,6967800,7277200,4514800,4524400,3566400,7178000,4806200,5756800,7948600,11980200,5467800,14282600,8213600,5047000,5827800,10641000,5753600,5989200,6369400,4371200,5189400,9166400,5512200,6120400,5204000,5215000,7030800,4604800,5240200,3825000,49739600,17962800,10856000,36292000,22009200,5440000,10734600,7488600,11611000,7332800,22742800,16365600,16363400,12241400,11470800,55561000,54089000,37656400,24562000,21013800,14977600,15957000,12696000,10178400,12201000,15924600,14865000,10893200,6373600,7382800,10361800,12131400,11920200,13669600,14949600,12887800,9685800,7339200,8621000,9284000,6308800,8039800,9021000,6830200,8518800,6338000,16249400,13626000,12733800,10977200,18370800,11779000,5775200,13064000,7934000,6464000,11617800,4920400,10224000,9169200,7630200,6104800,4887800,6728800,7380200,8961800,26829000,10672800,6564600,7086600,5108400,8187000,7738800,6084200,7040000,6199800,10766600,5343000,8218400,8908600,8766600,6227800,4916400,4901000,5872800,10146400,6885000,4495200,6884800,4774600,9757600,9118800,8938000,4920800,5891400,8060800,11415200,9398400,8647600,9601000,7135000,8576200,5973000,6441800,8031800,7631600,6428200,8101600,9607400,10335600,9032400,7355600,6422200,4730400,10760200,20513600,12401800,13060800,10193800,8432600,7287800,10700000,9583200,14934800,15309600,12419600,6244200,9995200,9836400,21789400,34845800,12850400,9969000,6302200,5771400,5900400,7852000,5786200,8989800,9538600,9305600,7791200,10815800,8901200,11516800,14181200,7505200,8367000,7681200,10714400,7599000,8466000,8152000,9542600,12306600,8556800,8637000,13636600,9594800,8754600,2717800,12912000,7332000,6832000,6355000,6649200,5294200,4826600,9690600,6540600,6881200,13889600,13355600,9795000,11818400,16198600,13466600,11017800,6338400,3703400,8337800,7316200,6230400,5165800,14107800,18191000,20959800,16439400,15266400,17412400,24250600,22144400,36364600,13315000,11283800,8095000,7321600,8113200,9688200,10966800,9835800,7596400,6617800,10265400,6457600,10912600,12601600,6905000,6723600,9119400,12448000,6571000,11285000,6105600,5058400,11538600,9914400,6931400,9252000,9867000,7086000,16744200,11488600,9167400,8040400,23579400,55021400,18674000,22084400,35963000,21280400,11758000,17204200,21622600,14694000,11467200,14592000,14965400,13768400,15293400,20230200,14996200,12526000,12845600,13956200,11369000,9802800,13774000,9214000,9111400,8604200,8233600,15585600,22847600,62908800,14390400,25441200,12661400,11638400,12306600,11279600,8254600,10138000,8256000,16456800,16660800,10629800,9999400,8503800,9412800,14965600,8927800,10899000,8765000,8209000,9207200,10730200,7359400,13414000,7010600,6424800,8414400,11427800,11506000,8427600,5204200,6504800,11382600,8961800,14254000,10567000,14843600,12471600,9199200,8713800,15879800,32487200,19690000,14509000,13936200,12875400,13959600,9018400,11551000,18610600,21091200,13323000,12212200,32524400,12463600,14214000,8335000,7459400,18272200,11292000,29850000,63133000,17442200,19041800,11562400,10759200,11932800,9770400,14069000,15178800,10180400,7934200,8679400,13039000,7558200,9874600,8732200,17581800,10387400,12537000,11514000,8078600,11716000,15559800,11536400,13023400,13890000,11313600,9095000,13362000,18057800,34137800,13886200,7790800,13448600,18418800,14511600,10481000,10784200,12268800,16476400,11714800,10070600,9100800,8309600,17925600,17939600,8750000,13809000,14346000,14193000,13196000,14197000,12613800,9768200,15179000,16621600,20503000,14505800,15939400,15219600,12829600,11566800,16435400,41536000,98872400,36826000,42884000,28642600,21611000,25875200,17252400,14023000,21227200,42624800,30866600,28936400,21501800,26071000,43006200,33165200,43037400,18818600,16991600,18167000,14546400,14132200,13430200,10539400,14205400,16398200,27331400,91721800,32551800,49671000,19648000,61175600,36732800,28591200,35265800,44244600,44568600,37746400,24710800,26482200,27706200,14108600,14847200,14227200,40218400,27982000,41718800,38014800,20208200,8783200,19981800,21848400,16055800,12333600,9949600,24714000,39171800,24301200,25198400,79551800,61618200,93272400,68560800,113025600,63240800,35945000,26853400,32675800,32547600,30058200,34615400,26410600,17722400,28629000,60039200,24228400,36430800,26130400,20127000,18730600,31786400,42552000,39036400,42894800,45409400,82579200,58544400,54231200,41544800,43546200,48042200,54251000,32696800,23271800,16721000,16362900,50416200,27022100,16094000,36480400,47230900,27753900,22601100,21620900,18164600,24921900,28640000,33576800,19326000,19693400,21779400,12596600,9836100,16477000,14105700,22719100,22903000,20714800,19865700,14815200,18106700,23212500,29345100,35037900,48998100,98328300,61717400,47399200,38630100,33754700,27128300,29968900,26659300,28946700,21924600,20539500,23986800,16640000,17740700,16006300,13834500,11651700,12703400,15723700,72927900,34651500,25096900,16939100,21012300,22740100,28327200,16166100,37234800,21195000,14143100,18768600,11286000,14435900,16207600,13356200,34173900,28998800,26616600,14428800,13937700,24247600,15563300,12423100,20119400,19559800,21290200,11561300,13233100,15175900,24080500,14668200,21434700,12510700,16012800,14942500,8928600,16223900,14093800,13704400,10383400,13885300,13822800,24458400,74859300,24560100,20939200,23966500,16192700,14438000,10753800,10522400,9592600,10133900,8975400,20074300,11223200,10602700,9225800,9618000,8640400,6299400,13601400,12890900,9713700,32715600,38811700,19200800,17847300,15805700,13448900,13847600,10557300,20431100,9866200,9323500,9153400,18527200,14391300,12727400,7942100,29236400,34395500,25094300,21987200,16171300,17603000,16943800,14827000,21107300,27990400,29279600,15526700,16561700,19944900,19520100,12203700,40198000,22744500,18986900,18126900,19266400,21813200,27054900,24210100,18125200,43781600,96338800,66627700,36984000,22029800,21771000,36024400,48491500,28454500,21776900,16611700,22556900,14697900,27492400,33601600,26774500,30609300,31585100,31358400,22815400,16920200,19747500,23762300,15194600,13211900,19172900,28018400,24150200,18748700,18275400,19295800,17351900,14107600,36375700,31836900,21274100,29031900,31991500,20845400,30608200,24266600,28231500,19835800,18749800,17636300,51811300,20041500,23970400,18903400,17111000,16990600,13236100,8209200,21092500,14218400,17500900,22295100,28829800,22128700,16050800,25159200,24108600,81423900,53349800,45743200,27725200,29843700,42879900,60566000,40527100,37847500,40794800,45563800,42192400,34066600,49942900,32626500,18613800,25261500,24718700,58991700,49601100,34039800,41063000,62874200,31553500,41462100,41420400,33863400,20571400,27843100,34937100,30604200,19098000,28258600,45249300,27279200,22331200,26345300,32595200,31174200,23330400,28546600,37255100,30756700,22929300,31857000,26772800,29001500,21622900,47991700,48067700,50993800,38285000,39574000,48940100,83815500,49666100,29119900,29135400,33283000,79764600,95134600,55187100,32268400,33547000,26424800,26238500,25783500,28387300,38786900,59535100,28178100,25251000,18895100,25388800,30212400,27144200,26799300,27559400,24535400,30729300,20139700,21244700,18988100,16424600,29024600,22920500,18899200,33455000,26935500,23515800,35209500,25677700,24800500,32715400,16549000,15462500,20121500,45749200,33661000,24492400,21635200,25929900,26803800,49910100,27708500,25635200,38594400,31362000,42513700,29932200,25163400,24034800,30832000,34486900,23578700,16662000,19664700,30382300,31192800,26417700,6956100,18508600,22614600,28548600,18905200,29465100,33118900,44639500,35465600,36590800,35730300,49669400,70433800,31853300,25816300,21038200,32086700,26251600,24696700,31887200,25420200,19670300,30037300,66173800,44482600,35638000,34137100,24920000,27768900,25629300,30762600,27903000,20755300,19155500,18793800,20606000,19152100,23399700,19427100,26362900,33833300,24290800,20524900,14589100,36159200,34789400,45284200,31997200,33897300,60167400,40933500,28633200,35066200,25188500,25358900,29385400,28361600,23754000,30678300,39391000,28941900,25843200,14493300,25451400,28239600,29610100,24424400,16677100,15650800,18985300,20423400,21173400,24435600,18167600,17175900,40496700,54034900,22836200,29732400,16543300,17329100,15455600,21248800,17854200,17909800,21828300,16624400,15424600,15520600,18783300,24675600,32966200,13352300,16095500,21034100,23404400,24783600,16658000,20385500,22238100,23997900,18524200,38387000,37006200,41324400,31088800,28395700,25340600,23672800,22792300,35886700,28009900,17849300,36665000,30609000,29726100,26426400,25770600,32550200,20274700,32271400,21903700,17524600,69134100,39995600,38443900,44225700,30259300,29812200,28468100,119617800,105460000,51437600,46881800,44431300,58795000,84450200,48731200,51929500,43122300,33136200,32356200,35245500,32202300,20641800,30573900,23726500,22197500,20673300,30871200,38100900,24251100,30733600,25859700,20749500,18142200,12987900,14281000,22060800,41261200,29936600,18496200,21994600,40921900,32838400,50554600,30714300,29960700,25828100,22367300,18250400,16137000,26050300,30996100,28449500,19982100,20418000,25462900,17461300,24532000,20053300,16103000,30892400,33287600,33654900,25918700,21448500,17928300,20854800,17028000,12697000,14762200,12588100,19607800,23452700,25712200,21751200,26854300,16573000,15211200,18670700,27867500,37687600,42398000,62063500,24978700,22018200,19018700,18040900,20574200,13642400,30769900,27999900,25634200,42759200,23346300,23283800,34089800,40241700,26260400,22190900,22853300,20443200,32549100,31691500,22605700,23060500,52801600,46323800,31616500,31666900,32885200,39722900,68395700,44345800,66937800,50948800,61476900,34759500,28972100,32521600,33679500,32054000,30965900,22567000,34478700,48035900,34810600,29933700,40637200,35530800,41517200,51894700,31239100,35565000,44821700,29349000,25164600,32414500,33432600,25355700,27030600,26174700,41706200,37017500,64117600,53435100,78093900,41467800,39535300,62942600,62505600,30451600,24256700,33041800,33926300,28860600,40192700,50383900,26889700,26393100,35459000,66667500,42680800,28689900,46537400,37920200,30958500,32565500,25265700,42120200,41673600,51270800,31317400,47030100,83150800,67902200,51092000,53137100,34710200,36527500,23434400,21690000,28334700,38003200,36674300,24708600,40674300,37577200,42591100,34831000,23507100,21967900,29895300,28288200,24732800,23462800,33695400,29854600,39438800,23842500,58714000,35292000,38497500,38136800,40271900,29417000,46135000,58910700,64113000,46017200,34771500,25219800,19305500,33550500,29761100,28751300,35789800,28720600,34097400,35473400,67458500,54458700,63057700,62034100,51695400,53095600,49391300,41196800,55130100,43493200,16634200,46634100,47036800,41104000,37533100,42421500,34338200,27635700,31871500,32136100,38073800,25799200,39675900,43773600,30879200,24082600,36596200,43664400,29552800,27644900,35498600,17150100,25133300,28411700,24987400,19261900,38542100,30073800,51994000,74006900,54422000,64781500,52963400,44010200,39301800,83688500,79065900,62780700,61583700,86955500,120463200,71638100,55526400,52673000,39285100,44394700,48059800,36098000,32115500,40751500,56188300,74404700,48427600,42908300,43785000,34590500,34074900,32189300,35894500,34551400,33504100,54638500,44884800,53746000,52683500,57794800,44838600,56894400,63763700,43637000,52632100,43945100,35699600,41569400,37843900,45075100,41308600,38307100,43040000,36090600,32456700,38104300,37585400,42217300,35708200,25521800,27430900,36877400,37320300,37556000,30514900,41368800,36224800,31192800,34134400,43217000,30181700,24929900,28420500,25152400,36670200,37112600,51413300,53721100,60573800,35445500,28114800,32981300,40697300,32270600,35931500,30519900,32816800,41326200,32110200,24038300,29234400,29401300,32743700,31186000,27348900,33779300,34637500,41344900,43097700,32389900,28210900,26570700,23113800,21792300,24280000,26804300,25963700,26980200,34438700,67442600,40728600,34341100,46726200,48069900,37561800,32130600,28981000,28283900,31727400,23063600,22212400,23016100,31057500,37223200,24435600,39688600,29911400,18691500,29299700,31726800,31992000,30024600,33214700,31644800,37144400,26706800,27054500,31014800,48588200,67128300,37920300,29986400,22629900,27882600,24431100,25899400,22767800,19451400,21161700,24584700,28264600,24013300,25499900,31832300,29867100,30083800,25403600,25294700,19714800,22007300,18105400,19276600,15700400,17300900,15912500,17063600,15406600,21403200,27884400,26244100,26549500,28103000,37356400,44465200,34755100,34683400,28322400,32879800,42851300,42873400,59866200,51102700,30596900,45727300,37393400,35930200,40230400,93644900,58095800,46303000,57477300,81942800,75264900,67099000,78847900,57763700,79260700,54967000,70749800,56577700,70732900,62936700,55280200,78345000,80314600,59836800,56787800,43170400,58361900,69677800,58503200,59277000,37783500,49952900,44873400,47109800,39116200,40136500,43733500,42106300,66217400,50188100,41518800,43203400,41853600,61314800,56045400,51509200,44117600,32137000,10634800,32991700,41025800,47810000,38977500,37278400,42326500,42982000,33501700,37164900,37184800,31848500,39053800,46209300,30622000,28640000,30169300,22679700,9690500,11011600,24500000,34557200,21697900,26643400,42200300,46046800,26894600,23912000,19530200,22061300,28514200,36488000,65415500,37415200,32854100,38902500,50340300,27277500,24722800,22072800,30764500,21168900,23267100,19937400,21403900,28872200,26758800,24543200,25536100,30323600,24106200,29185300,21749200,24222800,24456400,32957300,26797000,28106500,28825200,29751900,22495300,25237800,27533200,25869300,26478700,25246400,36112400,24939200,30152100,30227600,27444900,21470300,28473000,28094500,28429900,17863600,24842400,23799900,22879000,23093500,22009000,17602600,17957000,20338500,21049000,29013100,22722900,23502300,19163600,16272500,18955600,13901300,16236500,14745800,21194500,17767700,16659500,16810200,33527400,33755600,19313000,17167500,16280600,16361100,17803200,14197000,21762800,14223400,16912100,18992000,16713000,14452100,21767200,21284700,15993800,13127400,16387200,13300800,13878000,14569500,10642800,22747400,23086500,17412600,16304800,16160700,16293700,20185700,19665500,22597000,33273300,24177300,24593700,18743700,20110200,19276800,18385900,20407600,15274300,25780600,22675500,25233300,17340200,21051700,15692300,20272000,15508000,14792100,13231400,17810300,16485600,20568900,12250900,15902700,17267900,12401700,17342400,14056100,21505500,26268800,31242200,31218000,18820100,15655800,15475400,12984100,13648500,16771600,15090600,14080000,14136100,15113700,12200600,13834100,10724800,12690800,15895400,15713600,10922000,18727900,15398300,14759700,12215400,14859800,14533200,11584100,10857100,16042200,16203600,11119200,16751000,13008900,10498400,13379600,11251700,28967400,17540500,12462900,11500400,15231100,26929400,28949000,21485100,15632700,12741200,21198700,19674300,15901400,12051600,12335200,19270900,18739700,19761000,15111900,21610200,16631000,15650400,10474000,10286600,12429300,13411100,13341300,15408100,33651100,40751400,42633100,28264000,15028100,17297800,27019700,29228100,20366800,25625900,24249400,18662200,17411800,13742900,10539200,18887700,14328400,15852500,12990400,12258600,17328800,14161200,13368600,19368800,14523800,16960600,11372800,10230500,10544900,15173500,16634400,25545000,16025700,29531600,25527100,24657100,24456500,17488200,15349100,17706800,14980700,12606600,13887100,21741800,21853800,12482700,12340200,17888900,23020200,15900200,14717300,12586100,17633200,21496600,19720000,17040400,15986100,16508200,21230700,21639000,15460500,21216700,26071700,21862600,21719800,31491700,38060700,66682500,61520300,41910800,44498300,26781300,24940800,21976000,27059000,30368100,17081100,22603100,13227200,19655200,23409600,19419200,15585600,15100900,14838200,13948700,20539100,16448800,23754500,18123600,19646200,20233800,13287600,13072900,32129300,15353200,32866400,21293500,14489300,14868700,17625100,15961000,16105600,12218200,19980200,16300700,21515400,21349300,19367300,22888400,19312300,18832500,15380700,21540900,24446700,15964900,22446500,20463900,11935100,11893800,10936100,14431300,13456600,26805200,20247300,26368800,35085400,28336600,28462700,17109600,25333700,27085800,19958600,19373700,16226500,25850700,31539400,45923600,59857800,35153800,30318100,23370700,21418300,27120100,27244100,27952800,36633100,45818400,43710400,26937100,37428800,30380500,23795800,29129100,31302600,24591000,23218100,27082300,31676500,35741800,30522500,27727000,19491400,21534300,20895500,27988500,31173400,28022200,27731800,25616500,27444900,25509900,19640800,20891000,40476600,26409000,36532000,24780100,21972700,23377000,26362300,15475800,20102800,42533000,29001700,29459500,37137800,36588500,38391100,42345400,23047100,19049600,15019700,20884700,18570900,22993100,16007500,15287700,14916200,15013400,10324900,15889200,10826000,16140000,22144800,19104300,12673900,11372500,15094300,12132000,15239500,13722500,14787200,21520200,21316700,16660900,19585400,13688900,15028100,24894200,14836700,18599600,12234200,18805400,15663400,13840800,13885000,14576800,15334600,23289400,22659900,23524200,23859800,20903200,28075600,23196000,17244100,36965800,16773000,24049700,16005100,15546500,17927400,23959600,14585700,23514400,15276900,19948000,22503300,15546300,32935500,39036100,44028000,25772300,19695000,13313500,14016500,14033200,14250100,19680400,15375400,15138900,15497500,18155300,22946000,12901900,10062800,13698000,13722400,12903000,28423100,14414500,23487500,17123200,17660400,13744400,14038400,18551700,14775900,8485200,15920900,17923500,16491100,16529900,12217600,16017200,13980500,11497700,10505400,9375400,15707700,12536000,14904000,11501100,13818900,13771800,9155500,9497200,7969900,8922000,6283000,5826400,5624800,6911000,15897800,11038600,9125700,10729600,11140400,16020000,15861000,10806800,10599300,11030000,67178500,40557600,27313900,26942900,20524400,19531000,18102700,10179500,21144900,13473100,15236900,9248400,14064200,11494300,17322200,13608600,17240900,33162500,13127600,11086300,10149100,17184200,18949400,29144900,31162700,23994800,17853600,13572100,14395500,16290600,21521100,17885300,16188100,19504400,12725600,16189500,18126400,16824300,15569900,25752900,41500400,23550800,26900500,14621500,11640100,13321300,14454000,16032500,11048400,12603600,11764500,9786400,14952200,16431600,17240400,14376400,13337400,13483400,14248100,15201400,12365000,10778600,16200200,21782100,14977800,25023800,26921800,9519500,12100000,12721900,12891400,35940900,15811200,11191000,13901800,11998900,10004800,7312400,10074700,12000000,11500000,11647000,16063400,16154800,11956300,9327500,12070300,13700000,11497400,10508000,7948600,7271400,14919800,19810100,12099400,11187500,16497900,18920900,11918700,9824600,15498400,11773500,11948900,14257000,18235400,21965000,22880200,17620800,13949400,19991400,15707400,12136200,10510700,12590900,11534100,15546900,12680500,15879500,14273700,17497400,15809800,16128900,13987100,15376200,17302400,20451900,29255200,33619300,18804800,18454600,21064500,17020800,23547300,21215500,22592300,21887000,22840700,26161000,31121700,43021100,40851200,38663700,31380600,26498900,18892000,16448000,17812500,15787900,30408400,27710300,19118400,23458400,22366700,31119500,22909900,14473900,14925800,18663800,12275900,15676400,18203500,12520600,14862800,20171900,16708300,15734300,19097300,14922100,24946900,29423600,27705500,21642000,34588600,19509900,29031300,22589200,15344200,23253100,19558600,23896400,44059900,28088200,29020800,19123500,15804100,21631700,22224500,15220900,20477400,24501600,31485800,39430700,19616800,22187300,17933500,15372400,16296600,17666600,11530100,13767900,18992500,11723400,15763800,10793900,9652700,14301500,19953000,26598300,23349500,15460900,15386100,12471800,17139300,13283500,15999300,14607900,15295400,9098600,12371900,13423400,14497800,13827900,13537700,12757500,10128500,10883800,13441300,10606900,10752400,12104600,14531700,9150000,15052800,8411800,12043400,9391000,7227100,9621400,9467000,8166500,7713500,6416500,10793600,9286500,9688200,11367600,14072300,9221300,7681600,7592400,8072200,8674900,9885400,9347800,14784800,10930800,19558500,34225500,11570900,10703900,13547900,13988700,9644500,6671300,10235700,8907600,11293700,14567500,31579100,22546500,18472000,16442800,53790000,33734000,19135900,21628400,17260800,20286700,14824000,19556500,21442400,34000400,24402500,15418300,28897300,28937100,28518600,18444900,14961400,14545800,24673400,50673000,41418500,29481700,32187000,29166500,23001500,22281100,15374600,21276500,21683200,23409300,21722800,26108500,21369700,29805700,20463600,22903500,21340600,31775900,24879100,21940600,30701600,37528100,36626000,34090400,29811400,36820900,34518900,38433900,32349200,19145300,14525800,18076600,21821400,15263900,13948200,18928300,16432800,17759000,17168000,11900000,14269500,12593800,17012000,20032000,25615000,26153300,22539500,24816800,20889200,17722500,11732400,13589600,18908200,17559800,18606700,19892700,13864800,14337700,13563100,12411300,21116600,15549300,10485000,12341900,11973400,15729000,12907300,12819400,11655400,10159700,10870800,9876300,7249900,10101300,15053600,14289000,8632600,17299400,14961800,13550200,18284200,16761500,15287200,11122400,10759300,10486600,9025000,15602200,14195400,17427700,20183300,31332600,14522600,14426300,13540800,16511700,13732200,11862800,12318600,10789400,10373100,8739500,7915800,6962100,9958300,12148900,9190800,9090500,15812900,21906600,29025700,20190100,15004600,15619300,15250300,9550600,7243100,10810700,12082900,13139000,12013400,13971300,11773800,17428500,17999400,25436900,21370000,21445500,14215400,13339400,11674100,12020300,20413900,22848800,18528200,20589400,21217500,19111100,19414100,22428300,15152900,13240200,21214500,22785500,29949900,18227000,19502900,16429100,15446500,19634700,13894200,17022300,26574500,19526100,25255200,19947400,23440200,36372600,18214400,12903500,21406200,18897700,13389900,28344600,37719500,33211200,18421500,19033900,17041800,28211100,45246200,29404200,22955500,13321500,9743800,22520700,19047500,18602300,18382100,13975700,13010000,19895300,37308500,42043300,28108600,22517300,21155200,17398000,22330700,36056400,27057400,22345900,16048900,17203200,21295300,6276900,10801300,16254300,12652800,23553300,20018500,12605900,21226200,17291300,16382400,14557300,21469500,12518100,26221700,31313300,24671600,16202800,16890100,16483800,30768200,52173300,43143800,28054200,20398500,14898400,11404800,19267300,17039900,20476700,21203800,25163600,22612800,18481800,21751900,16971700,12688400,13990900,15563700,17010800,15970800,11809100,13306400,17910700,20976800,11518400,19730300]},\"selected\":{\"id\":\"2265\"},\"selection_policy\":{\"id\":\"2266\"}},\"id\":\"2154\",\"type\":\"ColumnDataSource\"},{\"attributes\":{},\"id\":\"2246\",\"type\":\"AllLabels\"},{\"attributes\":{\"axis\":{\"id\":\"2132\"},\"grid_line_color\":null,\"ticker\":null},\"id\":\"2135\",\"type\":\"Grid\"},{\"attributes\":{},\"id\":\"2247\",\"type\":\"DatetimeTickFormatter\"},{\"attributes\":{\"months\":[0,4,8]},\"id\":\"2262\",\"type\":\"MonthsTicker\"},{\"attributes\":{},\"id\":\"2137\",\"type\":\"BasicTicker\"},{\"attributes\":{\"active_multi\":null,\"tools\":[{\"id\":\"2140\"},{\"id\":\"2141\"},{\"id\":\"2142\"},{\"id\":\"2143\"},{\"id\":\"2144\"},{\"id\":\"2145\"}]},\"id\":\"2147\",\"type\":\"Toolbar\"},{\"attributes\":{\"axis\":{\"id\":\"2136\"},\"dimension\":1,\"grid_line_alpha\":0.5,\"ticker\":null},\"id\":\"2139\",\"type\":\"Grid\"},{\"attributes\":{\"months\":[0,6]},\"id\":\"2263\",\"type\":\"MonthsTicker\"}],\"root_ids\":[\"2121\"]},\"title\":\"Bokeh Application\",\"version\":\"2.3.3\"}};\n",
       "  var render_items = [{\"docid\":\"cc421938-6ab0-4626-849e-3876b63858b3\",\"root_ids\":[\"2121\"],\"roots\":{\"2121\":\"ddc91d7c-8e8a-4976-b1fe-00fba70dbed3\"}}];\n",
       "  root.Bokeh.embed.embed_items_notebook(docs_json, render_items);\n",
       "\n",
       "  }\n",
       "  if (root.Bokeh !== undefined) {\n",
       "    embed_document(root);\n",
       "  } else {\n",
       "    var attempts = 0;\n",
       "    var timer = setInterval(function(root) {\n",
       "      if (root.Bokeh !== undefined) {\n",
       "        clearInterval(timer);\n",
       "        embed_document(root);\n",
       "      } else {\n",
       "        attempts++;\n",
       "        if (attempts > 100) {\n",
       "          clearInterval(timer);\n",
       "          console.log(\"Bokeh: ERROR: Unable to run BokehJS code because BokehJS library is missing\");\n",
       "        }\n",
       "      }\n",
       "    }, 10, root)\n",
       "  }\n",
       "})(window);"
      ],
      "application/vnd.bokehjs_exec.v0+json": ""
     },
     "metadata": {
      "application/vnd.bokehjs_exec.v0+json": {
       "id": "2121"
      }
     },
     "output_type": "display_data"
    }
   ],
   "source": [
    "# set figure and specify x-axis to datetime\n",
    "h = figure(x_axis_type = \"datetime\", title = \"Volumes\", plot_height = 350, plot_width = 800)\n",
    "h.xgrid.grid_line_color = None\n",
    "h.ygrid.grid_line_alpha = 0.5\n",
    "h.xaxis.axis_label = 'Time'\n",
    "h.yaxis.axis_label = 'Volume'\n",
    "\n",
    "# input data to plot\n",
    "h.line(dates, AAPL['volume'])\n",
    "\n",
    "# show plot\n",
    "show(h)"
   ]
  },
  {
   "cell_type": "code",
   "execution_count": null,
   "metadata": {},
   "outputs": [],
   "source": []
  },
  {
   "cell_type": "code",
   "execution_count": null,
   "metadata": {},
   "outputs": [],
   "source": []
  }
 ],
 "metadata": {
  "kernelspec": {
   "display_name": "Python 3 (ipykernel)",
   "language": "python",
   "name": "python3"
  },
  "language_info": {
   "codemirror_mode": {
    "name": "ipython",
    "version": 3
   },
   "file_extension": ".py",
   "mimetype": "text/x-python",
   "name": "python",
   "nbconvert_exporter": "python",
   "pygments_lexer": "ipython3",
   "version": "3.7.11"
  }
 },
 "nbformat": 4,
 "nbformat_minor": 2
}
